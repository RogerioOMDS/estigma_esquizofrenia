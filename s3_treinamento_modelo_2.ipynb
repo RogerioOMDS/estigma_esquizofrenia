{
 "cells": [
  {
   "cell_type": "code",
   "execution_count": 1,
   "id": "023e3fdc-ad1f-463b-854c-cfe3561ca7bf",
   "metadata": {},
   "outputs": [],
   "source": [
    "import pandas as pd\n",
    "import numpy as np \n",
    "import matplotlib.pyplot as plt \n",
    "\n",
    "from sklearn.metrics import classification_report, confusion_matrix, ConfusionMatrixDisplay\n",
    "from sklearn.model_selection import train_test_split \n",
    "\n",
    "import tensorflow as tf\n",
    "from tensorflow.keras.backend import clear_session, sigmoid\n",
    "from tensorflow.keras.optimizers import SGD\n",
    "from tensorflow.keras.wrappers.scikit_learn import KerasClassifier\n",
    "# from keras.utils.generic_utils import get_custom_objects\n",
    "from tensorflow.keras.layers import Activation, Dense, Dropout\n",
    "from keras.models import Sequential"
   ]
  },
  {
   "cell_type": "code",
   "execution_count": 2,
   "id": "7d9dcb6b-55ab-4d51-b866-217710b48103",
   "metadata": {},
   "outputs": [],
   "source": [
    "def plot_history(history):\n",
    "    \n",
    "    acc = history.history['accuracy']\n",
    "    val_acc = history.history['val_accuracy']\n",
    "    loss = history.history['loss']\n",
    "    val_loss = history.history['val_loss']\n",
    "    x = range(1, len(acc) + 1)\n",
    "    \n",
    "    # plt.style.use('ggplot')\n",
    "    plt.figure(figsize=(12, 5))\n",
    "    plt.subplot(1, 2, 1)\n",
    "    plt.plot(x, acc, 'b', label='Training acc')\n",
    "    plt.plot(x, val_acc, 'r', label='Validation acc')\n",
    "    plt.title('Training and validation accuracy')\n",
    "    plt.legend()\n",
    "    plt.subplot(1, 2, 2)\n",
    "    plt.plot(x, loss, 'b', label='Training loss')\n",
    "    plt.plot(x, val_loss, 'r', label='Validation loss')\n",
    "    plt.title('Training and validation loss')\n",
    "    plt.legend()"
   ]
  },
  {
   "cell_type": "code",
   "execution_count": 3,
   "id": "6cd3d0a5",
   "metadata": {},
   "outputs": [],
   "source": [
    "import pandas as pd "
   ]
  },
  {
   "cell_type": "code",
   "execution_count": 4,
   "id": "964bc28a-024f-42b0-ad2b-e5acc4a3b182",
   "metadata": {},
   "outputs": [],
   "source": [
    "SEED = 1\n",
    "\n",
    "dim = 600\n",
    "# base_vetorizada = \"base_vetorizada\"\n",
    "base_vetorizada = \"s3_base_vetorizada_600\"\n",
    "\n",
    "pasta = \"bases_treino_teste\"\n",
    "arquivo1 = \"tratado_links_folha_rotulados_base_estigma_resgatados.csv\"\n",
    "arquivo2 = \"tratado_links_estadao_rotulados_base_estigma_resgatados.csv\"\n",
    "arquivo3 = \"tratado_links_estadao_rotulados_resgatados.csv\""
   ]
  },
  {
   "cell_type": "code",
   "execution_count": 5,
   "id": "86318240",
   "metadata": {},
   "outputs": [],
   "source": [
    "tf.keras.utils.set_random_seed(5)"
   ]
  },
  {
   "cell_type": "code",
   "execution_count": 6,
   "id": "3ea7f0de-7fe4-4006-9f80-f46b3c7b69f9",
   "metadata": {
    "tags": []
   },
   "outputs": [],
   "source": [
    "df1 = pd.read_csv(f\"{base_vetorizada}/{pasta}/{arquivo1}\")\n",
    "df2 = pd.read_csv(f\"{base_vetorizada}/{pasta}/{arquivo2}\")\n",
    "df3 = pd.read_csv(f\"{base_vetorizada}/{pasta}/{arquivo3}\")"
   ]
  },
  {
   "cell_type": "code",
   "execution_count": 7,
   "id": "78a3d880",
   "metadata": {},
   "outputs": [
    {
     "data": {
      "text/plain": [
       "0    1032\n",
       "1     309\n",
       "Name: metaforico, dtype: int64"
      ]
     },
     "execution_count": 7,
     "metadata": {},
     "output_type": "execute_result"
    }
   ],
   "source": [
    "df1.metaforico.value_counts()"
   ]
  },
  {
   "cell_type": "code",
   "execution_count": 8,
   "id": "b70f39e1",
   "metadata": {},
   "outputs": [
    {
     "data": {
      "text/plain": [
       "1    173\n",
       "0     22\n",
       "Name: metaforico, dtype: int64"
      ]
     },
     "execution_count": 8,
     "metadata": {},
     "output_type": "execute_result"
    }
   ],
   "source": [
    "df2.metaforico.value_counts()"
   ]
  },
  {
   "cell_type": "code",
   "execution_count": 9,
   "id": "5c7463c0",
   "metadata": {},
   "outputs": [
    {
     "data": {
      "text/plain": [
       "0    64\n",
       "1    29\n",
       "Name: metaforico, dtype: int64"
      ]
     },
     "execution_count": 9,
     "metadata": {},
     "output_type": "execute_result"
    }
   ],
   "source": [
    "df3.metaforico.value_counts()"
   ]
  },
  {
   "cell_type": "code",
   "execution_count": 10,
   "id": "d5f77f3b",
   "metadata": {},
   "outputs": [
    {
     "data": {
      "text/plain": [
       "1629"
      ]
     },
     "execution_count": 10,
     "metadata": {},
     "output_type": "execute_result"
    }
   ],
   "source": [
    "1341 + 288"
   ]
  },
  {
   "cell_type": "code",
   "execution_count": 11,
   "id": "17158279-d7fd-4a4c-8802-9d168183d2cb",
   "metadata": {},
   "outputs": [],
   "source": [
    "vetor1 = np.load(f\"{base_vetorizada}/{pasta}/{arquivo1}.npy\")\n",
    "vetor2 = np.load(f\"{base_vetorizada}/{pasta}/{arquivo2}.npy\")\n",
    "vetor3 = np.load(f\"{base_vetorizada}/{pasta}/{arquivo3}.npy\")"
   ]
  },
  {
   "cell_type": "code",
   "execution_count": 12,
   "id": "ce0bfb8a",
   "metadata": {},
   "outputs": [
    {
     "data": {
      "text/plain": [
       "(93, 7)"
      ]
     },
     "execution_count": 12,
     "metadata": {},
     "output_type": "execute_result"
    }
   ],
   "source": [
    "df3.shape"
   ]
  },
  {
   "cell_type": "code",
   "execution_count": 13,
   "id": "19e6ae24-1b4f-4d5d-abbb-2909afa569d8",
   "metadata": {},
   "outputs": [
    {
     "data": {
      "text/plain": [
       "(1536, 1)"
      ]
     },
     "execution_count": 13,
     "metadata": {},
     "output_type": "execute_result"
    }
   ],
   "source": [
    "df_y = pd.concat([\n",
    "    df1[[\"metaforico\"]],\n",
    "    df2[[\"metaforico\"]]\n",
    "    # df3[[\"metaforico\"]]\n",
    "], axis = 0)\n",
    "\n",
    "df_y.shape"
   ]
  },
  {
   "cell_type": "code",
   "execution_count": 14,
   "id": "fdecbe66",
   "metadata": {},
   "outputs": [
    {
     "data": {
      "text/html": [
       "<div>\n",
       "<style scoped>\n",
       "    .dataframe tbody tr th:only-of-type {\n",
       "        vertical-align: middle;\n",
       "    }\n",
       "\n",
       "    .dataframe tbody tr th {\n",
       "        vertical-align: top;\n",
       "    }\n",
       "\n",
       "    .dataframe thead th {\n",
       "        text-align: right;\n",
       "    }\n",
       "</style>\n",
       "<table border=\"1\" class=\"dataframe\">\n",
       "  <thead>\n",
       "    <tr style=\"text-align: right;\">\n",
       "      <th></th>\n",
       "      <th>Jornal</th>\n",
       "      <th>Link</th>\n",
       "      <th>metaforico</th>\n",
       "      <th>paragrafos_resgatados</th>\n",
       "      <th>texto_completo</th>\n",
       "      <th>paragrafos_tratados_sw</th>\n",
       "      <th>paragrafos_tratados_sw_vetorizados</th>\n",
       "    </tr>\n",
       "  </thead>\n",
       "  <tbody>\n",
       "    <tr>\n",
       "      <th>0</th>\n",
       "      <td>Estadão</td>\n",
       "      <td>https://politica.estadao.com.br/noticias/eleic...</td>\n",
       "      <td>1</td>\n",
       "      <td>['Sem querer descartar qualquer apoio, Álvaro ...</td>\n",
       "      <td>['Álvaro Dias descarta possibilidade de alianç...</td>\n",
       "      <td>querer descartar álvaro dias disse considerado...</td>\n",
       "      <td>[[ 3.36895106e+00 -1.33067979e-01  5.79284027e...</td>\n",
       "    </tr>\n",
       "    <tr>\n",
       "      <th>1</th>\n",
       "      <td>Estadão</td>\n",
       "      <td>https://politica.estadao.com.br/noticias/eleic...</td>\n",
       "      <td>1</td>\n",
       "      <td>['O futuro de Ciro Gomes está atrelado ao PT, ...</td>\n",
       "      <td>['Eleição vai ter de afunilar, apesar dos temo...</td>\n",
       "      <td>futuro ciro gomes atrelado pt cismou colocar o...</td>\n",
       "      <td>[[ 3.53176697  0.45472605  2.26785599 -0.35011...</td>\n",
       "    </tr>\n",
       "    <tr>\n",
       "      <th>2</th>\n",
       "      <td>Estadão</td>\n",
       "      <td>https://economia.estadao.com.br/noticias/geral...</td>\n",
       "      <td>1</td>\n",
       "      <td>['Entre as companhias que lidam com o poder pú...</td>\n",
       "      <td>['Empresas querem se blindar de punições e dif...</td>\n",
       "      <td>companhias lidam público lava jato criou espéc...</td>\n",
       "      <td>[[ 4.13754800e+00  8.84323981e-01  3.12363504e...</td>\n",
       "    </tr>\n",
       "    <tr>\n",
       "      <th>3</th>\n",
       "      <td>Estadão</td>\n",
       "      <td>https://internacional.estadao.com.br/blogs/fat...</td>\n",
       "      <td>1</td>\n",
       "      <td>['Política e Futebol, as artimanhas para se ma...</td>\n",
       "      <td>['Política e Futebol, as artimanhas para se ma...</td>\n",
       "      <td>política futebol artimanhas manter rotineira e...</td>\n",
       "      <td>[[ 2.99120015e-01  1.48204992e-01  3.36301014e...</td>\n",
       "    </tr>\n",
       "    <tr>\n",
       "      <th>4</th>\n",
       "      <td>Estadão</td>\n",
       "      <td>https://internacional.estadao.com.br/blogs/fat...</td>\n",
       "      <td>1</td>\n",
       "      <td>['Política e Futebol, as artimanhas para se ma...</td>\n",
       "      <td>['Política e Futebol, as artimanhas para se ma...</td>\n",
       "      <td>política futebol artimanhas manter rotineira e...</td>\n",
       "      <td>[[ 2.16530016e-01  1.24603992e-01  4.53098014e...</td>\n",
       "    </tr>\n",
       "  </tbody>\n",
       "</table>\n",
       "</div>"
      ],
      "text/plain": [
       "    Jornal                                               Link  metaforico  \\\n",
       "0  Estadão  https://politica.estadao.com.br/noticias/eleic...           1   \n",
       "1  Estadão  https://politica.estadao.com.br/noticias/eleic...           1   \n",
       "2  Estadão  https://economia.estadao.com.br/noticias/geral...           1   \n",
       "3  Estadão  https://internacional.estadao.com.br/blogs/fat...           1   \n",
       "4  Estadão  https://internacional.estadao.com.br/blogs/fat...           1   \n",
       "\n",
       "                               paragrafos_resgatados  \\\n",
       "0  ['Sem querer descartar qualquer apoio, Álvaro ...   \n",
       "1  ['O futuro de Ciro Gomes está atrelado ao PT, ...   \n",
       "2  ['Entre as companhias que lidam com o poder pú...   \n",
       "3  ['Política e Futebol, as artimanhas para se ma...   \n",
       "4  ['Política e Futebol, as artimanhas para se ma...   \n",
       "\n",
       "                                      texto_completo  \\\n",
       "0  ['Álvaro Dias descarta possibilidade de alianç...   \n",
       "1  ['Eleição vai ter de afunilar, apesar dos temo...   \n",
       "2  ['Empresas querem se blindar de punições e dif...   \n",
       "3  ['Política e Futebol, as artimanhas para se ma...   \n",
       "4  ['Política e Futebol, as artimanhas para se ma...   \n",
       "\n",
       "                              paragrafos_tratados_sw  \\\n",
       "0  querer descartar álvaro dias disse considerado...   \n",
       "1  futuro ciro gomes atrelado pt cismou colocar o...   \n",
       "2  companhias lidam público lava jato criou espéc...   \n",
       "3  política futebol artimanhas manter rotineira e...   \n",
       "4  política futebol artimanhas manter rotineira e...   \n",
       "\n",
       "                  paragrafos_tratados_sw_vetorizados  \n",
       "0  [[ 3.36895106e+00 -1.33067979e-01  5.79284027e...  \n",
       "1  [[ 3.53176697  0.45472605  2.26785599 -0.35011...  \n",
       "2  [[ 4.13754800e+00  8.84323981e-01  3.12363504e...  \n",
       "3  [[ 2.99120015e-01  1.48204992e-01  3.36301014e...  \n",
       "4  [[ 2.16530016e-01  1.24603992e-01  4.53098014e...  "
      ]
     },
     "execution_count": 14,
     "metadata": {},
     "output_type": "execute_result"
    }
   ],
   "source": [
    "df2.head()"
   ]
  },
  {
   "cell_type": "code",
   "execution_count": 15,
   "id": "eb30adf5-ee2d-4ada-867e-a3aa13e72cf1",
   "metadata": {},
   "outputs": [
    {
     "data": {
      "text/plain": [
       "(1536, 600)"
      ]
     },
     "execution_count": 15,
     "metadata": {},
     "output_type": "execute_result"
    }
   ],
   "source": [
    "# vetor_x = np.concatenate((vetor1, vetor2, vetor3), axis = 0)\n",
    "vetor_x = np.concatenate((vetor1, vetor2), axis = 0)\n",
    "vetor_x.shape"
   ]
  },
  {
   "cell_type": "code",
   "execution_count": 16,
   "id": "24621f12-18c9-42a8-b6f5-3213f45101b7",
   "metadata": {},
   "outputs": [],
   "source": [
    "X = vetor_x \n",
    "y = df_y[\"metaforico\"]"
   ]
  },
  {
   "cell_type": "code",
   "execution_count": 17,
   "id": "bc22d686-be49-4652-a6fb-687b9f054049",
   "metadata": {},
   "outputs": [],
   "source": [
    "X_train, X_test, y_train, y_test = train_test_split(X, y, stratify=y, test_size=0.2, random_state = SEED)"
   ]
  },
  {
   "cell_type": "code",
   "execution_count": 18,
   "id": "82b6234c-3acc-43d4-a1c1-3a024a078db2",
   "metadata": {},
   "outputs": [
    {
     "name": "stdout",
     "output_type": "stream",
     "text": [
      "Dados de treino =  (1228, 600)\n",
      "Dados de teste =  (308, 600)\n"
     ]
    }
   ],
   "source": [
    "print(\"Dados de treino = \", X_train.shape)\n",
    "print(\"Dados de teste = \", X_test.shape)"
   ]
  },
  {
   "cell_type": "code",
   "execution_count": 19,
   "id": "f4884bd9-4904-4312-a446-f7d9dedb856a",
   "metadata": {},
   "outputs": [
    {
     "name": "stdout",
     "output_type": "stream",
     "text": [
      "Proporção de y de treino\n",
      "0    0.686482\n",
      "1    0.313518\n",
      "Name: metaforico, dtype: float64\n",
      "\n",
      "Proporção de y de teste\n",
      "0    0.685065\n",
      "1    0.314935\n",
      "Name: metaforico, dtype: float64\n"
     ]
    }
   ],
   "source": [
    "print(\"Proporção de y de treino\")\n",
    "print(y_train.value_counts(normalize = True))\n",
    "\n",
    "print(\"\\nProporção de y de teste\")\n",
    "print(y_test.value_counts(normalize = True))"
   ]
  },
  {
   "cell_type": "code",
   "execution_count": 20,
   "id": "82447e02-e7e4-4a9f-8cdb-62cf82016ada",
   "metadata": {},
   "outputs": [],
   "source": [
    "tf.keras.backend.clear_session()"
   ]
  },
  {
   "cell_type": "code",
   "execution_count": 21,
   "id": "d752699e-5e0a-4c06-9046-b7d972afb49d",
   "metadata": {},
   "outputs": [],
   "source": [
    "callback = tf.keras.callbacks.EarlyStopping(\n",
    "    monitor=\"val_accuracy\",\n",
    "    patience=10,\n",
    "    verbose=1,\n",
    "    restore_best_weights=True,\n",
    ")"
   ]
  },
  {
   "cell_type": "code",
   "execution_count": 22,
   "id": "cb016d8b-7200-4210-b430-4074eeffd9ec",
   "metadata": {},
   "outputs": [],
   "source": [
    "opt = SGD(learning_rate = 0.001, nesterov = True)\n",
    "\n",
    "# # def swish(x, beta = 1):\n",
    "# #     return (x * sigmoid(beta * x))\n",
    "# # get_custom_objects().update({'swish': Activation(swish)})  \n",
    "\n",
    "# class Swish(Activation):\n",
    "#     def __init__(self, activation, **kwargs):\n",
    "#         super(Swish, self).__init__(activation, **kwargs)\n",
    "#         self.__name__ = 'swish'\n",
    "        \n",
    "# def swish(x):\n",
    "#     return (sigmoid(x) * x)\n",
    "# get_custom_objects().update({'swish': Swish(swish)})"
   ]
  },
  {
   "cell_type": "code",
   "execution_count": 23,
   "id": "b9828710-1b2b-41cd-a1f3-9d1a7ad1e013",
   "metadata": {},
   "outputs": [
    {
     "name": "stdout",
     "output_type": "stream",
     "text": [
      "Model: \"sequential\"\n",
      "_________________________________________________________________\n",
      " Layer (type)                Output Shape              Param #   \n",
      "=================================================================\n",
      " dense (Dense)               (None, 512)               307712    \n",
      "                                                                 \n",
      " dropout (Dropout)           (None, 512)               0         \n",
      "                                                                 \n",
      " dense_1 (Dense)             (None, 256)               131328    \n",
      "                                                                 \n",
      " dropout_1 (Dropout)         (None, 256)               0         \n",
      "                                                                 \n",
      " dense_2 (Dense)             (None, 128)               32896     \n",
      "                                                                 \n",
      " dropout_2 (Dropout)         (None, 128)               0         \n",
      "                                                                 \n",
      " dense_3 (Dense)             (None, 64)                8256      \n",
      "                                                                 \n",
      " dense_4 (Dense)             (None, 1)                 65        \n",
      "                                                                 \n",
      "=================================================================\n",
      "Total params: 480,257\n",
      "Trainable params: 480,257\n",
      "Non-trainable params: 0\n",
      "_________________________________________________________________\n"
     ]
    }
   ],
   "source": [
    "model_cbow = Sequential()\n",
    "model_cbow.add(Dense(512, input_dim=dim, activation='swish'))\n",
    "model_cbow.add(Dropout(0.2))\n",
    "model_cbow.add(Dense(256, activation='swish'))\n",
    "model_cbow.add(Dropout(0.2))\n",
    "model_cbow.add(Dense(128, activation='swish'))\n",
    "model_cbow.add(Dropout(0.2))\n",
    "model_cbow.add(Dense(64, activation='swish'))\n",
    "model_cbow.add(Dense(1, activation='sigmoid'))\n",
    "model_cbow.compile(loss='binary_crossentropy', optimizer=opt, metrics=['accuracy'])\n",
    "model_cbow.summary()\n",
    "\n",
    "# model_cbow = Sequential()\n",
    "# model_cbow.add(Dense(1024, input_dim=dim, activation='swish'))\n",
    "# model_cbow.add(Dropout(0.2))\n",
    "# model_cbow.add(Dense(1024, activation='swish'))\n",
    "# model_cbow.add(Dropout(0.2))\n",
    "# model_cbow.add(Dense(512, activation='swish'))\n",
    "# model_cbow.add(Dropout(0.2))\n",
    "# model_cbow.add(Dense(256, activation='swish'))\n",
    "# model_cbow.add(Dropout(0.1))\n",
    "# model_cbow.add(Dense(64, activation='swish'))\n",
    "# model_cbow.add(Dense(1, activation='sigmoid'))\n",
    "# model_cbow.compile(loss='binary_crossentropy', optimizer= opt, metrics=['accuracy'])\n",
    "# model_cbow.summary()"
   ]
  },
  {
   "cell_type": "code",
   "execution_count": 24,
   "id": "c256b802-71ee-4c23-850c-ebaef0411b23",
   "metadata": {},
   "outputs": [
    {
     "name": "stdout",
     "output_type": "stream",
     "text": [
      "Epoch 1/100\n",
      "123/123 [==============================] - 2s 6ms/step - loss: 0.7403 - accuracy: 0.6547 - val_loss: 0.6223 - val_accuracy: 0.7922\n",
      "Epoch 2/100\n",
      "123/123 [==============================] - 0s 4ms/step - loss: 0.6582 - accuracy: 0.7321 - val_loss: 0.5799 - val_accuracy: 0.7792\n",
      "Epoch 3/100\n",
      "123/123 [==============================] - 1s 5ms/step - loss: 0.6076 - accuracy: 0.7419 - val_loss: 0.5533 - val_accuracy: 0.7370\n",
      "Epoch 4/100\n",
      "123/123 [==============================] - 0s 4ms/step - loss: 0.5524 - accuracy: 0.7622 - val_loss: 0.5172 - val_accuracy: 0.7597\n",
      "Epoch 5/100\n",
      "123/123 [==============================] - 0s 4ms/step - loss: 0.5373 - accuracy: 0.7704 - val_loss: 0.4894 - val_accuracy: 0.7955\n",
      "Epoch 6/100\n",
      "123/123 [==============================] - 1s 4ms/step - loss: 0.5328 - accuracy: 0.7818 - val_loss: 0.4706 - val_accuracy: 0.8019\n",
      "Epoch 7/100\n",
      "123/123 [==============================] - 1s 4ms/step - loss: 0.4669 - accuracy: 0.7980 - val_loss: 0.4355 - val_accuracy: 0.8149\n",
      "Epoch 8/100\n",
      "123/123 [==============================] - 1s 4ms/step - loss: 0.4586 - accuracy: 0.8143 - val_loss: 0.4149 - val_accuracy: 0.8084\n",
      "Epoch 9/100\n",
      "123/123 [==============================] - 0s 4ms/step - loss: 0.4249 - accuracy: 0.8094 - val_loss: 0.3944 - val_accuracy: 0.8182\n",
      "Epoch 10/100\n",
      "123/123 [==============================] - 0s 4ms/step - loss: 0.4134 - accuracy: 0.8160 - val_loss: 0.3809 - val_accuracy: 0.8312\n",
      "Epoch 11/100\n",
      "123/123 [==============================] - 0s 4ms/step - loss: 0.3944 - accuracy: 0.8249 - val_loss: 0.3597 - val_accuracy: 0.8539\n",
      "Epoch 12/100\n",
      "123/123 [==============================] - 1s 4ms/step - loss: 0.3853 - accuracy: 0.8485 - val_loss: 0.4112 - val_accuracy: 0.7987\n",
      "Epoch 13/100\n",
      "123/123 [==============================] - 1s 4ms/step - loss: 0.3673 - accuracy: 0.8477 - val_loss: 0.3321 - val_accuracy: 0.8636\n",
      "Epoch 14/100\n",
      "123/123 [==============================] - 1s 4ms/step - loss: 0.3320 - accuracy: 0.8656 - val_loss: 0.3165 - val_accuracy: 0.8669\n",
      "Epoch 15/100\n",
      "123/123 [==============================] - 0s 4ms/step - loss: 0.3262 - accuracy: 0.8624 - val_loss: 0.3112 - val_accuracy: 0.8636\n",
      "Epoch 16/100\n",
      "123/123 [==============================] - 1s 4ms/step - loss: 0.3344 - accuracy: 0.8616 - val_loss: 0.3086 - val_accuracy: 0.8539\n",
      "Epoch 17/100\n",
      "123/123 [==============================] - 0s 4ms/step - loss: 0.3203 - accuracy: 0.8787 - val_loss: 0.2925 - val_accuracy: 0.8799\n",
      "Epoch 18/100\n",
      "123/123 [==============================] - 1s 4ms/step - loss: 0.3128 - accuracy: 0.8762 - val_loss: 0.2917 - val_accuracy: 0.8669\n",
      "Epoch 19/100\n",
      "123/123 [==============================] - 0s 4ms/step - loss: 0.3071 - accuracy: 0.8762 - val_loss: 0.2803 - val_accuracy: 0.8864\n",
      "Epoch 20/100\n",
      "123/123 [==============================] - 0s 4ms/step - loss: 0.2875 - accuracy: 0.8811 - val_loss: 0.2958 - val_accuracy: 0.8604\n",
      "Epoch 21/100\n",
      "123/123 [==============================] - 0s 4ms/step - loss: 0.2695 - accuracy: 0.8941 - val_loss: 0.2685 - val_accuracy: 0.9026\n",
      "Epoch 22/100\n",
      "123/123 [==============================] - 1s 4ms/step - loss: 0.2702 - accuracy: 0.8901 - val_loss: 0.2707 - val_accuracy: 0.8799\n",
      "Epoch 23/100\n",
      "123/123 [==============================] - 0s 4ms/step - loss: 0.2648 - accuracy: 0.8958 - val_loss: 0.2626 - val_accuracy: 0.8961\n",
      "Epoch 24/100\n",
      "123/123 [==============================] - 1s 4ms/step - loss: 0.2569 - accuracy: 0.8974 - val_loss: 0.2754 - val_accuracy: 0.8831\n",
      "Epoch 25/100\n",
      "123/123 [==============================] - 0s 4ms/step - loss: 0.2442 - accuracy: 0.9031 - val_loss: 0.2541 - val_accuracy: 0.9058\n",
      "Epoch 26/100\n",
      "123/123 [==============================] - 1s 4ms/step - loss: 0.2365 - accuracy: 0.9023 - val_loss: 0.2527 - val_accuracy: 0.9026\n",
      "Epoch 27/100\n",
      "123/123 [==============================] - 1s 4ms/step - loss: 0.2361 - accuracy: 0.9096 - val_loss: 0.2485 - val_accuracy: 0.9091\n",
      "Epoch 28/100\n",
      "123/123 [==============================] - 1s 4ms/step - loss: 0.2461 - accuracy: 0.9031 - val_loss: 0.2500 - val_accuracy: 0.9091\n",
      "Epoch 29/100\n",
      "123/123 [==============================] - 0s 4ms/step - loss: 0.2213 - accuracy: 0.9145 - val_loss: 0.2443 - val_accuracy: 0.9123\n",
      "Epoch 30/100\n",
      "123/123 [==============================] - 1s 4ms/step - loss: 0.2283 - accuracy: 0.9121 - val_loss: 0.2426 - val_accuracy: 0.9156\n",
      "Epoch 31/100\n",
      "123/123 [==============================] - 0s 4ms/step - loss: 0.2485 - accuracy: 0.9145 - val_loss: 0.2493 - val_accuracy: 0.9123\n",
      "Epoch 32/100\n",
      "123/123 [==============================] - 0s 4ms/step - loss: 0.2290 - accuracy: 0.9235 - val_loss: 0.2392 - val_accuracy: 0.9156\n",
      "Epoch 33/100\n",
      "123/123 [==============================] - 0s 4ms/step - loss: 0.2163 - accuracy: 0.9218 - val_loss: 0.2382 - val_accuracy: 0.9156\n",
      "Epoch 34/100\n",
      "123/123 [==============================] - 0s 4ms/step - loss: 0.2088 - accuracy: 0.9283 - val_loss: 0.2360 - val_accuracy: 0.9221\n",
      "Epoch 35/100\n",
      "123/123 [==============================] - 0s 4ms/step - loss: 0.2277 - accuracy: 0.9096 - val_loss: 0.2416 - val_accuracy: 0.9058\n",
      "Epoch 36/100\n",
      "123/123 [==============================] - 0s 4ms/step - loss: 0.1898 - accuracy: 0.9226 - val_loss: 0.2321 - val_accuracy: 0.9253\n",
      "Epoch 37/100\n",
      "123/123 [==============================] - 0s 4ms/step - loss: 0.2007 - accuracy: 0.9235 - val_loss: 0.2325 - val_accuracy: 0.9253\n",
      "Epoch 38/100\n",
      "123/123 [==============================] - 0s 4ms/step - loss: 0.1964 - accuracy: 0.9283 - val_loss: 0.2352 - val_accuracy: 0.9188\n",
      "Epoch 39/100\n",
      "123/123 [==============================] - 0s 4ms/step - loss: 0.2041 - accuracy: 0.9210 - val_loss: 0.2315 - val_accuracy: 0.9221\n",
      "Epoch 40/100\n",
      "123/123 [==============================] - 1s 4ms/step - loss: 0.1851 - accuracy: 0.9316 - val_loss: 0.2437 - val_accuracy: 0.9156\n",
      "Epoch 41/100\n",
      "123/123 [==============================] - 0s 4ms/step - loss: 0.1833 - accuracy: 0.9292 - val_loss: 0.2321 - val_accuracy: 0.9221\n",
      "Epoch 42/100\n",
      "123/123 [==============================] - 0s 4ms/step - loss: 0.1710 - accuracy: 0.9349 - val_loss: 0.2295 - val_accuracy: 0.9188\n",
      "Epoch 43/100\n",
      "123/123 [==============================] - 0s 4ms/step - loss: 0.1856 - accuracy: 0.9340 - val_loss: 0.2334 - val_accuracy: 0.9221\n",
      "Epoch 44/100\n",
      "123/123 [==============================] - 0s 4ms/step - loss: 0.1671 - accuracy: 0.9373 - val_loss: 0.2322 - val_accuracy: 0.9221\n",
      "Epoch 45/100\n",
      "123/123 [==============================] - 1s 4ms/step - loss: 0.1827 - accuracy: 0.9300 - val_loss: 0.2265 - val_accuracy: 0.9253\n",
      "Epoch 46/100\n",
      "123/123 [==============================] - 1s 4ms/step - loss: 0.1847 - accuracy: 0.9357 - val_loss: 0.2252 - val_accuracy: 0.9351\n",
      "Epoch 47/100\n",
      "123/123 [==============================] - 0s 4ms/step - loss: 0.1566 - accuracy: 0.9414 - val_loss: 0.2263 - val_accuracy: 0.9286\n",
      "Epoch 48/100\n",
      "123/123 [==============================] - 0s 4ms/step - loss: 0.1747 - accuracy: 0.9422 - val_loss: 0.2258 - val_accuracy: 0.9318\n",
      "Epoch 49/100\n",
      "123/123 [==============================] - 0s 4ms/step - loss: 0.1865 - accuracy: 0.9259 - val_loss: 0.2315 - val_accuracy: 0.9221\n",
      "Epoch 50/100\n",
      "123/123 [==============================] - 0s 4ms/step - loss: 0.1596 - accuracy: 0.9414 - val_loss: 0.2266 - val_accuracy: 0.9318\n",
      "Epoch 51/100\n",
      "123/123 [==============================] - 1s 4ms/step - loss: 0.1701 - accuracy: 0.9316 - val_loss: 0.2289 - val_accuracy: 0.9286\n",
      "Epoch 52/100\n",
      "123/123 [==============================] - 0s 4ms/step - loss: 0.1617 - accuracy: 0.9373 - val_loss: 0.2246 - val_accuracy: 0.9383\n",
      "Epoch 53/100\n",
      "123/123 [==============================] - 0s 4ms/step - loss: 0.1614 - accuracy: 0.9397 - val_loss: 0.2243 - val_accuracy: 0.9318\n",
      "Epoch 54/100\n",
      "123/123 [==============================] - 0s 4ms/step - loss: 0.1503 - accuracy: 0.9430 - val_loss: 0.2264 - val_accuracy: 0.9253\n",
      "Epoch 55/100\n",
      "123/123 [==============================] - 0s 4ms/step - loss: 0.1512 - accuracy: 0.9430 - val_loss: 0.2270 - val_accuracy: 0.9318\n",
      "Epoch 56/100\n",
      "123/123 [==============================] - 1s 4ms/step - loss: 0.1467 - accuracy: 0.9397 - val_loss: 0.2258 - val_accuracy: 0.9318\n",
      "Epoch 57/100\n",
      "123/123 [==============================] - 1s 4ms/step - loss: 0.1435 - accuracy: 0.9479 - val_loss: 0.2266 - val_accuracy: 0.9318\n",
      "Epoch 58/100\n",
      "123/123 [==============================] - 0s 4ms/step - loss: 0.1433 - accuracy: 0.9487 - val_loss: 0.2289 - val_accuracy: 0.9286\n",
      "Epoch 59/100\n",
      "123/123 [==============================] - 0s 4ms/step - loss: 0.1479 - accuracy: 0.9471 - val_loss: 0.2334 - val_accuracy: 0.9286\n",
      "Epoch 60/100\n",
      "123/123 [==============================] - 0s 4ms/step - loss: 0.1486 - accuracy: 0.9446 - val_loss: 0.2309 - val_accuracy: 0.9253\n",
      "Epoch 61/100\n",
      "123/123 [==============================] - 1s 4ms/step - loss: 0.1488 - accuracy: 0.9471 - val_loss: 0.2325 - val_accuracy: 0.9286\n",
      "Epoch 62/100\n",
      "122/123 [============================>.] - ETA: 0s - loss: 0.1334 - accuracy: 0.9533Restoring model weights from the end of the best epoch: 52.\n",
      "123/123 [==============================] - 0s 4ms/step - loss: 0.1335 - accuracy: 0.9528 - val_loss: 0.2322 - val_accuracy: 0.9286\n",
      "Epoch 62: early stopping\n"
     ]
    }
   ],
   "source": [
    "history_cbow = model_cbow.fit(X_train, y_train, \n",
    "                              epochs=100, \n",
    "                              validation_data=(X_test, y_test), \n",
    "                              batch_size=10,\n",
    "                              callbacks = [callback])"
   ]
  },
  {
   "cell_type": "code",
   "execution_count": 25,
   "id": "9b522c1a-fb7f-4060-aaf5-dca9c26e4eca",
   "metadata": {},
   "outputs": [
    {
     "name": "stdout",
     "output_type": "stream",
     "text": [
      "perda (erro) =  0.22460801899433136\n",
      "\n",
      "Acurácia =  0.9383116960525513\n"
     ]
    }
   ],
   "source": [
    "loss_cbow, accuracy_cbow = model_cbow.evaluate(X_test, y_test, verbose=False)\n",
    "print(\"perda (erro) = \", loss_cbow)\n",
    "print()\n",
    "print(\"Acurácia = \",  accuracy_cbow)"
   ]
  },
  {
   "cell_type": "code",
   "execution_count": 26,
   "id": "8bd77e81-c6b6-44e1-a652-b403283075c1",
   "metadata": {},
   "outputs": [
    {
     "data": {
      "image/png": "[encoded data removed]",
      "text/plain": [
       "<Figure size 1200x500 with 2 Axes>"
      ]
     },
     "metadata": {},
     "output_type": "display_data"
    }
   ],
   "source": [
    "plot_history(history_cbow)"
   ]
  },
  {
   "cell_type": "code",
   "execution_count": 27,
   "id": "c57620b2-2961-4dcc-9741-862b0bae8d15",
   "metadata": {},
   "outputs": [
    {
     "name": "stdout",
     "output_type": "stream",
     "text": [
      "10/10 [==============================] - 0s 2ms/step\n"
     ]
    }
   ],
   "source": [
    "y_predict = (model_cbow.predict(X_test) > 0.5).astype(\"int32\")"
   ]
  },
  {
   "cell_type": "code",
   "execution_count": 28,
   "id": "f265ed07-57b4-477d-bb82-b37482f1efd1",
   "metadata": {},
   "outputs": [],
   "source": [
    "y_pred = [x[0] for x in y_predict]"
   ]
  },
  {
   "cell_type": "code",
   "execution_count": 29,
   "id": "0468efea-0e78-43a7-9c61-ea01d12163dc",
   "metadata": {},
   "outputs": [
    {
     "name": "stdout",
     "output_type": "stream",
     "text": [
      "              precision    recall  f1-score   support\n",
      "\n",
      "           0       0.94      0.98      0.96       211\n",
      "           1       0.94      0.86      0.90        97\n",
      "\n",
      "    accuracy                           0.94       308\n",
      "   macro avg       0.94      0.92      0.93       308\n",
      "weighted avg       0.94      0.94      0.94       308\n",
      "\n"
     ]
    }
   ],
   "source": [
    "print(classification_report(y_test, y_pred))"
   ]
  },
  {
   "cell_type": "code",
   "execution_count": 30,
   "id": "fea36e66-0fef-46d8-a766-e903b86f65ed",
   "metadata": {},
   "outputs": [
    {
     "data": {
      "text/plain": [
       "<sklearn.metrics._plot.confusion_matrix.ConfusionMatrixDisplay at 0x296ee55ca30>"
      ]
     },
     "execution_count": 30,
     "metadata": {},
     "output_type": "execute_result"
    },
    {
     "data": {
      "image/png": "[encoded data removed]",
      "text/plain": [
       "<Figure size 640x480 with 2 Axes>"
      ]
     },
     "metadata": {},
     "output_type": "display_data"
    }
   ],
   "source": [
    "ConfusionMatrixDisplay.from_predictions(y_test, y_pred)"
   ]
  },
  {
   "cell_type": "markdown",
   "id": "9a8791f0-77fe-460d-8bee-35fa23faf106",
   "metadata": {},
   "source": [
    "# Validação do modelo "
   ]
  },
  {
   "cell_type": "code",
   "execution_count": 31,
   "id": "7b6969e6-8dc0-49d1-8f92-702dabf53425",
   "metadata": {},
   "outputs": [
    {
     "data": {
      "text/html": [
       "<div>\n",
       "<style scoped>\n",
       "    .dataframe tbody tr th:only-of-type {\n",
       "        vertical-align: middle;\n",
       "    }\n",
       "\n",
       "    .dataframe tbody tr th {\n",
       "        vertical-align: top;\n",
       "    }\n",
       "\n",
       "    .dataframe thead th {\n",
       "        text-align: right;\n",
       "    }\n",
       "</style>\n",
       "<table border=\"1\" class=\"dataframe\">\n",
       "  <thead>\n",
       "    <tr style=\"text-align: right;\">\n",
       "      <th></th>\n",
       "      <th>link</th>\n",
       "      <th>metaforico</th>\n",
       "      <th>indice_noticia</th>\n",
       "      <th>paragrafos_resgatados</th>\n",
       "      <th>texto_completo</th>\n",
       "      <th>paragrafos_tratados_sw</th>\n",
       "      <th>paragrafos_tratados_sw_vetorizados</th>\n",
       "    </tr>\n",
       "  </thead>\n",
       "  <tbody>\n",
       "    <tr>\n",
       "      <th>0</th>\n",
       "      <td>https://opiniao.estadao.com.br/noticias/espaco...</td>\n",
       "      <td>1</td>\n",
       "      <td>2</td>\n",
       "      <td>['A esquizofrenia se faz presente no governo: ...</td>\n",
       "      <td>['Mais poder para quê? Para confrontos e mobil...</td>\n",
       "      <td>esquizofrenia presente governo caudatário cent...</td>\n",
       "      <td>[[ 3.10971797 -1.09312899  2.69877705 -3.15451...</td>\n",
       "    </tr>\n",
       "    <tr>\n",
       "      <th>1</th>\n",
       "      <td>https://cultura.estadao.com.br/noticias/litera...</td>\n",
       "      <td>1</td>\n",
       "      <td>3</td>\n",
       "      <td>['\"Durante meus dois anos\\xa0em Berkeley, não\\...</td>\n",
       "      <td>['Em novo livro, Simon Schwartzman articula me...</td>\n",
       "      <td>durante anos berkeley conheci americano sequer...</td>\n",
       "      <td>[[ 5.54485902e+00  3.73239404e+00  1.59974998e...</td>\n",
       "    </tr>\n",
       "    <tr>\n",
       "      <th>2</th>\n",
       "      <td>https://cultura.estadao.com.br/noticias/geral,...</td>\n",
       "      <td>1</td>\n",
       "      <td>4</td>\n",
       "      <td>['Considere uma fotografia. Nela, você vê meni...</td>\n",
       "      <td>['Iniciamos a vacinação dentro de um campo pol...</td>\n",
       "      <td>considere fotografia nela vê meninos jovens id...</td>\n",
       "      <td>[[ 1.56779540e+01  8.54590302e+00  1.24404740e...</td>\n",
       "    </tr>\n",
       "    <tr>\n",
       "      <th>3</th>\n",
       "      <td>https://cultura.estadao.com.br/noticias/cinema...</td>\n",
       "      <td>1</td>\n",
       "      <td>5</td>\n",
       "      <td>[', mas você não o descartaria do universo dos...</td>\n",
       "      <td>['A produção mais recente de Billy Madison pod...</td>\n",
       "      <td>descartaria universo irmãos safdie oscilações ...</td>\n",
       "      <td>[[ 0.92739603  0.70576598  1.63334798  0.91279...</td>\n",
       "    </tr>\n",
       "    <tr>\n",
       "      <th>4</th>\n",
       "      <td>https://cultura.estadao.com.br/blogs/direto-da...</td>\n",
       "      <td>1</td>\n",
       "      <td>6</td>\n",
       "      <td>[\"Bom, acho que não dá pra responder essa perg...</td>\n",
       "      <td>[\"'Não idealizo nem romantizo maternidade', di...</td>\n",
       "      <td>acho pra responder pergunta entender estamos j...</td>\n",
       "      <td>[[ 2.00851702e+00  1.58086201e+00 -1.43751000e...</td>\n",
       "    </tr>\n",
       "  </tbody>\n",
       "</table>\n",
       "</div>"
      ],
      "text/plain": [
       "                                                link  metaforico  \\\n",
       "0  https://opiniao.estadao.com.br/noticias/espaco...           1   \n",
       "1  https://cultura.estadao.com.br/noticias/litera...           1   \n",
       "2  https://cultura.estadao.com.br/noticias/geral,...           1   \n",
       "3  https://cultura.estadao.com.br/noticias/cinema...           1   \n",
       "4  https://cultura.estadao.com.br/blogs/direto-da...           1   \n",
       "\n",
       "   indice_noticia                              paragrafos_resgatados  \\\n",
       "0               2  ['A esquizofrenia se faz presente no governo: ...   \n",
       "1               3  ['\"Durante meus dois anos\\xa0em Berkeley, não\\...   \n",
       "2               4  ['Considere uma fotografia. Nela, você vê meni...   \n",
       "3               5  [', mas você não o descartaria do universo dos...   \n",
       "4               6  [\"Bom, acho que não dá pra responder essa perg...   \n",
       "\n",
       "                                      texto_completo  \\\n",
       "0  ['Mais poder para quê? Para confrontos e mobil...   \n",
       "1  ['Em novo livro, Simon Schwartzman articula me...   \n",
       "2  ['Iniciamos a vacinação dentro de um campo pol...   \n",
       "3  ['A produção mais recente de Billy Madison pod...   \n",
       "4  [\"'Não idealizo nem romantizo maternidade', di...   \n",
       "\n",
       "                              paragrafos_tratados_sw  \\\n",
       "0  esquizofrenia presente governo caudatário cent...   \n",
       "1  durante anos berkeley conheci americano sequer...   \n",
       "2  considere fotografia nela vê meninos jovens id...   \n",
       "3  descartaria universo irmãos safdie oscilações ...   \n",
       "4  acho pra responder pergunta entender estamos j...   \n",
       "\n",
       "                  paragrafos_tratados_sw_vetorizados  \n",
       "0  [[ 3.10971797 -1.09312899  2.69877705 -3.15451...  \n",
       "1  [[ 5.54485902e+00  3.73239404e+00  1.59974998e...  \n",
       "2  [[ 1.56779540e+01  8.54590302e+00  1.24404740e...  \n",
       "3  [[ 0.92739603  0.70576598  1.63334798  0.91279...  \n",
       "4  [[ 2.00851702e+00  1.58086201e+00 -1.43751000e...  "
      ]
     },
     "execution_count": 31,
     "metadata": {},
     "output_type": "execute_result"
    }
   ],
   "source": [
    "df3.head()"
   ]
  },
  {
   "cell_type": "code",
   "execution_count": 32,
   "id": "5b7b9eb4-e336-4f7a-bb10-1768c3c80045",
   "metadata": {},
   "outputs": [
    {
     "name": "stdout",
     "output_type": "stream",
     "text": [
      "Dados de validação:\n",
      "0    64\n",
      "1    29\n",
      "Name: metaforico, dtype: int64\n",
      " \n",
      "Dados de validação em percentual: \n",
      "0    0.688172\n",
      "1    0.311828\n",
      "Name: metaforico, dtype: float64\n"
     ]
    }
   ],
   "source": [
    "print(\"Dados de validação:\")\n",
    "print(df3.metaforico.value_counts(dropna = False))\n",
    "print(\" \")\n",
    "print(\"Dados de validação em percentual: \")\n",
    "print(df3.metaforico.value_counts(dropna = False, normalize = True))"
   ]
  },
  {
   "cell_type": "code",
   "execution_count": 33,
   "id": "680b0173-6ede-48d1-9ab4-33c01db2bf4a",
   "metadata": {},
   "outputs": [],
   "source": [
    "X_val = vetor3\n",
    "y_val = df3[[\"metaforico\"]]"
   ]
  },
  {
   "cell_type": "code",
   "execution_count": 34,
   "id": "5a929e74-1f58-4979-9464-65c6214385ad",
   "metadata": {},
   "outputs": [
    {
     "name": "stdout",
     "output_type": "stream",
     "text": [
      "3/3 [==============================] - 0s 2ms/step\n"
     ]
    }
   ],
   "source": [
    "y_predict_val = (model_cbow.predict(X_val) > 0.5).astype(\"int32\")"
   ]
  },
  {
   "cell_type": "code",
   "execution_count": 35,
   "id": "0b49dbf4-b5c2-40ec-951f-f5478323287b",
   "metadata": {},
   "outputs": [],
   "source": [
    "y_pred_val = [x[0] for x in y_predict_val]"
   ]
  },
  {
   "cell_type": "code",
   "execution_count": 36,
   "id": "34d1fac7-0da3-4198-a8d1-a3582936d23c",
   "metadata": {},
   "outputs": [
    {
     "name": "stdout",
     "output_type": "stream",
     "text": [
      "              precision    recall  f1-score   support\n",
      "\n",
      "           0       0.94      0.94      0.94        64\n",
      "           1       0.86      0.86      0.86        29\n",
      "\n",
      "    accuracy                           0.91        93\n",
      "   macro avg       0.90      0.90      0.90        93\n",
      "weighted avg       0.91      0.91      0.91        93\n",
      "\n"
     ]
    }
   ],
   "source": [
    "print(classification_report(y_val, y_pred_val))"
   ]
  },
  {
   "cell_type": "code",
   "execution_count": 37,
   "id": "adba0172-389d-4f94-9188-a0d1eb3b046c",
   "metadata": {},
   "outputs": [
    {
     "data": {
      "text/plain": [
       "<sklearn.metrics._plot.confusion_matrix.ConfusionMatrixDisplay at 0x296eaef3d90>"
      ]
     },
     "execution_count": 37,
     "metadata": {},
     "output_type": "execute_result"
    },
    {
     "data": {
      "image/png": "[encoded data removed]",
      "text/plain": [
       "<Figure size 640x480 with 2 Axes>"
      ]
     },
     "metadata": {},
     "output_type": "display_data"
    }
   ],
   "source": [
    "ConfusionMatrixDisplay.from_predictions(y_val, y_pred_val)"
   ]
  },
  {
   "cell_type": "code",
   "execution_count": 553,
   "id": "318e5492",
   "metadata": {},
   "outputs": [],
   "source": [
    "# print(\"erro proposital)"
   ]
  },
  {
   "cell_type": "code",
   "execution_count": 554,
   "id": "21dd064d",
   "metadata": {},
   "outputs": [],
   "source": [
    "# model_cbow.save(\"modelo_base_filmes\")"
   ]
  },
  {
   "cell_type": "code",
   "execution_count": 555,
   "id": "eb93a3a5",
   "metadata": {},
   "outputs": [],
   "source": [
    "# import pandas as pd \n",
    "# from tensorflow import keras \n",
    "\n",
    "# model_cbow = keras.models.load_model(\"modelo_base_filmes\")"
   ]
  },
  {
   "cell_type": "markdown",
   "id": "2cbdbb2a-9317-429e-be31-d1ac86bf24c3",
   "metadata": {},
   "source": [
    "# Aplicação do modelo para realizar previsões:"
   ]
  },
  {
   "cell_type": "code",
   "execution_count": 60,
   "id": "08f671f3-fc9c-4aea-922f-a7032bef305e",
   "metadata": {},
   "outputs": [],
   "source": [
    "base_vetorizada = \"s3_base_vetorizada_600\"\n",
    "\n",
    "# pasta_entrada = \"bases_aplicacao\"\n",
    "# pasta_entrada = \"pasta_09_2023\"\n",
    "pasta_entrada = \"pasta_04_2024\"\n",
    "\n",
    "pasta_saida = \"analises_de_resultados/pasta_04_2024\"\n",
    "\n",
    "# arquivo1 = \"tratado_links_correio_do_povo_organizado_paragrafos_resgatados.csv\"\n",
    "# arquivo2 = \"tratado_links_estadao_resgatados.csv\"\n",
    "# arquivo3 = \"tratado_links_folha_sem_rotulo_resgatados.csv\"\n",
    "\n",
    "# arquivo1 = \"tratado_links_folha_09_2023.csv_completo_resgatado.csv\"\n",
    "# arquivo2 = \"tratado_links_estadao_09_2023.csv_completo_resgatado.csv\"\n",
    "# arquivo3 = \"tratado_links_correio_09_2023.csv_completo_resgatado.csv\"\n",
    "\n",
    "# arquivo1 = \"tratado_links_correio_04_2024.csv_completo_resgatado.csv\"\n",
    "# arquivo1 = \"tratado_links_estadao_04_2024.csv_completo_resgatado.csv\"\n",
    "arquivo1 = \"tratado_links_folha_04_2024.csv_completo_resgatado.csv\""
   ]
  },
  {
   "cell_type": "code",
   "execution_count": 61,
   "id": "703290a3",
   "metadata": {},
   "outputs": [
    {
     "name": "stdout",
     "output_type": "stream",
     "text": [
      "tamanho =  (112, 6)\n",
      "4/4 [==============================] - 0s 2ms/step\n"
     ]
    },
    {
     "name": "stderr",
     "output_type": "stream",
     "text": [
      "c:\\Users\\r-omd\\.conda\\envs\\tf-venv39\\lib\\site-packages\\pandas\\util\\_decorators.py:211: FutureWarning: the 'encoding' keyword is deprecated and will be removed in a future version. Please take steps to stop the use of 'encoding'\n",
      "  return func(*args, **kwargs)\n"
     ]
    }
   ],
   "source": [
    "# # Seleciono o arquivo\n",
    "arquivo = arquivo1\n",
    "\n",
    "# # Leio e imprimo o tamanho\n",
    "dt = pd.read_csv(f\"{base_vetorizada}/{pasta_entrada}/{arquivo}\")\n",
    "print(\"tamanho = \", dt.shape)\n",
    "\n",
    "# Leio o texto vetorizado\n",
    "Xapp = np.load(f\"{base_vetorizada}/{pasta_entrada}/{arquivo}.npy\")\n",
    "\n",
    "# Faço a predição da probabilidade\n",
    "y_pred = model_cbow.predict(Xapp)\n",
    "\n",
    "# Faço a predição\n",
    "y_predict_app = (y_pred > 0.5).astype(\"int32\")\n",
    "\n",
    "# Formato a predição\n",
    "y_pred_app = [x[0] for x in y_predict_app]\n",
    "\n",
    "y_pred_prob = [x[0] for x in y_pred]\n",
    "\n",
    "# Registro na base de dados\n",
    "dt[\"metaforico_pred\"] = y_pred_app\n",
    "dt[\"metaforico_pred_prob\"] = y_pred_prob\n",
    "dt.to_csv(f\"{pasta_saida.split('/')[0]}/base_aplicacao_resultado/rotulado_{arquivo}\")\n",
    "dt.to_csv(f\"{pasta_saida}/rotulado_{arquivo}\")\n",
    "dt[[\"links\",\"paragrafos_resgatados\",\"texto_completo\",\"paragrafos_tratados_sw\",\"metaforico_pred\", \"metaforico_pred_prob\"]].to_excel(f\"{pasta_saida}/resultado_rotulado_{arquivo}.xlsx\", encoding = \"utf-8\")"
   ]
  },
  {
   "cell_type": "code",
   "execution_count": 52,
   "id": "3dd4a261",
   "metadata": {},
   "outputs": [
    {
     "data": {
      "text/plain": [
       "0    103\n",
       "1      9\n",
       "Name: metaforico_pred, dtype: int64"
      ]
     },
     "execution_count": 52,
     "metadata": {},
     "output_type": "execute_result"
    }
   ],
   "source": [
    "dt[\"metaforico_pred\"].value_counts(dropna = False)"
   ]
  },
  {
   "cell_type": "code",
   "execution_count": 53,
   "id": "25c74ed1",
   "metadata": {},
   "outputs": [
    {
     "data": {
      "text/plain": [
       "0    0.919643\n",
       "1    0.080357\n",
       "Name: metaforico_pred, dtype: float64"
      ]
     },
     "execution_count": 53,
     "metadata": {},
     "output_type": "execute_result"
    }
   ],
   "source": [
    "dt[\"metaforico_pred\"].value_counts(dropna = False, normalize = True)"
   ]
  },
  {
   "cell_type": "code",
   "execution_count": null,
   "id": "c5f41596",
   "metadata": {},
   "outputs": [],
   "source": []
  },
  {
   "cell_type": "code",
   "execution_count": null,
   "id": "5d37fda5",
   "metadata": {},
   "outputs": [],
   "source": []
  }
 ],
 "metadata": {
  "kernelspec": {
   "display_name": "tf-venv39",
   "language": "python",
   "name": "python3"
  },
  "language_info": {
   "codemirror_mode": {
    "name": "ipython",
    "version": 3
   },
   "file_extension": ".py",
   "mimetype": "text/x-python",
   "name": "python",
   "nbconvert_exporter": "python",
   "pygments_lexer": "ipython3",
   "version": "3.9.15"
  },
  "vscode": {
   "interpreter": {
    "hash": "2edfd760f95dabc5bfb6874e9288247cd7985cde479a7d6533716869b20c763e"
   }
  }
 },
 "nbformat": 4,
 "nbformat_minor": 5
}
