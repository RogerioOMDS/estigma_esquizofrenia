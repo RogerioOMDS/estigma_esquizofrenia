{
 "cells": [
  {
   "cell_type": "code",
   "execution_count": 1,
   "id": "130558d6-1d2a-4a6f-8743-3b13b0fedc6d",
   "metadata": {},
   "outputs": [],
   "source": [
    "# !pip install spacy \n",
    "# !python -m spacy download pt_core_news_sm"
   ]
  },
  {
   "cell_type": "code",
   "execution_count": 1,
   "id": "20833809-7cac-4587-bc06-23698cc09992",
   "metadata": {},
   "outputs": [
    {
     "name": "stderr",
     "output_type": "stream",
     "text": [
      "c:\\Users\\r-omd\\.conda\\envs\\tf-venv39\\lib\\site-packages\\thinc\\compat.py:36: UserWarning: 'has_mps' is deprecated, please use 'torch.backends.mps.is_built()'\n",
      "  hasattr(torch, \"has_mps\")\n",
      "c:\\Users\\r-omd\\.conda\\envs\\tf-venv39\\lib\\site-packages\\thinc\\compat.py:37: UserWarning: 'has_mps' is deprecated, please use 'torch.backends.mps.is_built()'\n",
      "  and torch.has_mps  # type: ignore[attr-defined]\n"
     ]
    }
   ],
   "source": [
    "import pandas as pd \n",
    "import numpy as np \n",
    "import spacy"
   ]
  },
  {
   "cell_type": "code",
   "execution_count": 2,
   "id": "5b02b298-75cc-4218-9526-4d19f50402f6",
   "metadata": {},
   "outputs": [
    {
     "name": "stderr",
     "output_type": "stream",
     "text": [
      "c:\\Users\\r-omd\\.conda\\envs\\tf-venv39\\lib\\site-packages\\tqdm\\auto.py:22: TqdmWarning: IProgress not found. Please update jupyter and ipywidgets. See https://ipywidgets.readthedocs.io/en/stable/user_install.html\n",
      "  from .autonotebook import tqdm as notebook_tqdm\n"
     ]
    }
   ],
   "source": [
    "nlp = spacy.load(\"pt_core_news_sm\")"
   ]
  },
  {
   "cell_type": "code",
   "execution_count": 3,
   "id": "ce0d5d03-59cd-40fa-990d-16713d3381bc",
   "metadata": {},
   "outputs": [],
   "source": [
    "# pasta = \"s1_base_rotulada_estigma\"\n",
    "# pasta = \"s1_links_folha_sem_rotulo_estadao_rotulado\"\n",
    "# pasta = \"s1_links_correio_do_povo_sem_rotulo\"\n",
    "# pasta = \"s1_links_estadao_sem_rotulo\"\n",
    "# pasta = \"s1_pasta_09_2023\"\n",
    "pasta = \"s1_pasta_04_2024\""
   ]
  },
  {
   "cell_type": "code",
   "execution_count": 30,
   "id": "57726daf-47eb-4502-b18b-b78467e93104",
   "metadata": {},
   "outputs": [],
   "source": [
    "# nome_arquivo = \"links_estadao_rotulados_base_estigma_resgatados.csv\"\n",
    "# nome_arquivo = \"links_folha_rotulados_base_estigma_resgatados.csv\"\n",
    "# nome_arquivo = \"links_estadao_rotulados_resgatados.csv\"\n",
    "# nome_arquivo = \"links_folha_sem_rotulo_resgatados.csv\"\n",
    "# nome_arquivo = \"links_correio_do_povo_organizado_paragrafos_resgatados.csv\"\n",
    "# nome_arquivo = \"links_estadao_resgatados.csv\"\n",
    "\n",
    "# nome_arquivo = \"links_folha_09_2023.csv_completo_resgatado.csv\"\n",
    "# nome_arquivo = \"links_estadao_09_2023.csv_completo_resgatado.csv\"\n",
    "# nome_arquivo = \"links_correio_09_2023.csv_completo_resgatado.csv\"\n",
    "\n",
    "nome_arquivo = \"links_folha_04_2024.csv_completo_resgatado.csv\"\n",
    "# nome_arquivo = \"links_estadao_04_2024.csv_completo_resgatado.csv\"\n",
    "# nome_arquivo = \"links_correio_04_2024.csv_completo_resgatado.csv\""
   ]
  },
  {
   "cell_type": "code",
   "execution_count": 31,
   "id": "f20f2d2c-9cae-4d7f-944c-bdebb11ac3e9",
   "metadata": {},
   "outputs": [
    {
     "data": {
      "text/plain": [
       "(88, 4)"
      ]
     },
     "execution_count": 31,
     "metadata": {},
     "output_type": "execute_result"
    }
   ],
   "source": [
    "df = pd.read_csv(pasta+\"/\"+nome_arquivo)\n",
    "df.shape"
   ]
  },
  {
   "cell_type": "code",
   "execution_count": 32,
   "id": "7592f6ee-24e8-4059-9d81-22f1ee51477b",
   "metadata": {},
   "outputs": [
    {
     "data": {
      "text/plain": [
       "'[\\'Durante o curso do episódio, afirma o médico, é importante o uso de medicamentos antipsicóticos para estabilização do quadro. \"É importante destacar que muitos casos podem evoluir para diagnósticos definitivos em psiquiatria e necessitar de tratamento crônico, como no caso da esquizofrenia e do transtorno bipolar.\"\\']'"
      ]
     },
     "execution_count": 32,
     "metadata": {},
     "output_type": "execute_result"
    }
   ],
   "source": [
    "df.paragrafos_resgatados.values[0]"
   ]
  },
  {
   "cell_type": "code",
   "execution_count": 33,
   "id": "dba2004a-1b93-4c3e-bc79-4890959603b3",
   "metadata": {},
   "outputs": [],
   "source": [
    "doc = nlp(eval(df.paragrafos_resgatados.values[0])[0].lower())"
   ]
  },
  {
   "cell_type": "code",
   "execution_count": 34,
   "id": "194986a4-92a7-4705-9cc2-f8332d5ed145",
   "metadata": {},
   "outputs": [
    {
     "data": {
      "text/plain": [
       "durante o curso do episódio, afirma o médico, é importante o uso de medicamentos antipsicóticos para estabilização do quadro. \"é importante destacar que muitos casos podem evoluir para diagnósticos definitivos em psiquiatria e necessitar de tratamento crônico, como no caso da esquizofrenia e do transtorno bipolar.\""
      ]
     },
     "execution_count": 34,
     "metadata": {},
     "output_type": "execute_result"
    }
   ],
   "source": [
    "doc"
   ]
  },
  {
   "cell_type": "code",
   "execution_count": 35,
   "id": "94b36aac-ad6d-4578-9351-51be53f79c87",
   "metadata": {},
   "outputs": [],
   "source": [
    "lista_palavras = []\n",
    "for e in doc: \n",
    "    valido = not e.is_stop and e.is_alpha\n",
    "    if valido:\n",
    "        lista_palavras.append(e.text)"
   ]
  },
  {
   "cell_type": "code",
   "execution_count": 36,
   "id": "903dcab0-c01a-4930-804c-f4758b1fd694",
   "metadata": {},
   "outputs": [
    {
     "data": {
      "text/plain": [
       "'durante curso episódio afirma médico importante uso medicamentos antipsicóticos estabilização quadro importante destacar casos evoluir diagnósticos definitivos psiquiatria necessitar tratamento crônico caso esquizofrenia transtorno bipolar'"
      ]
     },
     "execution_count": 36,
     "metadata": {},
     "output_type": "execute_result"
    }
   ],
   "source": [
    "\" \".join(lista_palavras)"
   ]
  },
  {
   "cell_type": "code",
   "execution_count": 37,
   "id": "f0374948-9132-407a-bbdd-333fd8c1f904",
   "metadata": {},
   "outputs": [],
   "source": [
    "def limpa_texto_sw(lista_str):\n",
    "    lista = eval(lista_str)\n",
    "    lista_paragrafos = []\n",
    "    for paragrafo in lista:\n",
    "        doc = nlp(paragrafo.lower())\n",
    "        lista_palavras = []\n",
    "        for palavra in doc:\n",
    "            valido = not palavra.is_stop and palavra.is_alpha\n",
    "            if valido: \n",
    "                lista_palavras.append(palavra.text)\n",
    "        palavras = \" \".join(lista_palavras)\n",
    "        lista_paragrafos.append(palavras.lower())\n",
    "    \n",
    "    return lista_paragrafos"
   ]
  },
  {
   "cell_type": "code",
   "execution_count": 38,
   "id": "5c506850-b3da-4ef7-b9f2-591a0fc0db5e",
   "metadata": {},
   "outputs": [
    {
     "data": {
      "text/plain": [
       "['durante curso episódio afirma médico importante uso medicamentos antipsicóticos estabilização quadro importante destacar casos evoluir diagnósticos definitivos psiquiatria necessitar tratamento crônico caso esquizofrenia transtorno bipolar']"
      ]
     },
     "execution_count": 38,
     "metadata": {},
     "output_type": "execute_result"
    }
   ],
   "source": [
    "limpa_texto_sw(df.paragrafos_resgatados.values[0])"
   ]
  },
  {
   "cell_type": "code",
   "execution_count": 39,
   "id": "86fa9b6d-b894-4a88-9eff-4e7f33a244a7",
   "metadata": {},
   "outputs": [],
   "source": [
    "df[\"paragrafos_tratados_sw\"] = df[\"paragrafos_resgatados\"].apply(limpa_texto_sw)"
   ]
  },
  {
   "cell_type": "code",
   "execution_count": 40,
   "id": "93f8b604",
   "metadata": {},
   "outputs": [
    {
     "data": {
      "text/html": [
       "<div>\n",
       "<style scoped>\n",
       "    .dataframe tbody tr th:only-of-type {\n",
       "        vertical-align: middle;\n",
       "    }\n",
       "\n",
       "    .dataframe tbody tr th {\n",
       "        vertical-align: top;\n",
       "    }\n",
       "\n",
       "    .dataframe thead th {\n",
       "        text-align: right;\n",
       "    }\n",
       "</style>\n",
       "<table border=\"1\" class=\"dataframe\">\n",
       "  <thead>\n",
       "    <tr style=\"text-align: right;\">\n",
       "      <th></th>\n",
       "      <th>n</th>\n",
       "      <th>links</th>\n",
       "      <th>paragrafos_resgatados</th>\n",
       "      <th>texto_completo</th>\n",
       "      <th>paragrafos_tratados_sw</th>\n",
       "    </tr>\n",
       "  </thead>\n",
       "  <tbody>\n",
       "    <tr>\n",
       "      <th>0</th>\n",
       "      <td>0</td>\n",
       "      <td>https://www1.folha.uol.com.br/blogs/saude-ment...</td>\n",
       "      <td>['Durante o curso do episódio, afirma o médico...</td>\n",
       "      <td>['BBB: Entenda o que é quadro psicótico agudo ...</td>\n",
       "      <td>[durante curso episódio afirma médico importan...</td>\n",
       "    </tr>\n",
       "    <tr>\n",
       "      <th>1</th>\n",
       "      <td>1</td>\n",
       "      <td>https://www1.folha.uol.com.br/cotidiano/2024/0...</td>\n",
       "      <td>['Embora tenham reconhecido que o réu agiu de ...</td>\n",
       "      <td>['Begoleã Mendes fará tratamento psiquiátrico ...</td>\n",
       "      <td>[tenham reconhecido réu agiu maneira premedita...</td>\n",
       "    </tr>\n",
       "    <tr>\n",
       "      <th>2</th>\n",
       "      <td>2</td>\n",
       "      <td>https://www1.folha.uol.com.br/equilibrioesaude...</td>\n",
       "      <td>[', deficiência intelectual, esquizofrenia, al...</td>\n",
       "      <td>['Transtornos mentais afetam vida saudável de ...</td>\n",
       "      <td>[deficiência intelectual esquizofrenia transto...</td>\n",
       "    </tr>\n",
       "    <tr>\n",
       "      <th>3</th>\n",
       "      <td>3</td>\n",
       "      <td>https://www1.folha.uol.com.br/ciencia/2023/12/...</td>\n",
       "      <td>['Em 2019, a equipe de van den Heuvel demonstr...</td>\n",
       "      <td>['A importância do tamanho do cérebro para a i...</td>\n",
       "      <td>[equipe van den heuvel demonstrou padrões cone...</td>\n",
       "    </tr>\n",
       "    <tr>\n",
       "      <th>4</th>\n",
       "      <td>4</td>\n",
       "      <td>https://www1.folha.uol.com.br/equilibrioesaude...</td>\n",
       "      <td>['Um outro estudo publicado pelo seu grupo em ...</td>\n",
       "      <td>['IA diagnostica autismo usando imagem da reti...</td>\n",
       "      <td>[outro estudo publicado aplicou metodologia ca...</td>\n",
       "    </tr>\n",
       "  </tbody>\n",
       "</table>\n",
       "</div>"
      ],
      "text/plain": [
       "   n                                              links  \\\n",
       "0  0  https://www1.folha.uol.com.br/blogs/saude-ment...   \n",
       "1  1  https://www1.folha.uol.com.br/cotidiano/2024/0...   \n",
       "2  2  https://www1.folha.uol.com.br/equilibrioesaude...   \n",
       "3  3  https://www1.folha.uol.com.br/ciencia/2023/12/...   \n",
       "4  4  https://www1.folha.uol.com.br/equilibrioesaude...   \n",
       "\n",
       "                               paragrafos_resgatados  \\\n",
       "0  ['Durante o curso do episódio, afirma o médico...   \n",
       "1  ['Embora tenham reconhecido que o réu agiu de ...   \n",
       "2  [', deficiência intelectual, esquizofrenia, al...   \n",
       "3  ['Em 2019, a equipe de van den Heuvel demonstr...   \n",
       "4  ['Um outro estudo publicado pelo seu grupo em ...   \n",
       "\n",
       "                                      texto_completo  \\\n",
       "0  ['BBB: Entenda o que é quadro psicótico agudo ...   \n",
       "1  ['Begoleã Mendes fará tratamento psiquiátrico ...   \n",
       "2  ['Transtornos mentais afetam vida saudável de ...   \n",
       "3  ['A importância do tamanho do cérebro para a i...   \n",
       "4  ['IA diagnostica autismo usando imagem da reti...   \n",
       "\n",
       "                              paragrafos_tratados_sw  \n",
       "0  [durante curso episódio afirma médico importan...  \n",
       "1  [tenham reconhecido réu agiu maneira premedita...  \n",
       "2  [deficiência intelectual esquizofrenia transto...  \n",
       "3  [equipe van den heuvel demonstrou padrões cone...  \n",
       "4  [outro estudo publicado aplicou metodologia ca...  "
      ]
     },
     "execution_count": 40,
     "metadata": {},
     "output_type": "execute_result"
    }
   ],
   "source": [
    "df.head()"
   ]
  },
  {
   "cell_type": "code",
   "execution_count": 41,
   "id": "bd715d5b",
   "metadata": {},
   "outputs": [],
   "source": [
    "pasta_destino = \"s2_base_tratada\"\n",
    "\n",
    "# subpasta_destino = \"bases_treino_teste\"\n",
    "# subpasta_destino = \"bases_aplicacao\"\n",
    "# subpasta_destino = \"pasta_09_2023\"\n",
    "subpasta_destino = \"pasta_04_2024\""
   ]
  },
  {
   "cell_type": "code",
   "execution_count": 42,
   "id": "a0100e13-1a3d-4c29-9e89-ddbc797974c6",
   "metadata": {},
   "outputs": [],
   "source": [
    "df.to_csv(f\"{pasta_destino}/{subpasta_destino}/tratado_{nome_arquivo}\", index = False)"
   ]
  },
  {
   "cell_type": "code",
   "execution_count": null,
   "id": "3dea7f1a",
   "metadata": {},
   "outputs": [],
   "source": []
  },
  {
   "cell_type": "code",
   "execution_count": null,
   "id": "c3955c0a",
   "metadata": {},
   "outputs": [],
   "source": []
  }
 ],
 "metadata": {
  "kernelspec": {
   "display_name": "tf-venv39",
   "language": "python",
   "name": "python3"
  },
  "language_info": {
   "codemirror_mode": {
    "name": "ipython",
    "version": 3
   },
   "file_extension": ".py",
   "mimetype": "text/x-python",
   "name": "python",
   "nbconvert_exporter": "python",
   "pygments_lexer": "ipython3",
   "version": "3.9.15"
  }
 },
 "nbformat": 4,
 "nbformat_minor": 5
}
