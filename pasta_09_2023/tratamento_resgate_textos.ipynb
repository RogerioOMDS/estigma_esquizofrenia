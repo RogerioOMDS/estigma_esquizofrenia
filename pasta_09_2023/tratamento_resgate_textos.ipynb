{
 "cells": [
  {
   "cell_type": "code",
   "execution_count": 51,
   "id": "592842d2",
   "metadata": {
    "id": "57b7d6da-9d11-4922-84ca-b0261899a7f9"
   },
   "outputs": [],
   "source": [
    "import pandas as pd\n",
    "import numpy as np\n",
    "import urllib\n",
    "import requests\n",
    "from bs4 import BeautifulSoup\n",
    "import os\n",
    "from time import sleep\n",
    "import time\n",
    "from urllib.request import Request, urlopen\n",
    "from urllib.error import URLError, HTTPError\n",
    "import random "
   ]
  },
  {
   "cell_type": "code",
   "execution_count": 52,
   "id": "c3afe71b",
   "metadata": {
    "id": "3b9d1a76-ad92-49a2-bb3c-d19c80508bf0"
   },
   "outputs": [],
   "source": [
    "import spacy\n",
    "nlp = spacy.load(\"pt_core_news_sm\")"
   ]
  },
  {
   "cell_type": "code",
   "execution_count": 72,
   "id": "264d5884",
   "metadata": {
    "id": "594aeb9b-d319-46f1-939b-17d628f2ed7b",
    "outputId": "793d8634-1737-4774-8041-3495148aa69b"
   },
   "outputs": [
    {
     "data": {
      "text/plain": [
       "(10, 2)"
      ]
     },
     "execution_count": 72,
     "metadata": {},
     "output_type": "execute_result"
    }
   ],
   "source": [
    "# base_inicial = \"links_folha_09_2023.csv\"\n",
    "# base_inicial = \"links_estadao_09_2023.csv\"\n",
    "base_inicial = \"links_correio_09_2023.csv\"\n",
    "\n",
    "df = pd.read_csv(base_inicial)\n",
    "df = df.reset_index()\n",
    "df.columns = [\"n\",\"links\"]\n",
    "df.shape\n"
   ]
  },
  {
   "cell_type": "code",
   "execution_count": 73,
   "id": "bb8301b6",
   "metadata": {},
   "outputs": [
    {
     "data": {
      "text/html": [
       "<div>\n",
       "<style scoped>\n",
       "    .dataframe tbody tr th:only-of-type {\n",
       "        vertical-align: middle;\n",
       "    }\n",
       "\n",
       "    .dataframe tbody tr th {\n",
       "        vertical-align: top;\n",
       "    }\n",
       "\n",
       "    .dataframe thead th {\n",
       "        text-align: right;\n",
       "    }\n",
       "</style>\n",
       "<table border=\"1\" class=\"dataframe\">\n",
       "  <thead>\n",
       "    <tr style=\"text-align: right;\">\n",
       "      <th></th>\n",
       "      <th>n</th>\n",
       "      <th>links</th>\n",
       "    </tr>\n",
       "  </thead>\n",
       "  <tbody>\n",
       "    <tr>\n",
       "      <th>0</th>\n",
       "      <td>0</td>\n",
       "      <td>https://www.correiodopovo.com.br/cadernodesaba...</td>\n",
       "    </tr>\n",
       "    <tr>\n",
       "      <th>1</th>\n",
       "      <td>1</td>\n",
       "      <td>https://www.correiodopovo.com.br/not%C3%ADcias...</td>\n",
       "    </tr>\n",
       "    <tr>\n",
       "      <th>2</th>\n",
       "      <td>2</td>\n",
       "      <td>https://www.correiodopovo.com.br/not%C3%ADcias...</td>\n",
       "    </tr>\n",
       "    <tr>\n",
       "      <th>3</th>\n",
       "      <td>3</td>\n",
       "      <td>https://www.correiodopovo.com.br/not%C3%ADcias...</td>\n",
       "    </tr>\n",
       "    <tr>\n",
       "      <th>4</th>\n",
       "      <td>4</td>\n",
       "      <td>https://www.correiodopovo.com.br/arteagenda/fi...</td>\n",
       "    </tr>\n",
       "  </tbody>\n",
       "</table>\n",
       "</div>"
      ],
      "text/plain": [
       "   n                                              links\n",
       "0  0  https://www.correiodopovo.com.br/cadernodesaba...\n",
       "1  1  https://www.correiodopovo.com.br/not%C3%ADcias...\n",
       "2  2  https://www.correiodopovo.com.br/not%C3%ADcias...\n",
       "3  3  https://www.correiodopovo.com.br/not%C3%ADcias...\n",
       "4  4  https://www.correiodopovo.com.br/arteagenda/fi..."
      ]
     },
     "execution_count": 73,
     "metadata": {},
     "output_type": "execute_result"
    }
   ],
   "source": [
    "df.head()"
   ]
  },
  {
   "cell_type": "code",
   "execution_count": 74,
   "id": "72c71488",
   "metadata": {
    "id": "15d797c0-18b3-455f-95ac-488546cba0b8"
   },
   "outputs": [],
   "source": [
    "def limpa_paragrafos(link, tamanho):\n",
    "    \n",
    "    headers = {\"User-Agent\": \"Mozilla/5.0 (Windows NT 10.0; Win64; x64) AppleWebKit/537.36 (KHTML, like Gecko) Chrome/91.0.4472.77 Safari/537.36\"}\n",
    "    try:\n",
    "        req = Request(link, headers = headers)\n",
    "        response = urlopen(req)\n",
    "       \n",
    "    except HTTPError as e: # erro de segurança do site, pode ser necessário usar user-Agent\n",
    "        print(e.status, e.reason)\n",
    "        return [\"404_nao_encontrado\"]\n",
    "\n",
    "    except URLError as e:\n",
    "        print(e.reason)\n",
    "        return [\"404_nao_encontrado\"]\n",
    "\n",
    "    t = random.randint(1, 10)\n",
    "    # time.sleep(t)\n",
    "    \n",
    "#     html = urllib.request.urlopen(link).read()\n",
    "    html = response.read()\n",
    "    soup = BeautifulSoup(html)\n",
    "\n",
    "    for script in soup([\"script\", \"style\"]):\n",
    "        script.decompose()\n",
    "\n",
    "    lista = []\n",
    "    for i in soup.stripped_strings:\n",
    "        lista.append(i)\n",
    "    \n",
    "#     print(lista)\n",
    "\n",
    "    miolo = []\n",
    "    for i in lista:\n",
    "        if len(i) > tamanho:\n",
    "            miolo.append(i.replace('\\r\\n',''))\n",
    "#             print(miolo)\n",
    "\n",
    "    paragrafos = []\n",
    "    for i in range(len(miolo)):\n",
    "        if 'esquizo' in miolo[i]:\n",
    "            paragrafos.append(miolo[i])\n",
    "    \n",
    "    t = random.randint(1, 10)\n",
    "    time.sleep(t)\n",
    "    \n",
    "#     for i in range(len(paragrafos)):\n",
    "#         lista_final = []\n",
    "#         doc = nlp(paragrafos[i].lower())\n",
    "#         for token in doc:\n",
    "#             valido = not token.is_stop and token.is_alpha\n",
    "# #             valido = token.is_stop\n",
    "#             if valido:\n",
    "#                 lista_final.append(token.text)\n",
    "    \n",
    "#         limpo = ' '.join(lista_final)\n",
    "#         paragrafos[i] = limpo\n",
    "#         time.sleep(1)\n",
    "\n",
    "    return paragrafos, miolo"
   ]
  },
  {
   "cell_type": "code",
   "execution_count": 75,
   "id": "22b7e3a4",
   "metadata": {
    "id": "236b1f16-a1c1-4c2e-893b-d874847a7659",
    "outputId": "b956449f-43ec-4171-9a32-384765043415"
   },
   "outputs": [
    {
     "data": {
      "text/plain": [
       "'https://www.correiodopovo.com.br/cadernodesabado/artaud-75-anos-ap%C3%B3s-sua-morte-1.995539'"
      ]
     },
     "execution_count": 75,
     "metadata": {},
     "output_type": "execute_result"
    }
   ],
   "source": [
    "link = df.links.values[0]\n",
    "link"
   ]
  },
  {
   "cell_type": "code",
   "execution_count": 76,
   "id": "233bc174",
   "metadata": {
    "id": "99dbca83-f9e8-434b-a886-400a58441995"
   },
   "outputs": [],
   "source": [
    "paragrafos, miolo = limpa_paragrafos(link, 70)"
   ]
  },
  {
   "cell_type": "code",
   "execution_count": 77,
   "id": "67f80503",
   "metadata": {
    "id": "89eedadf-f34d-476e-8d16-6b4045a15650",
    "outputId": "2ecd2f6d-b03d-49d3-97e4-701dba034b0a"
   },
   "outputs": [
    {
     "data": {
      "text/plain": [
       "\"['A psicanalista Évelyne Grossman contextualiza as reverberações da obra de Artaud: “Durante os anos 60, a partir da publicação, em São Francisco, de uma antologia de seus textos, impôs-se sobre os Estados Unidos sua imagem como um drogado, adepto de todos os delírios, trovador dos paraísos artificiais e da liberação social. Promovido como profeta da Beat Generation, Artaud se funde à revolução hippie e o pop art. Na mesma época na Europa, a luta contra a internação asilar conduzida pelo movimento antipsiquiátrico britânico (Ronald D. Laing, David Cooper), suas hipóteses de uma gênese familiar e social da esquizofrenia registrado nas obras de Michel Foucault ou de Gilles Deleuze sobre a loucura, suscitaram toda uma série de leituras militantes dos textos de Artaud”.']\""
      ]
     },
     "execution_count": 77,
     "metadata": {},
     "output_type": "execute_result"
    }
   ],
   "source": [
    "str(paragrafos)"
   ]
  },
  {
   "cell_type": "code",
   "execution_count": 78,
   "id": "8ac00f7f",
   "metadata": {},
   "outputs": [
    {
     "data": {
      "text/plain": [
       "\"['Poeta, ator, escritor e dramaturgo francês Antonin Artaud, morto há 75 anos', 'Dia 4 de março de 1948, Antonin Artaud é encontrado caído e morto, perto de sua cama, em Paris. Eis o fim de todos os vivos, quando a moira Átropos corta o fio do destino, como se fechassem as cortinas do palco. Artaud, no entanto, legou-nos uma obra imensa e diversa, até agora e mais do que nunca, centro de investigação de pesquisadores e de artistas. Homem nascido em 1896, teve uma trajetória potente, revolucionária e incandescente em todos os meios onde atuou, refletiu, semeou discórdias e propôs o retorno às origens míticas, contra os artificialismos e as tendências dos bons modos pensantes e artísticos. Revoltou-se contra a sociedade burguesa, totalitária e ocidental, durante e após as duas Guerras Mundiais. Carregou e sustentou toda a sorte de males no corpo, passando a encarnar o “mal-estar” freudiano extremo: suportar as forças da natureza, encarar a decrepitude do corpo e se relacionar com o “outro” – pessoas e mundo. Esse imperativo dos laços sociais é o ponto in extremis de qualquer humano. Mas, ao mesmo tempo, é a redenção, até nova ordem: a mudança inexorável e radical dos tempos e das ideologias.', 'A psicanalista Évelyne Grossman contextualiza as reverberações da obra de Artaud: “Durante os anos 60, a partir da publicação, em São Francisco, de uma antologia de seus textos, impôs-se sobre os Estados Unidos sua imagem como um drogado, adepto de todos os delírios, trovador dos paraísos artificiais e da liberação social. Promovido como profeta da Beat Generation, Artaud se funde à revolução hippie e o pop art. Na mesma época na Europa, a luta contra a internação asilar conduzida pelo movimento antipsiquiátrico britânico (Ronald D. Laing, David Cooper), suas hipóteses de uma gênese familiar e social da esquizofrenia registrado nas obras de Michel Foucault ou de Gilles Deleuze sobre a loucura, suscitaram toda uma série de leituras militantes dos textos de Artaud”.', 'Se a obra cria o homem, Artaud dá um salto muscular em sua biografia vital, imaginária e ficcional por não se situar no antagonismo entre loucura e normalidade social, mas no meio nuclear de ambas posições. As obras precisam e semi-dizem sobre o corpo que as construiu, porque os artistas usam a Arte como forma refinada de viver e de se abrir para o drama real do mundo, intuindo ou dando pistas para outros pensadores, podendo chegar ao umbigo de nossa condição humana, sem o cartesianismo do bem e do mal, do corpo e do espírito, da marginalidade e da fama. Retomemos os áticos antigos ao lembrar que a fama é para simples mortais; para os deuses, a glória importa mais. Para mim, Artaud ocupa o espaço não só de pensador, mas também de visionário glorioso e de provocador. Busca desestabilizar os padrões de percepção e as representações já cristalizados. Artaud é, por conseguinte, signo triplo: vida, obra e criação.', 'Na primeira metade do século XX, Artaud compõe sua trajetória entre os caminhos, tropeços e desvios do surrealismo, expressionismo, teatro, literatura, cinema, música e artes plásticas. As manifestações culturais buscam meios expressivos para dar conta da vida e do mundo. Artaud, como todos nós, vivia no centro da trama da necessidade, da demanda e do desejo. Sim, um desejo regido pela falta. Ao afirmar, o próprio Artaud, sobre a erosão e o desmoronamento do pensamento, marca como ponto de potência e de lucidez por onde vai construir uma obra em torno desse mesmo vazio. Impulsiona conteúdos profundos para tocar o grão de verdade vital, e não paralisá-lo. O que poderia ser definido como impotência criadora e criativa torna-se trampolim místico sobre o sofrimento e a tortura psicossomáticos, em busca do espírito ritualístico e cósmico. É o mal que o atinge do exterior.', 'Em 1939, Jacques Lacan, no asilo psiquiátrico parisiense Sainte-Anne, prenuncia que Artaud teria a incapacidade para produzir uma obra. Assim como se equivocou para Artaud, o psiquiatra Lacan desse momento, não o psicanalista do futuro, teria errado também para Sade, Qorpo Santo, Nerval, Rimbaud, Nietzsche, Hölderlin, Van Gogh, Lautréamont, Bispo do Rosário e muitos de nós que vivemos no “fio da navalha”. Escreve Artaud: “Em todo alienado existe um gênio não compreendido, cujas ideias, brilhando na sua cabeça, apavoram as pessoas e que somente pode encontrar no delírio uma fuga às opressões que a vida lhe preparou.”', 'Entre vários psiquiatras que pesquisaram o “Caso Artaud”, como Ronald Laing, David Cooper e Franco Basaglia, está a brasileira Nise da Silveira que é ferrenha opositora às instituições policialescas de alienados, contrariando as práticas manicomiais do uso de eletrochoques, de lobotomia e de doses “cavalares” de medicamentos, ao propor métodos humanizados, ligados à arte e à integração cultural, frente ao “inconsciente a céu aberto”. Os vários desenhos-escritura, cadernos e textos deixados por Artaud expressam o que Nise da Silveira pontuou sobre o artista: “Creio que, antes de Artaud, nunca alguém conseguiu por meio de palavras, exprimir, com tanta força, dilacerantes vivências. Pela imagem, sim, que é a direta forma de expressão de processos inconscientes profundos, muitos o fizeram e fazem todos os dias, usando lápis e pincéis. Pela palavra, não”. A Arte é saúde que cria borda nos meios opressivos, truculentos e subjugadores.', 'A vida é porvir e devires. É palavra soprada e roubada. É decomposição e reconstrução de um “corpo sem órgãos”. É crua na radicalidade, está no sangue. É rizoma. É radicalidade desconstrutora. Vida é o Artaud da transformação. É discurso filosófico, poético e cênico. É o duplo do teatro ao se desteatralizar. É magia como nos rituais. É feita de forças incorporais. É experiência não mediada. É revelação trágica. É canto, dança e música. É a impotência do “logos” perante a realidade. Vida é dizer não aos totalitarismos e à indigência mental dos pensamentos execráveis e excrementais. Vida é positividade e negatividade. Vida é grito ancestral e primordial, encontro e afastamento. É atletismo afetivo. Vida é potência de mais vida. É evocação das fontes mitológicas do drama real das coisas. É criar novas linguagens. “A vida é de queimar as questões”, diz Artaud.', 'Para o saudoso crítico, escritor e tradutor Cláudio Willer (1940-2023): “Artaud é único, irrepetível e principalmente irrecuperável; qualquer estudo acadêmico a seu respeito consegue apenas captar algum dos seus aspectos e facetas. O que ele nos deixou, o que ele efetivamente transmitiu, foi não um conjunto de ensinamentos ou de normas estéticas, mas sim uma atitude, uma postura de rebelião radical, de inconformismo e de recusa a compactuar com a nossa civilização.” Artaud é sujeito da angústia e da lógica do paradoxo, do divino e do sagrado. De acordo com Susan Sontag, Artaud é “presença singular, poética, estética do pensamento, teologia da cultura e fenomenologia do sofrimento.” Ou seja, no meio dos sonhos, palavras e pensamentos, há carne.', 'Parte do pensamento de Artaud, podemos ler em “A arte e a morte”, de 1929, “O teatro e seu duplo”, de 1938, “Van Gogh, o suicidado pela sociedade”, de 1947, e “Para acabar com o julgamento de deus”, de 1948. Ainda podemos ler-ver a escrita pictórica em “50 desenhos para assassinar a magia”, editado em 2004. Podemos apreciar o Artaud roteirista em “A concha e o clérigo”, de 1927, direção de Germaine Dulac. Vemos Artaud nos filmes, por exemplo, “A paixão de Joana D’Arc”, de 1928, direção de Carl Theodor Dreyer, na personagem do monge Massieu, ou “Lucrécia Borgia”, direção de Abel Gance, de 1935, na personagem Savonarole. São mais de 20 filmes. Como homem-teatro, Artaud interpretou, escreveu e dirigiu várias peças. Apesar de nove anos em manicômios, de 1937 a 1946, Artaud foi incansável missivista. Suas cartas valem o testemunho e as discussões variadas sobre diferentes áreas do saber humano, mesmo com as visões e os delírios apocalípticos.<VS10.5>', 'Artaud em 2023. A trajetória vital de Artaud nos aponta algum tipo de articulação entre o que circula entre os sujeitos e a cultura. Talvez, sugira certo modo de conexão entre significantes dos humanos, objetos e coisas. Não é à toa que Artaud desperta e provoca estudos e pesquisas, paixões e mitos, nas áreas artísticas e acadêmicas: literatura, teatro, cinema, artes plásticas e visuais, filosofia, história, psicanálise, psiquiatria, música, body art, performance, dança, etc. Foi visionário inclassificável, foge às genealogias e aos enquadramentos ortodoxos, vai além das fronteiras. É vida “personae”. Propôs o choque e o momento autêntico da arte de perceptos e afetos, como choque vivo, entre o ator e o público, entre a obra e o espectador: experiências recíprocas, densas e singulares.', 'A cena construída é o movimento de desejos e de pulsões vitais que denuncia os corpos automatizados, impossibilitados de construção de espaços criativos e desejantes. Para Artaud, a existência requer corpos híbridos e criativos, enodada na linguagem como peste, em estado de putrefação pura do ser, buscando as riquezas a cada novo ciclo de sensibilidade, em movimento contínuo, sem esperanças de completude – o que estrangularia o desejo. Sensações na carne, porquanto é o que nos resta na aventura radical de viver. Enfim, Artaud é reaprender a ler, oxalá, a viver.', '*\\\\xa0Doutor em Teatro e Literatura (Póslit-UnB), doutorando em\\\\xa0Psicanálise (PPGPsiCC-UnB), com estágio pós-doutoral (FURG-RS).', 'Artaud, o Programa de Pós-graduação em Letras, da Universidade Federal do', 'homenagem ao tradutor de Artaud, no Brasil, Cláudio Willer. Haverá presença', 'de artistas e de pesquisadores brasileiros e internacionais. Sob a coordenação', 'de Dr. Adail Sobral (FURG-RS), Dra. Márcia Maesso (UnB-DF) e Dr. Roberto']\""
      ]
     },
     "execution_count": 78,
     "metadata": {},
     "output_type": "execute_result"
    }
   ],
   "source": [
    "str(miolo)"
   ]
  },
  {
   "cell_type": "code",
   "execution_count": 79,
   "id": "7c6014e2",
   "metadata": {},
   "outputs": [
    {
     "data": {
      "text/plain": [
       "'https://www.correiodopovo.com.br/not%C3%ADcias/cidades/institui%C3%A7%C3%B5es-oferecem-servi%C3%A7os-de-justi%C3%A7a-e-assist%C3%AAncia-social-a-mulheres-em-a%C3%A7%C3%A3o-do-trt4-1.1009475'"
      ]
     },
     "execution_count": 79,
     "metadata": {},
     "output_type": "execute_result"
    }
   ],
   "source": [
    "df.links.iloc[1]"
   ]
  },
  {
   "cell_type": "code",
   "execution_count": 80,
   "id": "3fb59a9c",
   "metadata": {},
   "outputs": [],
   "source": [
    "n_links = df.shape[0]"
   ]
  },
  {
   "cell_type": "code",
   "execution_count": 81,
   "id": "f9ad1a3b",
   "metadata": {},
   "outputs": [
    {
     "name": "stdout",
     "output_type": "stream",
     "text": [
      "Processando 0 de 10...\n",
      "Processando 1 de 10...\n",
      "Processando 2 de 10...\n",
      "Processando 3 de 10...\n",
      "Processando 4 de 10...\n",
      "Processando 5 de 10...\n",
      "Processando 6 de 10...\n",
      "Processando 7 de 10...\n",
      "Processando 8 de 10...\n",
      "Processando 9 de 10...\n"
     ]
    }
   ],
   "source": [
    "for i in range(0, n_links):\n",
    "\n",
    "    print(f\"Processando {i} de {n_links}...\")\n",
    "    \n",
    "    link = df.links.iloc[i]\n",
    "    try: \n",
    "        paragrafos, miolo = limpa_paragrafos(link, 70)\n",
    "        df.loc[(df.links == link), \"paragrafos_resgatados\"] = str(paragrafos)\n",
    "        df.loc[(df.links == link), \"texto_completo\"] = str(miolo)\n",
    "    except:\n",
    "        df.loc[(df.links == link), \"paragrafos_resgatados\"] = \"[]\"\n",
    "        df.loc[(df.links == link), \"texto_completo\"] = \"[]\""
   ]
  },
  {
   "cell_type": "code",
   "execution_count": 82,
   "id": "838888ff",
   "metadata": {},
   "outputs": [
    {
     "data": {
      "text/html": [
       "<div>\n",
       "<style scoped>\n",
       "    .dataframe tbody tr th:only-of-type {\n",
       "        vertical-align: middle;\n",
       "    }\n",
       "\n",
       "    .dataframe tbody tr th {\n",
       "        vertical-align: top;\n",
       "    }\n",
       "\n",
       "    .dataframe thead th {\n",
       "        text-align: right;\n",
       "    }\n",
       "</style>\n",
       "<table border=\"1\" class=\"dataframe\">\n",
       "  <thead>\n",
       "    <tr style=\"text-align: right;\">\n",
       "      <th></th>\n",
       "      <th>n</th>\n",
       "      <th>links</th>\n",
       "      <th>paragrafos_resgatados</th>\n",
       "      <th>texto_completo</th>\n",
       "    </tr>\n",
       "  </thead>\n",
       "  <tbody>\n",
       "    <tr>\n",
       "      <th>0</th>\n",
       "      <td>0</td>\n",
       "      <td>https://www.correiodopovo.com.br/cadernodesaba...</td>\n",
       "      <td>['A psicanalista Évelyne Grossman contextualiz...</td>\n",
       "      <td>['Poeta, ator, escritor e dramaturgo francês A...</td>\n",
       "    </tr>\n",
       "    <tr>\n",
       "      <th>1</th>\n",
       "      <td>1</td>\n",
       "      <td>https://www.correiodopovo.com.br/not%C3%ADcias...</td>\n",
       "      <td>['A dona de casa Maria Inês Silva dos Santos v...</td>\n",
       "      <td>['Instituições oferecem serviços de justiça e ...</td>\n",
       "    </tr>\n",
       "    <tr>\n",
       "      <th>2</th>\n",
       "      <td>2</td>\n",
       "      <td>https://www.correiodopovo.com.br/not%C3%ADcias...</td>\n",
       "      <td>['Na terça-feira, Alckmin estará em almoço da ...</td>\n",
       "      <td>['No mês passado, a Confederação da Agricultur...</td>\n",
       "    </tr>\n",
       "    <tr>\n",
       "      <th>3</th>\n",
       "      <td>3</td>\n",
       "      <td>https://www.correiodopovo.com.br/not%C3%ADcias...</td>\n",
       "      <td>['A dona Helena Zelmanovitz está entre as milh...</td>\n",
       "      <td>['Atividades chamam a atenção para o Dia Mundi...</td>\n",
       "    </tr>\n",
       "    <tr>\n",
       "      <th>4</th>\n",
       "      <td>4</td>\n",
       "      <td>https://www.correiodopovo.com.br/arteagenda/fi...</td>\n",
       "      <td>['Para encerrar, o brasileiro “Nise: O Coração...</td>\n",
       "      <td>['Conquistas feitas por mulheres e mostradas e...</td>\n",
       "    </tr>\n",
       "  </tbody>\n",
       "</table>\n",
       "</div>"
      ],
      "text/plain": [
       "   n                                              links  \\\n",
       "0  0  https://www.correiodopovo.com.br/cadernodesaba...   \n",
       "1  1  https://www.correiodopovo.com.br/not%C3%ADcias...   \n",
       "2  2  https://www.correiodopovo.com.br/not%C3%ADcias...   \n",
       "3  3  https://www.correiodopovo.com.br/not%C3%ADcias...   \n",
       "4  4  https://www.correiodopovo.com.br/arteagenda/fi...   \n",
       "\n",
       "                               paragrafos_resgatados  \\\n",
       "0  ['A psicanalista Évelyne Grossman contextualiz...   \n",
       "1  ['A dona de casa Maria Inês Silva dos Santos v...   \n",
       "2  ['Na terça-feira, Alckmin estará em almoço da ...   \n",
       "3  ['A dona Helena Zelmanovitz está entre as milh...   \n",
       "4  ['Para encerrar, o brasileiro “Nise: O Coração...   \n",
       "\n",
       "                                      texto_completo  \n",
       "0  ['Poeta, ator, escritor e dramaturgo francês A...  \n",
       "1  ['Instituições oferecem serviços de justiça e ...  \n",
       "2  ['No mês passado, a Confederação da Agricultur...  \n",
       "3  ['Atividades chamam a atenção para o Dia Mundi...  \n",
       "4  ['Conquistas feitas por mulheres e mostradas e...  "
      ]
     },
     "execution_count": 82,
     "metadata": {},
     "output_type": "execute_result"
    }
   ],
   "source": [
    "df.head()"
   ]
  },
  {
   "cell_type": "code",
   "execution_count": 83,
   "id": "c998878d",
   "metadata": {},
   "outputs": [],
   "source": [
    "df1 = df.query(\"paragrafos_resgatados != '[]'\")"
   ]
  },
  {
   "cell_type": "code",
   "execution_count": 84,
   "id": "b9280ffc",
   "metadata": {},
   "outputs": [
    {
     "data": {
      "text/plain": [
       "(10, 4)"
      ]
     },
     "execution_count": 84,
     "metadata": {},
     "output_type": "execute_result"
    }
   ],
   "source": [
    "df1.shape"
   ]
  },
  {
   "cell_type": "code",
   "execution_count": 85,
   "id": "4d4f2230",
   "metadata": {},
   "outputs": [],
   "source": [
    "df1.to_csv(f\"{base_inicial}_completo_resgatado.csv\", index = False)"
   ]
  },
  {
   "cell_type": "code",
   "execution_count": 102,
   "id": "97f0df86",
   "metadata": {},
   "outputs": [],
   "source": [
    "# df[df.paragrafos_resgatados.notnull()].to_csv(\"links_estadao_resgatados_parte_3.csv\", index = False)\n",
    "# df[df.paragrafos_resgatados.isnull()].to_csv(\"links_estadao_nulos.csv\", index = False)\n"
   ]
  },
  {
   "cell_type": "code",
   "execution_count": 106,
   "id": "3cd77677",
   "metadata": {},
   "outputs": [],
   "source": [
    "# df = pd.read_csv(\"links_estadao_resgatados.csv\")\n",
    "# df.shape"
   ]
  },
  {
   "cell_type": "code",
   "execution_count": 86,
   "id": "d74f4e27",
   "metadata": {},
   "outputs": [
    {
     "data": {
      "text/html": [
       "<div>\n",
       "<style scoped>\n",
       "    .dataframe tbody tr th:only-of-type {\n",
       "        vertical-align: middle;\n",
       "    }\n",
       "\n",
       "    .dataframe tbody tr th {\n",
       "        vertical-align: top;\n",
       "    }\n",
       "\n",
       "    .dataframe thead th {\n",
       "        text-align: right;\n",
       "    }\n",
       "</style>\n",
       "<table border=\"1\" class=\"dataframe\">\n",
       "  <thead>\n",
       "    <tr style=\"text-align: right;\">\n",
       "      <th></th>\n",
       "      <th>n</th>\n",
       "      <th>links</th>\n",
       "      <th>paragrafos_resgatados</th>\n",
       "      <th>texto_completo</th>\n",
       "    </tr>\n",
       "  </thead>\n",
       "  <tbody>\n",
       "  </tbody>\n",
       "</table>\n",
       "</div>"
      ],
      "text/plain": [
       "Empty DataFrame\n",
       "Columns: [n, links, paragrafos_resgatados, texto_completo]\n",
       "Index: []"
      ]
     },
     "execution_count": 86,
     "metadata": {},
     "output_type": "execute_result"
    }
   ],
   "source": [
    "t = df.query(\"paragrafos_resgatados == '[]'\")\n",
    "t"
   ]
  },
  {
   "cell_type": "code",
   "execution_count": 70,
   "id": "408e44b3",
   "metadata": {},
   "outputs": [
    {
     "data": {
      "text/plain": [
       "(2, 4)"
      ]
     },
     "execution_count": 70,
     "metadata": {},
     "output_type": "execute_result"
    }
   ],
   "source": [
    "t.shape"
   ]
  },
  {
   "cell_type": "code",
   "execution_count": 71,
   "id": "a512428e",
   "metadata": {},
   "outputs": [],
   "source": [
    "t.to_csv(f\"{base_inicial}_resgatado_vazio.csv\", index = False)"
   ]
  },
  {
   "cell_type": "code",
   "execution_count": null,
   "id": "0857a151",
   "metadata": {},
   "outputs": [],
   "source": []
  }
 ],
 "metadata": {
  "colab": {
   "name": "tratamento_word2vec.ipynb",
   "provenance": []
  },
  "kernelspec": {
   "display_name": "Python 3.10.4 64-bit",
   "language": "python",
   "name": "python3"
  },
  "language_info": {
   "codemirror_mode": {
    "name": "ipython",
    "version": 3
   },
   "file_extension": ".py",
   "mimetype": "text/x-python",
   "name": "python",
   "nbconvert_exporter": "python",
   "pygments_lexer": "ipython3",
   "version": "3.9.15"
  },
  "vscode": {
   "interpreter": {
    "hash": "2ad2ee33b41c9e762ad5bf2f0a3cb009dc3eaf5b09d1ee5fae31ac4a948dfd78"
   }
  }
 },
 "nbformat": 4,
 "nbformat_minor": 5
}
