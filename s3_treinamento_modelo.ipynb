{
 "cells": [
  {
   "cell_type": "code",
   "execution_count": 1,
   "id": "023e3fdc-ad1f-463b-854c-cfe3561ca7bf",
   "metadata": {},
   "outputs": [],
   "source": [
    "import pandas as pd\n",
    "import numpy as np \n",
    "import matplotlib.pyplot as plt \n",
    "\n",
    "from sklearn.metrics import classification_report, confusion_matrix, ConfusionMatrixDisplay\n",
    "from sklearn.model_selection import train_test_split \n",
    "\n",
    "import tensorflow as tf\n",
    "from tensorflow.keras.backend import clear_session, sigmoid\n",
    "from tensorflow.keras.optimizers import SGD\n",
    "from tensorflow.keras.wrappers.scikit_learn import KerasClassifier\n",
    "from keras.utils.generic_utils import get_custom_objects\n",
    "from tensorflow.keras.layers import Activation, Dense, Dropout\n",
    "from keras.models import Sequential"
   ]
  },
  {
   "cell_type": "code",
   "execution_count": 2,
   "id": "7d9dcb6b-55ab-4d51-b866-217710b48103",
   "metadata": {},
   "outputs": [],
   "source": [
    "def plot_history(history):\n",
    "    \n",
    "    acc = history.history['accuracy']\n",
    "    val_acc = history.history['val_accuracy']\n",
    "    loss = history.history['loss']\n",
    "    val_loss = history.history['val_loss']\n",
    "    x = range(1, len(acc) + 1)\n",
    "    \n",
    "    # plt.style.use('ggplot')\n",
    "    plt.figure(figsize=(12, 5))\n",
    "    plt.subplot(1, 2, 1)\n",
    "    plt.plot(x, acc, 'b', label='Training acc')\n",
    "    plt.plot(x, val_acc, 'r', label='Validation acc')\n",
    "    plt.title('Training and validation accuracy')\n",
    "    plt.legend()\n",
    "    plt.subplot(1, 2, 2)\n",
    "    plt.plot(x, loss, 'b', label='Training loss')\n",
    "    plt.plot(x, val_loss, 'r', label='Validation loss')\n",
    "    plt.title('Training and validation loss')\n",
    "    plt.legend()"
   ]
  },
  {
   "cell_type": "code",
   "execution_count": 3,
   "id": "964bc28a-024f-42b0-ad2b-e5acc4a3b182",
   "metadata": {},
   "outputs": [],
   "source": [
    "SEED = 100\n",
    "\n",
    "dim = 600\n",
    "# base_vetorizada = \"base_vetorizada\"\n",
    "base_vetorizada = \"s3_base_vetorizada_600\"\n",
    "\n",
    "pasta = \"bases_treino_teste\"\n",
    "arquivo1 = \"tratado_links_folha_rotulados_base_estigma_resgatados.csv\"\n",
    "arquivo2 = \"tratado_links_estadao_rotulados_base_estigma_resgatados.csv\"\n",
    "arquivo3 = \"tratado_links_estadao_rotulados_resgatados.csv\""
   ]
  },
  {
   "cell_type": "code",
   "execution_count": 4,
   "id": "3ea7f0de-7fe4-4006-9f80-f46b3c7b69f9",
   "metadata": {
    "tags": []
   },
   "outputs": [],
   "source": [
    "df1 = pd.read_csv(f\"{base_vetorizada}/{pasta}/{arquivo1}\")\n",
    "df2 = pd.read_csv(f\"{base_vetorizada}/{pasta}/{arquivo2}\")\n",
    "df3 = pd.read_csv(f\"{base_vetorizada}/{pasta}/{arquivo3}\")"
   ]
  },
  {
   "cell_type": "code",
   "execution_count": 5,
   "id": "17158279-d7fd-4a4c-8802-9d168183d2cb",
   "metadata": {},
   "outputs": [],
   "source": [
    "vetor1 = np.load(f\"{base_vetorizada}/{pasta}/{arquivo1}.npy\")\n",
    "vetor2 = np.load(f\"{base_vetorizada}/{pasta}/{arquivo2}.npy\")\n",
    "vetor3 = np.load(f\"{base_vetorizada}/{pasta}/{arquivo3}.npy\")"
   ]
  },
  {
   "cell_type": "code",
   "execution_count": 6,
   "id": "ce0bfb8a",
   "metadata": {},
   "outputs": [
    {
     "data": {
      "text/plain": [
       "(103, 6)"
      ]
     },
     "execution_count": 6,
     "metadata": {},
     "output_type": "execute_result"
    }
   ],
   "source": [
    "df3.shape"
   ]
  },
  {
   "cell_type": "code",
   "execution_count": 7,
   "id": "19e6ae24-1b4f-4d5d-abbb-2909afa569d8",
   "metadata": {},
   "outputs": [
    {
     "data": {
      "text/plain": [
       "(1533, 1)"
      ]
     },
     "execution_count": 7,
     "metadata": {},
     "output_type": "execute_result"
    }
   ],
   "source": [
    "df_y = pd.concat([\n",
    "    df1[[\"metaforico\"]],\n",
    "    df2[[\"metaforico\"]]\n",
    "    # df3[[\"metaforico\"]]\n",
    "], axis = 0)\n",
    "\n",
    "df_y.shape"
   ]
  },
  {
   "cell_type": "code",
   "execution_count": 8,
   "id": "eb30adf5-ee2d-4ada-867e-a3aa13e72cf1",
   "metadata": {},
   "outputs": [
    {
     "data": {
      "text/plain": [
       "(1533, 600)"
      ]
     },
     "execution_count": 8,
     "metadata": {},
     "output_type": "execute_result"
    }
   ],
   "source": [
    "# vetor_x = np.concatenate((vetor1, vetor2, vetor3), axis = 0)\n",
    "vetor_x = np.concatenate((vetor1, vetor2), axis = 0)\n",
    "vetor_x.shape"
   ]
  },
  {
   "cell_type": "code",
   "execution_count": 9,
   "id": "24621f12-18c9-42a8-b6f5-3213f45101b7",
   "metadata": {},
   "outputs": [],
   "source": [
    "X = vetor_x \n",
    "y = df_y[\"metaforico\"]"
   ]
  },
  {
   "cell_type": "code",
   "execution_count": 10,
   "id": "bc22d686-be49-4652-a6fb-687b9f054049",
   "metadata": {},
   "outputs": [],
   "source": [
    "X_train, X_test, y_train, y_test = train_test_split(X, y, stratify=y, test_size=0.2, random_state = SEED)"
   ]
  },
  {
   "cell_type": "code",
   "execution_count": 11,
   "id": "82b6234c-3acc-43d4-a1c1-3a024a078db2",
   "metadata": {},
   "outputs": [
    {
     "name": "stdout",
     "output_type": "stream",
     "text": [
      "Dados de treino =  (1226, 600)\n",
      "Dados de teste =  (307, 600)\n"
     ]
    }
   ],
   "source": [
    "print(\"Dados de treino = \", X_train.shape)\n",
    "print(\"Dados de teste = \", X_test.shape)"
   ]
  },
  {
   "cell_type": "code",
   "execution_count": 12,
   "id": "f4884bd9-4904-4312-a446-f7d9dedb856a",
   "metadata": {},
   "outputs": [
    {
     "name": "stdout",
     "output_type": "stream",
     "text": [
      "Proporção de y de treino\n",
      "0    0.659054\n",
      "1    0.340946\n",
      "Name: metaforico, dtype: float64\n",
      "\n",
      "Proporção de y de teste\n",
      "0    0.65798\n",
      "1    0.34202\n",
      "Name: metaforico, dtype: float64\n"
     ]
    }
   ],
   "source": [
    "print(\"Proporção de y de treino\")\n",
    "print(y_train.value_counts(normalize = True))\n",
    "\n",
    "print(\"\\nProporção de y de teste\")\n",
    "print(y_test.value_counts(normalize = True))"
   ]
  },
  {
   "cell_type": "code",
   "execution_count": 13,
   "id": "82447e02-e7e4-4a9f-8cdb-62cf82016ada",
   "metadata": {},
   "outputs": [],
   "source": [
    "tf.keras.backend.clear_session()"
   ]
  },
  {
   "cell_type": "code",
   "execution_count": 14,
   "id": "d752699e-5e0a-4c06-9046-b7d972afb49d",
   "metadata": {},
   "outputs": [],
   "source": [
    "callback = tf.keras.callbacks.EarlyStopping(\n",
    "    monitor=\"val_accuracy\",\n",
    "    patience=10,\n",
    "    verbose=1,\n",
    "    restore_best_weights=True,\n",
    ")"
   ]
  },
  {
   "cell_type": "code",
   "execution_count": 15,
   "id": "cb016d8b-7200-4210-b430-4074eeffd9ec",
   "metadata": {},
   "outputs": [],
   "source": [
    "opt = SGD(learning_rate = 0.001, nesterov = True)\n",
    "\n",
    "# def swish(x, beta = 1):\n",
    "#     return (x * sigmoid(beta * x))\n",
    "# get_custom_objects().update({'swish': Activation(swish)})  \n",
    "\n",
    "class Swish(Activation):\n",
    "    def __init__(self, activation, **kwargs):\n",
    "        super(Swish, self).__init__(activation, **kwargs)\n",
    "        self.__name__ = 'swish'\n",
    "        \n",
    "def swish(x):\n",
    "    return (sigmoid(x) * x)\n",
    "get_custom_objects().update({'swish': Swish(swish)})"
   ]
  },
  {
   "cell_type": "code",
   "execution_count": 16,
   "id": "b9828710-1b2b-41cd-a1f3-9d1a7ad1e013",
   "metadata": {},
   "outputs": [
    {
     "name": "stdout",
     "output_type": "stream",
     "text": [
      "Model: \"sequential\"\n",
      "_________________________________________________________________\n",
      " Layer (type)                Output Shape              Param #   \n",
      "=================================================================\n",
      " dense (Dense)               (None, 512)               307712    \n",
      "                                                                 \n",
      " dropout (Dropout)           (None, 512)               0         \n",
      "                                                                 \n",
      " dense_1 (Dense)             (None, 256)               131328    \n",
      "                                                                 \n",
      " dropout_1 (Dropout)         (None, 256)               0         \n",
      "                                                                 \n",
      " dense_2 (Dense)             (None, 128)               32896     \n",
      "                                                                 \n",
      " dropout_2 (Dropout)         (None, 128)               0         \n",
      "                                                                 \n",
      " dense_3 (Dense)             (None, 64)                8256      \n",
      "                                                                 \n",
      " dense_4 (Dense)             (None, 1)                 65        \n",
      "                                                                 \n",
      "=================================================================\n",
      "Total params: 480,257\n",
      "Trainable params: 480,257\n",
      "Non-trainable params: 0\n",
      "_________________________________________________________________\n"
     ]
    }
   ],
   "source": [
    "model_cbow = Sequential()\n",
    "model_cbow.add(Dense(512, input_dim=dim, activation='swish'))\n",
    "model_cbow.add(Dropout(0.2))\n",
    "model_cbow.add(Dense(256, activation='swish'))\n",
    "model_cbow.add(Dropout(0.2))\n",
    "model_cbow.add(Dense(128, activation='swish'))\n",
    "model_cbow.add(Dropout(0.2))\n",
    "model_cbow.add(Dense(64, activation='swish'))\n",
    "model_cbow.add(Dense(1, activation='sigmoid'))\n",
    "model_cbow.compile(loss='binary_crossentropy', optimizer=opt, metrics=['accuracy'])\n",
    "model_cbow.summary()\n",
    "\n",
    "# model_cbow = Sequential()\n",
    "# model_cbow.add(Dense(1024, input_dim=dim, activation='swish'))\n",
    "# model_cbow.add(Dropout(0.2))\n",
    "# model_cbow.add(Dense(1024, activation='swish'))\n",
    "# model_cbow.add(Dropout(0.2))\n",
    "# model_cbow.add(Dense(512, activation='swish'))\n",
    "# model_cbow.add(Dropout(0.2))\n",
    "# model_cbow.add(Dense(256, activation='swish'))\n",
    "# model_cbow.add(Dropout(0.1))\n",
    "# model_cbow.add(Dense(64, activation='swish'))\n",
    "# model_cbow.add(Dense(1, activation='sigmoid'))\n",
    "# model_cbow.compile(loss='binary_crossentropy', optimizer= opt, metrics=['accuracy'])\n",
    "# model_cbow.summary()"
   ]
  },
  {
   "cell_type": "code",
   "execution_count": 17,
   "id": "c256b802-71ee-4c23-850c-ebaef0411b23",
   "metadata": {},
   "outputs": [
    {
     "name": "stdout",
     "output_type": "stream",
     "text": [
      "Epoch 1/100\n",
      "123/123 [==============================] - 2s 8ms/step - loss: 0.7085 - accuracy: 0.6175 - val_loss: 0.6420 - val_accuracy: 0.7166\n",
      "Epoch 2/100\n",
      "123/123 [==============================] - 1s 7ms/step - loss: 0.6399 - accuracy: 0.6762 - val_loss: 0.5887 - val_accuracy: 0.7948\n",
      "Epoch 3/100\n",
      "123/123 [==============================] - 1s 5ms/step - loss: 0.6003 - accuracy: 0.7463 - val_loss: 0.5378 - val_accuracy: 0.7948\n",
      "Epoch 4/100\n",
      "123/123 [==============================] - 1s 5ms/step - loss: 0.5410 - accuracy: 0.7798 - val_loss: 0.4925 - val_accuracy: 0.8208\n",
      "Epoch 5/100\n",
      "123/123 [==============================] - 1s 5ms/step - loss: 0.4940 - accuracy: 0.8067 - val_loss: 0.4528 - val_accuracy: 0.8339\n",
      "Epoch 6/100\n",
      "123/123 [==============================] - 1s 6ms/step - loss: 0.4668 - accuracy: 0.8132 - val_loss: 0.4215 - val_accuracy: 0.8371\n",
      "Epoch 7/100\n",
      "123/123 [==============================] - 1s 6ms/step - loss: 0.4508 - accuracy: 0.8287 - val_loss: 0.3814 - val_accuracy: 0.8339\n",
      "Epoch 8/100\n",
      "123/123 [==============================] - 1s 6ms/step - loss: 0.3893 - accuracy: 0.8499 - val_loss: 0.3638 - val_accuracy: 0.8502\n",
      "Epoch 9/100\n",
      "123/123 [==============================] - 1s 4ms/step - loss: 0.3750 - accuracy: 0.8613 - val_loss: 0.3350 - val_accuracy: 0.8469\n",
      "Epoch 10/100\n",
      "123/123 [==============================] - 1s 4ms/step - loss: 0.3635 - accuracy: 0.8556 - val_loss: 0.3162 - val_accuracy: 0.8599\n",
      "Epoch 11/100\n",
      "123/123 [==============================] - 1s 4ms/step - loss: 0.3465 - accuracy: 0.8589 - val_loss: 0.3009 - val_accuracy: 0.8730\n",
      "Epoch 12/100\n",
      "123/123 [==============================] - 0s 4ms/step - loss: 0.3359 - accuracy: 0.8768 - val_loss: 0.2933 - val_accuracy: 0.8827\n",
      "Epoch 13/100\n",
      "123/123 [==============================] - 0s 4ms/step - loss: 0.3137 - accuracy: 0.8785 - val_loss: 0.2775 - val_accuracy: 0.8795\n",
      "Epoch 14/100\n",
      "123/123 [==============================] - 0s 4ms/step - loss: 0.2997 - accuracy: 0.8817 - val_loss: 0.2675 - val_accuracy: 0.8795\n",
      "Epoch 15/100\n",
      "123/123 [==============================] - 0s 4ms/step - loss: 0.2850 - accuracy: 0.8817 - val_loss: 0.2624 - val_accuracy: 0.9055\n",
      "Epoch 16/100\n",
      "123/123 [==============================] - 0s 4ms/step - loss: 0.2573 - accuracy: 0.8948 - val_loss: 0.2505 - val_accuracy: 0.8990\n",
      "Epoch 17/100\n",
      "123/123 [==============================] - 0s 4ms/step - loss: 0.2710 - accuracy: 0.8980 - val_loss: 0.2529 - val_accuracy: 0.9088\n",
      "Epoch 18/100\n",
      "123/123 [==============================] - 1s 4ms/step - loss: 0.2702 - accuracy: 0.8989 - val_loss: 0.2511 - val_accuracy: 0.9088\n",
      "Epoch 19/100\n",
      "123/123 [==============================] - 0s 4ms/step - loss: 0.2504 - accuracy: 0.9086 - val_loss: 0.2385 - val_accuracy: 0.9088\n",
      "Epoch 20/100\n",
      "123/123 [==============================] - 0s 4ms/step - loss: 0.2416 - accuracy: 0.9127 - val_loss: 0.2336 - val_accuracy: 0.9055\n",
      "Epoch 21/100\n",
      "123/123 [==============================] - 1s 4ms/step - loss: 0.2335 - accuracy: 0.9070 - val_loss: 0.2334 - val_accuracy: 0.9121\n",
      "Epoch 22/100\n",
      "123/123 [==============================] - 0s 4ms/step - loss: 0.2348 - accuracy: 0.9168 - val_loss: 0.2264 - val_accuracy: 0.9055\n",
      "Epoch 23/100\n",
      "123/123 [==============================] - 1s 4ms/step - loss: 0.2265 - accuracy: 0.9160 - val_loss: 0.2282 - val_accuracy: 0.9153\n",
      "Epoch 24/100\n",
      "123/123 [==============================] - 0s 4ms/step - loss: 0.2127 - accuracy: 0.9160 - val_loss: 0.2223 - val_accuracy: 0.9088\n",
      "Epoch 25/100\n",
      "123/123 [==============================] - 1s 4ms/step - loss: 0.2101 - accuracy: 0.9258 - val_loss: 0.2225 - val_accuracy: 0.9153\n",
      "Epoch 26/100\n",
      "123/123 [==============================] - 0s 4ms/step - loss: 0.2135 - accuracy: 0.9217 - val_loss: 0.2178 - val_accuracy: 0.9121\n",
      "Epoch 27/100\n",
      "123/123 [==============================] - 1s 4ms/step - loss: 0.2133 - accuracy: 0.9192 - val_loss: 0.2164 - val_accuracy: 0.9153\n",
      "Epoch 28/100\n",
      "123/123 [==============================] - 0s 4ms/step - loss: 0.1936 - accuracy: 0.9290 - val_loss: 0.2119 - val_accuracy: 0.9153\n",
      "Epoch 29/100\n",
      "123/123 [==============================] - 1s 4ms/step - loss: 0.1999 - accuracy: 0.9192 - val_loss: 0.2130 - val_accuracy: 0.9153\n",
      "Epoch 30/100\n",
      "123/123 [==============================] - 0s 3ms/step - loss: 0.2269 - accuracy: 0.9225 - val_loss: 0.2313 - val_accuracy: 0.9055\n",
      "Epoch 31/100\n",
      "123/123 [==============================] - 0s 4ms/step - loss: 0.2031 - accuracy: 0.9266 - val_loss: 0.2222 - val_accuracy: 0.9088\n",
      "Epoch 32/100\n",
      "123/123 [==============================] - 0s 3ms/step - loss: 0.1899 - accuracy: 0.9258 - val_loss: 0.2164 - val_accuracy: 0.9153\n",
      "Epoch 33/100\n",
      "106/123 [========================>.....] - ETA: 0s - loss: 0.1928 - accuracy: 0.9283Restoring model weights from the end of the best epoch: 23.\n",
      "123/123 [==============================] - 0s 3ms/step - loss: 0.1875 - accuracy: 0.9299 - val_loss: 0.2116 - val_accuracy: 0.9121\n",
      "Epoch 33: early stopping\n"
     ]
    }
   ],
   "source": [
    "history_cbow = model_cbow.fit(X_train, y_train, \n",
    "                              epochs=100, \n",
    "                              validation_data=(X_test, y_test), \n",
    "                              batch_size=10,\n",
    "                              callbacks = [callback])"
   ]
  },
  {
   "cell_type": "code",
   "execution_count": 18,
   "id": "9b522c1a-fb7f-4060-aaf5-dca9c26e4eca",
   "metadata": {},
   "outputs": [
    {
     "name": "stdout",
     "output_type": "stream",
     "text": [
      "perda (erro) =  0.22818033397197723\n",
      "\n",
      "Acurácia =  0.9153094291687012\n"
     ]
    }
   ],
   "source": [
    "loss_cbow, accuracy_cbow = model_cbow.evaluate(X_test, y_test, verbose=False)\n",
    "print(\"perda (erro) = \", loss_cbow)\n",
    "print()\n",
    "print(\"Acurácia = \",  accuracy_cbow)"
   ]
  },
  {
   "cell_type": "code",
   "execution_count": 19,
   "id": "8bd77e81-c6b6-44e1-a652-b403283075c1",
   "metadata": {},
   "outputs": [
    {
     "data": {
      "image/png": "[encoded data removed]",
      "text/plain": [
       "<Figure size 1200x500 with 2 Axes>"
      ]
     },
     "metadata": {},
     "output_type": "display_data"
    }
   ],
   "source": [
    "plot_history(history_cbow)"
   ]
  },
  {
   "cell_type": "code",
   "execution_count": 20,
   "id": "c57620b2-2961-4dcc-9741-862b0bae8d15",
   "metadata": {},
   "outputs": [
    {
     "name": "stdout",
     "output_type": "stream",
     "text": [
      "10/10 [==============================] - 0s 2ms/step\n"
     ]
    }
   ],
   "source": [
    "y_predict = (model_cbow.predict(X_test) > 0.5).astype(\"int32\")"
   ]
  },
  {
   "cell_type": "code",
   "execution_count": 21,
   "id": "f265ed07-57b4-477d-bb82-b37482f1efd1",
   "metadata": {},
   "outputs": [],
   "source": [
    "y_pred = [x[0] for x in y_predict]"
   ]
  },
  {
   "cell_type": "code",
   "execution_count": 22,
   "id": "0468efea-0e78-43a7-9c61-ea01d12163dc",
   "metadata": {},
   "outputs": [
    {
     "name": "stdout",
     "output_type": "stream",
     "text": [
      "              precision    recall  f1-score   support\n",
      "\n",
      "           0       0.92      0.96      0.94       202\n",
      "           1       0.92      0.83      0.87       105\n",
      "\n",
      "    accuracy                           0.92       307\n",
      "   macro avg       0.92      0.89      0.90       307\n",
      "weighted avg       0.92      0.92      0.91       307\n",
      "\n"
     ]
    }
   ],
   "source": [
    "print(classification_report(y_test, y_pred))"
   ]
  },
  {
   "cell_type": "code",
   "execution_count": 23,
   "id": "fea36e66-0fef-46d8-a766-e903b86f65ed",
   "metadata": {},
   "outputs": [
    {
     "data": {
      "text/plain": [
       "<sklearn.metrics._plot.confusion_matrix.ConfusionMatrixDisplay at 0x20e25c45148>"
      ]
     },
     "execution_count": 23,
     "metadata": {},
     "output_type": "execute_result"
    },
    {
     "data": {
      "image/png": "[encoded data removed]",
      "text/plain": [
       "<Figure size 640x480 with 2 Axes>"
      ]
     },
     "metadata": {},
     "output_type": "display_data"
    }
   ],
   "source": [
    "ConfusionMatrixDisplay.from_predictions(y_test, y_pred)"
   ]
  },
  {
   "cell_type": "markdown",
   "id": "9a8791f0-77fe-460d-8bee-35fa23faf106",
   "metadata": {},
   "source": [
    "# Validação do modelo "
   ]
  },
  {
   "cell_type": "code",
   "execution_count": 24,
   "id": "7b6969e6-8dc0-49d1-8f92-702dabf53425",
   "metadata": {},
   "outputs": [
    {
     "data": {
      "text/html": [
       "<div>\n",
       "<style scoped>\n",
       "    .dataframe tbody tr th:only-of-type {\n",
       "        vertical-align: middle;\n",
       "    }\n",
       "\n",
       "    .dataframe tbody tr th {\n",
       "        vertical-align: top;\n",
       "    }\n",
       "\n",
       "    .dataframe thead th {\n",
       "        text-align: right;\n",
       "    }\n",
       "</style>\n",
       "<table border=\"1\" class=\"dataframe\">\n",
       "  <thead>\n",
       "    <tr style=\"text-align: right;\">\n",
       "      <th></th>\n",
       "      <th>link</th>\n",
       "      <th>metaforico</th>\n",
       "      <th>indice_noticia</th>\n",
       "      <th>paragrafos_resgatados</th>\n",
       "      <th>paragrafos_tratados_sw</th>\n",
       "      <th>paragrafos_tratados_sw_vetorizados</th>\n",
       "    </tr>\n",
       "  </thead>\n",
       "  <tbody>\n",
       "    <tr>\n",
       "      <th>0</th>\n",
       "      <td>https://opiniao.estadao.com.br/noticias/artigo...</td>\n",
       "      <td>1</td>\n",
       "      <td>0</td>\n",
       "      <td>['Nunca tivemos lideranças governamentais tão ...</td>\n",
       "      <td>lideranças governamentais esquizofrenicamente ...</td>\n",
       "      <td>[[ 1.24453096e+00  1.80456701e+00  3.88217398e...</td>\n",
       "    </tr>\n",
       "    <tr>\n",
       "      <th>1</th>\n",
       "      <td>https://opiniao.estadao.com.br/noticias/artigo...</td>\n",
       "      <td>1</td>\n",
       "      <td>1</td>\n",
       "      <td>['(13/4, A3) faz correta análise da deplorável...</td>\n",
       "      <td>correta análise deplorável conduta jair bolson...</td>\n",
       "      <td>[[ 3.82997599e+00  2.61315710e+00  2.64887299e...</td>\n",
       "    </tr>\n",
       "    <tr>\n",
       "      <th>2</th>\n",
       "      <td>https://opiniao.estadao.com.br/noticias/espaco...</td>\n",
       "      <td>1</td>\n",
       "      <td>2</td>\n",
       "      <td>['A esquizofrenia se faz presente no governo: ...</td>\n",
       "      <td>esquizofrenia presente governo caudatário cent...</td>\n",
       "      <td>[[ 3.10971797 -1.09312899  2.69877705 -3.15451...</td>\n",
       "    </tr>\n",
       "    <tr>\n",
       "      <th>3</th>\n",
       "      <td>https://cultura.estadao.com.br/noticias/litera...</td>\n",
       "      <td>1</td>\n",
       "      <td>3</td>\n",
       "      <td>['\"Durante meus dois anos\\xa0em Berkeley, não\\...</td>\n",
       "      <td>durante anos berkeley conheci americano sequer...</td>\n",
       "      <td>[[ 5.54485902e+00  3.73239404e+00  1.59974998e...</td>\n",
       "    </tr>\n",
       "    <tr>\n",
       "      <th>4</th>\n",
       "      <td>https://cultura.estadao.com.br/noticias/geral,...</td>\n",
       "      <td>1</td>\n",
       "      <td>4</td>\n",
       "      <td>['Contra elas, usamos as teias invisíveis da c...</td>\n",
       "      <td>usamos teias invisíveis casa resultado óbvia e...</td>\n",
       "      <td>[[ 0.54727099  0.45336103  0.42255901 -0.56468...</td>\n",
       "    </tr>\n",
       "  </tbody>\n",
       "</table>\n",
       "</div>"
      ],
      "text/plain": [
       "                                                link  metaforico  \\\n",
       "0  https://opiniao.estadao.com.br/noticias/artigo...           1   \n",
       "1  https://opiniao.estadao.com.br/noticias/artigo...           1   \n",
       "2  https://opiniao.estadao.com.br/noticias/espaco...           1   \n",
       "3  https://cultura.estadao.com.br/noticias/litera...           1   \n",
       "4  https://cultura.estadao.com.br/noticias/geral,...           1   \n",
       "\n",
       "   indice_noticia                              paragrafos_resgatados  \\\n",
       "0               0  ['Nunca tivemos lideranças governamentais tão ...   \n",
       "1               1  ['(13/4, A3) faz correta análise da deplorável...   \n",
       "2               2  ['A esquizofrenia se faz presente no governo: ...   \n",
       "3               3  ['\"Durante meus dois anos\\xa0em Berkeley, não\\...   \n",
       "4               4  ['Contra elas, usamos as teias invisíveis da c...   \n",
       "\n",
       "                              paragrafos_tratados_sw  \\\n",
       "0  lideranças governamentais esquizofrenicamente ...   \n",
       "1  correta análise deplorável conduta jair bolson...   \n",
       "2  esquizofrenia presente governo caudatário cent...   \n",
       "3  durante anos berkeley conheci americano sequer...   \n",
       "4  usamos teias invisíveis casa resultado óbvia e...   \n",
       "\n",
       "                  paragrafos_tratados_sw_vetorizados  \n",
       "0  [[ 1.24453096e+00  1.80456701e+00  3.88217398e...  \n",
       "1  [[ 3.82997599e+00  2.61315710e+00  2.64887299e...  \n",
       "2  [[ 3.10971797 -1.09312899  2.69877705 -3.15451...  \n",
       "3  [[ 5.54485902e+00  3.73239404e+00  1.59974998e...  \n",
       "4  [[ 0.54727099  0.45336103  0.42255901 -0.56468...  "
      ]
     },
     "execution_count": 24,
     "metadata": {},
     "output_type": "execute_result"
    }
   ],
   "source": [
    "df3.head()"
   ]
  },
  {
   "cell_type": "code",
   "execution_count": 25,
   "id": "5b7b9eb4-e336-4f7a-bb10-1768c3c80045",
   "metadata": {},
   "outputs": [
    {
     "name": "stdout",
     "output_type": "stream",
     "text": [
      "Dados de validação:\n",
      "0    71\n",
      "1    32\n",
      "Name: metaforico, dtype: int64\n",
      " \n",
      "Dados de validação em percentual: \n",
      "0    0.68932\n",
      "1    0.31068\n",
      "Name: metaforico, dtype: float64\n"
     ]
    }
   ],
   "source": [
    "print(\"Dados de validação:\")\n",
    "print(df3.metaforico.value_counts(dropna = False))\n",
    "print(\" \")\n",
    "print(\"Dados de validação em percentual: \")\n",
    "print(df3.metaforico.value_counts(dropna = False, normalize = True))"
   ]
  },
  {
   "cell_type": "code",
   "execution_count": 26,
   "id": "680b0173-6ede-48d1-9ab4-33c01db2bf4a",
   "metadata": {},
   "outputs": [],
   "source": [
    "X_val = vetor3\n",
    "y_val = df3[[\"metaforico\"]]"
   ]
  },
  {
   "cell_type": "code",
   "execution_count": 27,
   "id": "5a929e74-1f58-4979-9464-65c6214385ad",
   "metadata": {},
   "outputs": [
    {
     "name": "stdout",
     "output_type": "stream",
     "text": [
      "4/4 [==============================] - 0s 3ms/step\n"
     ]
    }
   ],
   "source": [
    "y_predict_val = (model_cbow.predict(X_val) > 0.5).astype(\"int32\")"
   ]
  },
  {
   "cell_type": "code",
   "execution_count": 28,
   "id": "0b49dbf4-b5c2-40ec-951f-f5478323287b",
   "metadata": {},
   "outputs": [],
   "source": [
    "y_pred_val = [x[0] for x in y_predict_val]"
   ]
  },
  {
   "cell_type": "code",
   "execution_count": 29,
   "id": "34d1fac7-0da3-4198-a8d1-a3582936d23c",
   "metadata": {},
   "outputs": [
    {
     "name": "stdout",
     "output_type": "stream",
     "text": [
      "              precision    recall  f1-score   support\n",
      "\n",
      "           0       0.93      0.93      0.93        71\n",
      "           1       0.84      0.84      0.84        32\n",
      "\n",
      "    accuracy                           0.90       103\n",
      "   macro avg       0.89      0.89      0.89       103\n",
      "weighted avg       0.90      0.90      0.90       103\n",
      "\n"
     ]
    }
   ],
   "source": [
    "print(classification_report(y_val, y_pred_val))"
   ]
  },
  {
   "cell_type": "code",
   "execution_count": 30,
   "id": "adba0172-389d-4f94-9188-a0d1eb3b046c",
   "metadata": {},
   "outputs": [
    {
     "data": {
      "text/plain": [
       "<sklearn.metrics._plot.confusion_matrix.ConfusionMatrixDisplay at 0x20e25ae2908>"
      ]
     },
     "execution_count": 30,
     "metadata": {},
     "output_type": "execute_result"
    },
    {
     "data": {
      "image/png": "[encoded data removed]",
      "text/plain": [
       "<Figure size 640x480 with 2 Axes>"
      ]
     },
     "metadata": {},
     "output_type": "display_data"
    }
   ],
   "source": [
    "ConfusionMatrixDisplay.from_predictions(y_val, y_pred_val)"
   ]
  },
  {
   "cell_type": "code",
   "execution_count": 39,
   "id": "21dd064d",
   "metadata": {},
   "outputs": [
    {
     "data": {
      "text/plain": [
       "<tensorflow.python.saved_model.load_options.LoadOptions at 0x20e2729e388>"
      ]
     },
     "execution_count": 39,
     "metadata": {},
     "output_type": "execute_result"
    }
   ],
   "source": [
    "import dill as pickle\n",
    "\n",
    "\n",
    "\n",
    "tf.saved_model.LoadOptions(\n",
    "    allow_partial_checkpoint=False,\n",
    "    experimental_io_device='/job:localhost',\n",
    "    experimental_skip_checkpoint=False)"
   ]
  },
  {
   "cell_type": "code",
   "execution_count": 40,
   "id": "1b721d49",
   "metadata": {},
   "outputs": [
    {
     "name": "stderr",
     "output_type": "stream",
     "text": [
      "WARNING:absl:Found untraced functions such as swish_layer_call_fn, swish_layer_call_and_return_conditional_losses while saving (showing 2 of 2). These functions will not be directly callable after loading.\n"
     ]
    },
    {
     "name": "stdout",
     "output_type": "stream",
     "text": [
      "INFO:tensorflow:Assets written to: ram://f2b2f85d-7379-4f1f-8684-b37eaafafbf7/assets\n"
     ]
    },
    {
     "name": "stderr",
     "output_type": "stream",
     "text": [
      "INFO:tensorflow:Assets written to: ram://f2b2f85d-7379-4f1f-8684-b37eaafafbf7/assets\n"
     ]
    }
   ],
   "source": [
    "with open(\"modelo_teste.pkl\", \"wb\") as f:\n",
    "    pickle.dump(model_cbow, f)"
   ]
  },
  {
   "cell_type": "code",
   "execution_count": 41,
   "id": "1fe6f253",
   "metadata": {},
   "outputs": [
    {
     "ename": "FileNotFoundError",
     "evalue": "Unsuccessful TensorSliceReader constructor: Failed to find any matching files for ram://6a1c425b-167a-4e5b-ac02-63fe09e6e87f/variables/variables\n You may be trying to load on a different device from the computational device. Consider setting the `experimental_io_device` option in `tf.saved_model.LoadOptions` to the io_device such as '/job:localhost'.",
     "output_type": "error",
     "traceback": [
      "\u001b[1;31m---------------------------------------------------------------------------\u001b[0m",
      "\u001b[1;31mFileNotFoundError\u001b[0m                         Traceback (most recent call last)",
      "\u001b[1;32m~\\AppData\\Local\\Temp\\ipykernel_92024\\628053940.py\u001b[0m in \u001b[0;36m<module>\u001b[1;34m\u001b[0m\n\u001b[0;32m      1\u001b[0m \u001b[1;32mwith\u001b[0m \u001b[0mopen\u001b[0m\u001b[1;33m(\u001b[0m\u001b[1;34m\"modelo_teste.pkl\"\u001b[0m\u001b[1;33m,\u001b[0m \u001b[1;34m\"rb\"\u001b[0m\u001b[1;33m)\u001b[0m \u001b[1;32mas\u001b[0m \u001b[0mf\u001b[0m\u001b[1;33m:\u001b[0m\u001b[1;33m\u001b[0m\u001b[1;33m\u001b[0m\u001b[0m\n\u001b[1;32m----> 2\u001b[1;33m     \u001b[0mm\u001b[0m \u001b[1;33m=\u001b[0m \u001b[0mpickle\u001b[0m\u001b[1;33m.\u001b[0m\u001b[0mload\u001b[0m\u001b[1;33m(\u001b[0m\u001b[0mf\u001b[0m\u001b[1;33m)\u001b[0m\u001b[1;33m\u001b[0m\u001b[1;33m\u001b[0m\u001b[0m\n\u001b[0m",
      "\u001b[1;32mc:\\Users\\r-omd\\.conda\\envs\\tf-venv\\lib\\site-packages\\dill\\_dill.py\u001b[0m in \u001b[0;36mload\u001b[1;34m(file, ignore, **kwds)\u001b[0m\n\u001b[0;32m    270\u001b[0m     \u001b[0mSee\u001b[0m \u001b[1;33m:\u001b[0m\u001b[0mfunc\u001b[0m\u001b[1;33m:\u001b[0m\u001b[0;31m`\u001b[0m\u001b[0mloads\u001b[0m\u001b[0;31m`\u001b[0m \u001b[1;32mfor\u001b[0m \u001b[0mkeyword\u001b[0m \u001b[0marguments\u001b[0m\u001b[1;33m.\u001b[0m\u001b[1;33m\u001b[0m\u001b[1;33m\u001b[0m\u001b[0m\n\u001b[0;32m    271\u001b[0m     \"\"\"\n\u001b[1;32m--> 272\u001b[1;33m     \u001b[1;32mreturn\u001b[0m \u001b[0mUnpickler\u001b[0m\u001b[1;33m(\u001b[0m\u001b[0mfile\u001b[0m\u001b[1;33m,\u001b[0m \u001b[0mignore\u001b[0m\u001b[1;33m=\u001b[0m\u001b[0mignore\u001b[0m\u001b[1;33m,\u001b[0m \u001b[1;33m**\u001b[0m\u001b[0mkwds\u001b[0m\u001b[1;33m)\u001b[0m\u001b[1;33m.\u001b[0m\u001b[0mload\u001b[0m\u001b[1;33m(\u001b[0m\u001b[1;33m)\u001b[0m\u001b[1;33m\u001b[0m\u001b[1;33m\u001b[0m\u001b[0m\n\u001b[0m\u001b[0;32m    273\u001b[0m \u001b[1;33m\u001b[0m\u001b[0m\n\u001b[0;32m    274\u001b[0m \u001b[1;32mdef\u001b[0m \u001b[0mloads\u001b[0m\u001b[1;33m(\u001b[0m\u001b[0mstr\u001b[0m\u001b[1;33m,\u001b[0m \u001b[0mignore\u001b[0m\u001b[1;33m=\u001b[0m\u001b[1;32mNone\u001b[0m\u001b[1;33m,\u001b[0m \u001b[1;33m**\u001b[0m\u001b[0mkwds\u001b[0m\u001b[1;33m)\u001b[0m\u001b[1;33m:\u001b[0m\u001b[1;33m\u001b[0m\u001b[1;33m\u001b[0m\u001b[0m\n",
      "\u001b[1;32mc:\\Users\\r-omd\\.conda\\envs\\tf-venv\\lib\\site-packages\\dill\\_dill.py\u001b[0m in \u001b[0;36mload\u001b[1;34m(self)\u001b[0m\n\u001b[0;32m    417\u001b[0m \u001b[1;33m\u001b[0m\u001b[0m\n\u001b[0;32m    418\u001b[0m     \u001b[1;32mdef\u001b[0m \u001b[0mload\u001b[0m\u001b[1;33m(\u001b[0m\u001b[0mself\u001b[0m\u001b[1;33m)\u001b[0m\u001b[1;33m:\u001b[0m \u001b[1;31m#NOTE: if settings change, need to update attributes\u001b[0m\u001b[1;33m\u001b[0m\u001b[1;33m\u001b[0m\u001b[0m\n\u001b[1;32m--> 419\u001b[1;33m         \u001b[0mobj\u001b[0m \u001b[1;33m=\u001b[0m \u001b[0mStockUnpickler\u001b[0m\u001b[1;33m.\u001b[0m\u001b[0mload\u001b[0m\u001b[1;33m(\u001b[0m\u001b[0mself\u001b[0m\u001b[1;33m)\u001b[0m\u001b[1;33m\u001b[0m\u001b[1;33m\u001b[0m\u001b[0m\n\u001b[0m\u001b[0;32m    420\u001b[0m         \u001b[1;32mif\u001b[0m \u001b[0mtype\u001b[0m\u001b[1;33m(\u001b[0m\u001b[0mobj\u001b[0m\u001b[1;33m)\u001b[0m\u001b[1;33m.\u001b[0m\u001b[0m__module__\u001b[0m \u001b[1;33m==\u001b[0m \u001b[0mgetattr\u001b[0m\u001b[1;33m(\u001b[0m\u001b[0m_main_module\u001b[0m\u001b[1;33m,\u001b[0m \u001b[1;34m'__name__'\u001b[0m\u001b[1;33m,\u001b[0m \u001b[1;34m'__main__'\u001b[0m\u001b[1;33m)\u001b[0m\u001b[1;33m:\u001b[0m\u001b[1;33m\u001b[0m\u001b[1;33m\u001b[0m\u001b[0m\n\u001b[0;32m    421\u001b[0m             \u001b[1;32mif\u001b[0m \u001b[1;32mnot\u001b[0m \u001b[0mself\u001b[0m\u001b[1;33m.\u001b[0m\u001b[0m_ignore\u001b[0m\u001b[1;33m:\u001b[0m\u001b[1;33m\u001b[0m\u001b[1;33m\u001b[0m\u001b[0m\n",
      "\u001b[1;32mc:\\Users\\r-omd\\.conda\\envs\\tf-venv\\lib\\site-packages\\keras\\saving\\pickle_utils.py\u001b[0m in \u001b[0;36mdeserialize_model_from_bytecode\u001b[1;34m(serialized_model)\u001b[0m\n\u001b[0;32m     46\u001b[0m         \u001b[1;32mwith\u001b[0m \u001b[0mtf\u001b[0m\u001b[1;33m.\u001b[0m\u001b[0mio\u001b[0m\u001b[1;33m.\u001b[0m\u001b[0mgfile\u001b[0m\u001b[1;33m.\u001b[0m\u001b[0mGFile\u001b[0m\u001b[1;33m(\u001b[0m\u001b[0mdest_path\u001b[0m\u001b[1;33m,\u001b[0m \u001b[1;34m\"wb\"\u001b[0m\u001b[1;33m)\u001b[0m \u001b[1;32mas\u001b[0m \u001b[0mf\u001b[0m\u001b[1;33m:\u001b[0m\u001b[1;33m\u001b[0m\u001b[1;33m\u001b[0m\u001b[0m\n\u001b[0;32m     47\u001b[0m           \u001b[0mf\u001b[0m\u001b[1;33m.\u001b[0m\u001b[0mwrite\u001b[0m\u001b[1;33m(\u001b[0m\u001b[0marchive\u001b[0m\u001b[1;33m.\u001b[0m\u001b[0mextractfile\u001b[0m\u001b[1;33m(\u001b[0m\u001b[0mname\u001b[0m\u001b[1;33m)\u001b[0m\u001b[1;33m.\u001b[0m\u001b[0mread\u001b[0m\u001b[1;33m(\u001b[0m\u001b[1;33m)\u001b[0m\u001b[1;33m)\u001b[0m\u001b[1;33m\u001b[0m\u001b[1;33m\u001b[0m\u001b[0m\n\u001b[1;32m---> 48\u001b[1;33m   \u001b[0mmodel\u001b[0m \u001b[1;33m=\u001b[0m \u001b[0msave_module\u001b[0m\u001b[1;33m.\u001b[0m\u001b[0mload_model\u001b[0m\u001b[1;33m(\u001b[0m\u001b[0mtemp_dir\u001b[0m\u001b[1;33m)\u001b[0m\u001b[1;33m\u001b[0m\u001b[1;33m\u001b[0m\u001b[0m\n\u001b[0m\u001b[0;32m     49\u001b[0m   \u001b[0mtf\u001b[0m\u001b[1;33m.\u001b[0m\u001b[0mio\u001b[0m\u001b[1;33m.\u001b[0m\u001b[0mgfile\u001b[0m\u001b[1;33m.\u001b[0m\u001b[0mrmtree\u001b[0m\u001b[1;33m(\u001b[0m\u001b[0mtemp_dir\u001b[0m\u001b[1;33m)\u001b[0m\u001b[1;33m\u001b[0m\u001b[1;33m\u001b[0m\u001b[0m\n\u001b[0;32m     50\u001b[0m   \u001b[1;32mreturn\u001b[0m \u001b[0mmodel\u001b[0m\u001b[1;33m\u001b[0m\u001b[1;33m\u001b[0m\u001b[0m\n",
      "\u001b[1;32mc:\\Users\\r-omd\\.conda\\envs\\tf-venv\\lib\\site-packages\\keras\\utils\\traceback_utils.py\u001b[0m in \u001b[0;36merror_handler\u001b[1;34m(*args, **kwargs)\u001b[0m\n\u001b[0;32m     65\u001b[0m     \u001b[1;32mexcept\u001b[0m \u001b[0mException\u001b[0m \u001b[1;32mas\u001b[0m \u001b[0me\u001b[0m\u001b[1;33m:\u001b[0m  \u001b[1;31m# pylint: disable=broad-except\u001b[0m\u001b[1;33m\u001b[0m\u001b[1;33m\u001b[0m\u001b[0m\n\u001b[0;32m     66\u001b[0m       \u001b[0mfiltered_tb\u001b[0m \u001b[1;33m=\u001b[0m \u001b[0m_process_traceback_frames\u001b[0m\u001b[1;33m(\u001b[0m\u001b[0me\u001b[0m\u001b[1;33m.\u001b[0m\u001b[0m__traceback__\u001b[0m\u001b[1;33m)\u001b[0m\u001b[1;33m\u001b[0m\u001b[1;33m\u001b[0m\u001b[0m\n\u001b[1;32m---> 67\u001b[1;33m       \u001b[1;32mraise\u001b[0m \u001b[0me\u001b[0m\u001b[1;33m.\u001b[0m\u001b[0mwith_traceback\u001b[0m\u001b[1;33m(\u001b[0m\u001b[0mfiltered_tb\u001b[0m\u001b[1;33m)\u001b[0m \u001b[1;32mfrom\u001b[0m \u001b[1;32mNone\u001b[0m\u001b[1;33m\u001b[0m\u001b[1;33m\u001b[0m\u001b[0m\n\u001b[0m\u001b[0;32m     68\u001b[0m     \u001b[1;32mfinally\u001b[0m\u001b[1;33m:\u001b[0m\u001b[1;33m\u001b[0m\u001b[1;33m\u001b[0m\u001b[0m\n\u001b[0;32m     69\u001b[0m       \u001b[1;32mdel\u001b[0m \u001b[0mfiltered_tb\u001b[0m\u001b[1;33m\u001b[0m\u001b[1;33m\u001b[0m\u001b[0m\n",
      "\u001b[1;32mc:\\Users\\r-omd\\.conda\\envs\\tf-venv\\lib\\site-packages\\tensorflow\\python\\saved_model\\load.py\u001b[0m in \u001b[0;36mload_partial\u001b[1;34m(export_dir, filters, tags, options)\u001b[0m\n\u001b[0;32m    914\u001b[0m       \u001b[1;32mexcept\u001b[0m \u001b[0merrors\u001b[0m\u001b[1;33m.\u001b[0m\u001b[0mNotFoundError\u001b[0m \u001b[1;32mas\u001b[0m \u001b[0merr\u001b[0m\u001b[1;33m:\u001b[0m\u001b[1;33m\u001b[0m\u001b[1;33m\u001b[0m\u001b[0m\n\u001b[0;32m    915\u001b[0m         raise FileNotFoundError(\n\u001b[1;32m--> 916\u001b[1;33m             \u001b[0mstr\u001b[0m\u001b[1;33m(\u001b[0m\u001b[0merr\u001b[0m\u001b[1;33m)\u001b[0m \u001b[1;33m+\u001b[0m \u001b[1;34m\"\\n You may be trying to load on a different device \"\u001b[0m\u001b[1;33m\u001b[0m\u001b[1;33m\u001b[0m\u001b[0m\n\u001b[0m\u001b[0;32m    917\u001b[0m             \u001b[1;34m\"from the computational device. Consider setting the \"\u001b[0m\u001b[1;33m\u001b[0m\u001b[1;33m\u001b[0m\u001b[0m\n\u001b[0;32m    918\u001b[0m             \u001b[1;34m\"`experimental_io_device` option in `tf.saved_model.LoadOptions` \"\u001b[0m\u001b[1;33m\u001b[0m\u001b[1;33m\u001b[0m\u001b[0m\n",
      "\u001b[1;31mFileNotFoundError\u001b[0m: Unsuccessful TensorSliceReader constructor: Failed to find any matching files for ram://6a1c425b-167a-4e5b-ac02-63fe09e6e87f/variables/variables\n You may be trying to load on a different device from the computational device. Consider setting the `experimental_io_device` option in `tf.saved_model.LoadOptions` to the io_device such as '/job:localhost'."
     ]
    }
   ],
   "source": [
    "with open(\"modelo_teste.pkl\", \"rb\") as f:\n",
    "    m = pickle.load(f)"
   ]
  },
  {
   "cell_type": "code",
   "execution_count": 44,
   "id": "f5adf2f4",
   "metadata": {},
   "outputs": [
    {
     "data": {
      "text/plain": [
       "'2.9.2'"
      ]
     },
     "execution_count": 44,
     "metadata": {},
     "output_type": "execute_result"
    }
   ],
   "source": [
    "tf.__version__"
   ]
  },
  {
   "cell_type": "code",
   "execution_count": 43,
   "id": "846a83b4-d4a8-4e23-a834-1c3b1449185e",
   "metadata": {},
   "outputs": [
    {
     "name": "stdout",
     "output_type": "stream",
     "text": [
      "Requirement already satisfied: tensorflow in c:\\users\\r-omd\\.conda\\envs\\tf-venv\\lib\\site-packages (2.9.2)\n",
      "Requirement already satisfied: astunparse>=1.6.0 in c:\\users\\r-omd\\.conda\\envs\\tf-venv\\lib\\site-packages (from tensorflow) (1.6.3)\n",
      "Requirement already satisfied: flatbuffers<2,>=1.12 in c:\\users\\r-omd\\.conda\\envs\\tf-venv\\lib\\site-packages (from tensorflow) (1.12)\n",
      "Requirement already satisfied: six>=1.12.0 in c:\\users\\r-omd\\.conda\\envs\\tf-venv\\lib\\site-packages (from tensorflow) (1.16.0)\n",
      "Requirement already satisfied: gast<=0.4.0,>=0.2.1 in c:\\users\\r-omd\\.conda\\envs\\tf-venv\\lib\\site-packages (from tensorflow) (0.4.0)\n",
      "Requirement already satisfied: opt-einsum>=2.3.2 in c:\\users\\r-omd\\.conda\\envs\\tf-venv\\lib\\site-packages (from tensorflow) (3.3.0)\n",
      "Requirement already satisfied: numpy>=1.20 in c:\\users\\r-omd\\.conda\\envs\\tf-venv\\lib\\site-packages (from tensorflow) (1.21.6)\n",
      "Requirement already satisfied: h5py>=2.9.0 in c:\\users\\r-omd\\.conda\\envs\\tf-venv\\lib\\site-packages (from tensorflow) (3.7.0)\n",
      "Requirement already satisfied: tensorboard<2.10,>=2.9 in c:\\users\\r-omd\\.conda\\envs\\tf-venv\\lib\\site-packages (from tensorflow) (2.9.1)\n",
      "Requirement already satisfied: keras-preprocessing>=1.1.1 in c:\\users\\r-omd\\.conda\\envs\\tf-venv\\lib\\site-packages (from tensorflow) (1.1.2)\n",
      "Requirement already satisfied: keras<2.10.0,>=2.9.0rc0 in c:\\users\\r-omd\\.conda\\envs\\tf-venv\\lib\\site-packages (from tensorflow) (2.9.0)\n",
      "Requirement already satisfied: protobuf<3.20,>=3.9.2 in c:\\users\\r-omd\\.conda\\envs\\tf-venv\\lib\\site-packages (from tensorflow) (3.19.4)\n",
      "Requirement already satisfied: typing-extensions>=3.6.6 in c:\\users\\r-omd\\.conda\\envs\\tf-venv\\lib\\site-packages (from tensorflow) (4.3.0)\n",
      "Requirement already satisfied: libclang>=13.0.0 in c:\\users\\r-omd\\.conda\\envs\\tf-venv\\lib\\site-packages (from tensorflow) (14.0.6)\n",
      "Requirement already satisfied: grpcio<2.0,>=1.24.3 in c:\\users\\r-omd\\.conda\\envs\\tf-venv\\lib\\site-packages (from tensorflow) (1.48.1)\n",
      "Requirement already satisfied: tensorflow-estimator<2.10.0,>=2.9.0rc0 in c:\\users\\r-omd\\.conda\\envs\\tf-venv\\lib\\site-packages (from tensorflow) (2.9.0)\n",
      "Requirement already satisfied: tensorflow-io-gcs-filesystem>=0.23.1 in c:\\users\\r-omd\\.conda\\envs\\tf-venv\\lib\\site-packages (from tensorflow) (0.26.0)\n",
      "Requirement already satisfied: setuptools in c:\\users\\r-omd\\.conda\\envs\\tf-venv\\lib\\site-packages (from tensorflow) (63.4.1)\n",
      "Requirement already satisfied: packaging in c:\\users\\r-omd\\.conda\\envs\\tf-venv\\lib\\site-packages (from tensorflow) (21.3)\n",
      "Requirement already satisfied: google-pasta>=0.1.1 in c:\\users\\r-omd\\.conda\\envs\\tf-venv\\lib\\site-packages (from tensorflow) (0.2.0)\n",
      "Requirement already satisfied: absl-py>=1.0.0 in c:\\users\\r-omd\\.conda\\envs\\tf-venv\\lib\\site-packages (from tensorflow) (1.2.0)\n",
      "Requirement already satisfied: termcolor>=1.1.0 in c:\\users\\r-omd\\.conda\\envs\\tf-venv\\lib\\site-packages (from tensorflow) (1.1.0)\n",
      "Requirement already satisfied: wrapt>=1.11.0 in c:\\users\\r-omd\\.conda\\envs\\tf-venv\\lib\\site-packages (from tensorflow) (1.14.1)\n",
      "Requirement already satisfied: wheel<1.0,>=0.23.0 in c:\\users\\r-omd\\.conda\\envs\\tf-venv\\lib\\site-packages (from astunparse>=1.6.0->tensorflow) (0.37.1)\n",
      "Requirement already satisfied: tensorboard-data-server<0.7.0,>=0.6.0 in c:\\users\\r-omd\\.conda\\envs\\tf-venv\\lib\\site-packages (from tensorboard<2.10,>=2.9->tensorflow) (0.6.1)\n",
      "Requirement already satisfied: google-auth<3,>=1.6.3 in c:\\users\\r-omd\\.conda\\envs\\tf-venv\\lib\\site-packages (from tensorboard<2.10,>=2.9->tensorflow) (2.11.0)\n",
      "Requirement already satisfied: google-auth-oauthlib<0.5,>=0.4.1 in c:\\users\\r-omd\\.conda\\envs\\tf-venv\\lib\\site-packages (from tensorboard<2.10,>=2.9->tensorflow) (0.4.6)\n",
      "Requirement already satisfied: requests<3,>=2.21.0 in c:\\users\\r-omd\\.conda\\envs\\tf-venv\\lib\\site-packages (from tensorboard<2.10,>=2.9->tensorflow) (2.28.1)\n",
      "Requirement already satisfied: tensorboard-plugin-wit>=1.6.0 in c:\\users\\r-omd\\.conda\\envs\\tf-venv\\lib\\site-packages (from tensorboard<2.10,>=2.9->tensorflow) (1.8.1)\n",
      "Requirement already satisfied: werkzeug>=1.0.1 in c:\\users\\r-omd\\.conda\\envs\\tf-venv\\lib\\site-packages (from tensorboard<2.10,>=2.9->tensorflow) (2.2.2)\n",
      "Requirement already satisfied: markdown>=2.6.8 in c:\\users\\r-omd\\.conda\\envs\\tf-venv\\lib\\site-packages (from tensorboard<2.10,>=2.9->tensorflow) (3.4.1)\n",
      "Requirement already satisfied: pyparsing!=3.0.5,>=2.0.2 in c:\\users\\r-omd\\.conda\\envs\\tf-venv\\lib\\site-packages (from packaging->tensorflow) (3.0.9)\n",
      "Requirement already satisfied: rsa<5,>=3.1.4 in c:\\users\\r-omd\\.conda\\envs\\tf-venv\\lib\\site-packages (from google-auth<3,>=1.6.3->tensorboard<2.10,>=2.9->tensorflow) (4.9)\n",
      "Requirement already satisfied: cachetools<6.0,>=2.0.0 in c:\\users\\r-omd\\.conda\\envs\\tf-venv\\lib\\site-packages (from google-auth<3,>=1.6.3->tensorboard<2.10,>=2.9->tensorflow) (5.2.0)\n",
      "Requirement already satisfied: pyasn1-modules>=0.2.1 in c:\\users\\r-omd\\.conda\\envs\\tf-venv\\lib\\site-packages (from google-auth<3,>=1.6.3->tensorboard<2.10,>=2.9->tensorflow) (0.2.8)\n",
      "Requirement already satisfied: requests-oauthlib>=0.7.0 in c:\\users\\r-omd\\.conda\\envs\\tf-venv\\lib\\site-packages (from google-auth-oauthlib<0.5,>=0.4.1->tensorboard<2.10,>=2.9->tensorflow) (1.3.1)\n",
      "Requirement already satisfied: importlib-metadata>=4.4 in c:\\users\\r-omd\\.conda\\envs\\tf-venv\\lib\\site-packages (from markdown>=2.6.8->tensorboard<2.10,>=2.9->tensorflow) (4.12.0)\n",
      "Requirement already satisfied: certifi>=2017.4.17 in c:\\users\\r-omd\\.conda\\envs\\tf-venv\\lib\\site-packages (from requests<3,>=2.21.0->tensorboard<2.10,>=2.9->tensorflow) (2022.6.15)\n",
      "Requirement already satisfied: idna<4,>=2.5 in c:\\users\\r-omd\\.conda\\envs\\tf-venv\\lib\\site-packages (from requests<3,>=2.21.0->tensorboard<2.10,>=2.9->tensorflow) (3.3)\n",
      "Requirement already satisfied: charset-normalizer<3,>=2 in c:\\users\\r-omd\\.conda\\envs\\tf-venv\\lib\\site-packages (from requests<3,>=2.21.0->tensorboard<2.10,>=2.9->tensorflow) (2.1.1)\n",
      "Requirement already satisfied: urllib3<1.27,>=1.21.1 in c:\\users\\r-omd\\.conda\\envs\\tf-venv\\lib\\site-packages (from requests<3,>=2.21.0->tensorboard<2.10,>=2.9->tensorflow) (1.26.12)\n",
      "Requirement already satisfied: MarkupSafe>=2.1.1 in c:\\users\\r-omd\\.conda\\envs\\tf-venv\\lib\\site-packages (from werkzeug>=1.0.1->tensorboard<2.10,>=2.9->tensorflow) (2.1.1)\n",
      "Requirement already satisfied: zipp>=0.5 in c:\\users\\r-omd\\.conda\\envs\\tf-venv\\lib\\site-packages (from importlib-metadata>=4.4->markdown>=2.6.8->tensorboard<2.10,>=2.9->tensorflow) (3.8.1)\n",
      "Requirement already satisfied: pyasn1<0.5.0,>=0.4.6 in c:\\users\\r-omd\\.conda\\envs\\tf-venv\\lib\\site-packages (from pyasn1-modules>=0.2.1->google-auth<3,>=1.6.3->tensorboard<2.10,>=2.9->tensorflow) (0.4.8)\n",
      "Requirement already satisfied: oauthlib>=3.0.0 in c:\\users\\r-omd\\.conda\\envs\\tf-venv\\lib\\site-packages (from requests-oauthlib>=0.7.0->google-auth-oauthlib<0.5,>=0.4.1->tensorboard<2.10,>=2.9->tensorflow) (3.2.0)\n"
     ]
    }
   ],
   "source": [
    "!pip install tensorflow "
   ]
  },
  {
   "cell_type": "markdown",
   "id": "2cbdbb2a-9317-429e-be31-d1ac86bf24c3",
   "metadata": {},
   "source": [
    "# Aplicação do modelo para realizar previsões:"
   ]
  },
  {
   "cell_type": "code",
   "execution_count": 31,
   "id": "08f671f3-fc9c-4aea-922f-a7032bef305e",
   "metadata": {},
   "outputs": [],
   "source": [
    "base_vetorizada = \"s3_base_vetorizada_600\"\n",
    "\n",
    "pasta_entrada = \"bases_aplicacao\"\n",
    "pasta_saida = \"analises_de_resultados\"\n",
    "\n",
    "\n",
    "arquivo1 = \"tratado_links_correio_do_povo_organizado_paragrafos_resgatados.csv\"\n",
    "arquivo2 = \"tratado_links_estadao_resgatados.csv\"\n",
    "arquivo3 = \"tratado_links_folha_sem_rotulo_resgatados.csv\""
   ]
  },
  {
   "cell_type": "code",
   "execution_count": 33,
   "id": "703290a3",
   "metadata": {},
   "outputs": [
    {
     "name": "stdout",
     "output_type": "stream",
     "text": [
      "tamanho =  (210, 7)\n",
      "7/7 [==============================] - 0s 4ms/step\n"
     ]
    }
   ],
   "source": [
    "# # Seleciono o arquivo\n",
    "arquivo = arquivo1\n",
    "\n",
    "# # Leio e imprimo o tamanho\n",
    "dt = pd.read_csv(f\"{base_vetorizada}/{pasta_entrada}/{arquivo}\")\n",
    "print(\"tamanho = \", dt.shape)\n",
    "\n",
    "# Leio o texto vetorizado\n",
    "Xapp = np.load(f\"{base_vetorizada}/{pasta_entrada}/{arquivo}.npy\")\n",
    "\n",
    "# Faço a predição\n",
    "y_predict_app = (model_cbow.predict(Xapp) > 0.5).astype(\"int32\")\n",
    "\n",
    "# Formato a predição\n",
    "y_pred_app = [x[0] for x in y_predict_app]\n",
    "\n",
    "# Registro na base de dados\n",
    "dt[\"metaforico_pred\"] = y_pred_app\n",
    "dt.to_csv(f\"{pasta_saida}/base_aplicacao_resultado/rotulado_{arquivo}\")"
   ]
  },
  {
   "cell_type": "code",
   "execution_count": 36,
   "id": "836e251a",
   "metadata": {},
   "outputs": [
    {
     "name": "stderr",
     "output_type": "stream",
     "text": [
      "c:\\Users\\r-omd\\.conda\\envs\\tf-venv\\lib\\site-packages\\ipykernel_launcher.py:2: SettingWithCopyWarning: \n",
      "A value is trying to be set on a copy of a slice from a DataFrame.\n",
      "Try using .loc[row_indexer,col_indexer] = value instead\n",
      "\n",
      "See the caveats in the documentation: https://pandas.pydata.org/pandas-docs/stable/user_guide/indexing.html#returning-a-view-versus-a-copy\n",
      "  \n"
     ]
    },
    {
     "data": {
      "text/html": [
       "<div>\n",
       "<style scoped>\n",
       "    .dataframe tbody tr th:only-of-type {\n",
       "        vertical-align: middle;\n",
       "    }\n",
       "\n",
       "    .dataframe tbody tr th {\n",
       "        vertical-align: top;\n",
       "    }\n",
       "\n",
       "    .dataframe thead th {\n",
       "        text-align: right;\n",
       "    }\n",
       "</style>\n",
       "<table border=\"1\" class=\"dataframe\">\n",
       "  <thead>\n",
       "    <tr style=\"text-align: right;\">\n",
       "      <th></th>\n",
       "      <th>ano</th>\n",
       "      <th>links</th>\n",
       "      <th>nome</th>\n",
       "      <th>paragrafos_resgatados</th>\n",
       "      <th>paragrafos_tratados_sw</th>\n",
       "      <th>metaforico_pred</th>\n",
       "      <th>metaforico</th>\n",
       "    </tr>\n",
       "  </thead>\n",
       "  <tbody>\n",
       "    <tr>\n",
       "      <th>0</th>\n",
       "      <td>2009</td>\n",
       "      <td>https://www.correiodopovo.com.br/not%C3%ADcias...</td>\n",
       "      <td>esquizofrenia</td>\n",
       "      <td>['Em entrevista, a governadora considerou \"inc...</td>\n",
       "      <td>entrevista governadora considerou incoerente p...</td>\n",
       "      <td>1</td>\n",
       "      <td>sim</td>\n",
       "    </tr>\n",
       "    <tr>\n",
       "      <th>1</th>\n",
       "      <td>2010</td>\n",
       "      <td>https://www.correiodopovo.com.br/not%C3%ADcias...</td>\n",
       "      <td>esquizofrenia</td>\n",
       "      <td>['Dependentes químicos eram mantidos de forma ...</td>\n",
       "      <td>dependentes químicos eram mantidos irregular p...</td>\n",
       "      <td>0</td>\n",
       "      <td>nao</td>\n",
       "    </tr>\n",
       "    <tr>\n",
       "      <th>2</th>\n",
       "      <td>2010</td>\n",
       "      <td>https://www.correiodopovo.com.br/not%C3%ADcias...</td>\n",
       "      <td>esquizofrenia</td>\n",
       "      <td>['Dependentes químicos eram mantidos de forma ...</td>\n",
       "      <td>juizado infância juventude passo fundo norte c...</td>\n",
       "      <td>0</td>\n",
       "      <td>nao</td>\n",
       "    </tr>\n",
       "    <tr>\n",
       "      <th>3</th>\n",
       "      <td>2010</td>\n",
       "      <td>https://www.correiodopovo.com.br/not%C3%ADcias...</td>\n",
       "      <td>esquizofrenia</td>\n",
       "      <td>['Dependentes químicos eram mantidos de forma ...</td>\n",
       "      <td>encontraram pacientes sexos estavam adolescent...</td>\n",
       "      <td>0</td>\n",
       "      <td>nao</td>\n",
       "    </tr>\n",
       "    <tr>\n",
       "      <th>4</th>\n",
       "      <td>2010</td>\n",
       "      <td>https://www.correiodopovo.com.br/not%C3%ADcias...</td>\n",
       "      <td>esquizofrenia</td>\n",
       "      <td>['Os pacientes internados em uma clínica\\xa0pa...</td>\n",
       "      <td>pacientes internados clínica recuperação depen...</td>\n",
       "      <td>0</td>\n",
       "      <td>nao</td>\n",
       "    </tr>\n",
       "    <tr>\n",
       "      <th>...</th>\n",
       "      <td>...</td>\n",
       "      <td>...</td>\n",
       "      <td>...</td>\n",
       "      <td>...</td>\n",
       "      <td>...</td>\n",
       "      <td>...</td>\n",
       "      <td>...</td>\n",
       "    </tr>\n",
       "    <tr>\n",
       "      <th>205</th>\n",
       "      <td>2010</td>\n",
       "      <td>https://www.correiodopovo.com.br/not%C3%ADcias...</td>\n",
       "      <td>esquizofrenicas</td>\n",
       "      <td>['\"O mesmo ato pode gerar quatro recursos dife...</td>\n",
       "      <td>ato gerar recursos diferentes pluralidade mere...</td>\n",
       "      <td>1</td>\n",
       "      <td>sim</td>\n",
       "    </tr>\n",
       "    <tr>\n",
       "      <th>206</th>\n",
       "      <td>2011</td>\n",
       "      <td>https://www.correiodopovo.com.br/blogs/juremir...</td>\n",
       "      <td>esquizofrenicas</td>\n",
       "      <td>['O CONFEF impôs normas absolutamente esquizof...</td>\n",
       "      <td>confef impôs normas absolutamente esquizofrêni...</td>\n",
       "      <td>1</td>\n",
       "      <td>sim</td>\n",
       "    </tr>\n",
       "    <tr>\n",
       "      <th>207</th>\n",
       "      <td>2013</td>\n",
       "      <td>https://www.correiodopovo.com.br/arteagenda/al...</td>\n",
       "      <td>esquizofrenicas</td>\n",
       "      <td>['Elegante, cool, usando um modelito Cotton Cl...</td>\n",
       "      <td>elegante cool usando modelito cotton club bust...</td>\n",
       "      <td>1</td>\n",
       "      <td>sim</td>\n",
       "    </tr>\n",
       "    <tr>\n",
       "      <th>208</th>\n",
       "      <td>2016</td>\n",
       "      <td>https://www.correiodopovo.com.br/blogs/oscarbe...</td>\n",
       "      <td>esquizofrenicas</td>\n",
       "      <td>['Palavrinhas chaves nestes dias difíceis. Em ...</td>\n",
       "      <td>palavrinhas chaves nestes dias difíceis tempos...</td>\n",
       "      <td>1</td>\n",
       "      <td>sim</td>\n",
       "    </tr>\n",
       "    <tr>\n",
       "      <th>209</th>\n",
       "      <td>2022</td>\n",
       "      <td>https://www.correiodopovo.com.br/colunistas/gu...</td>\n",
       "      <td>esquizofrenicas</td>\n",
       "      <td>['Não fosse por uma série de decisões esquizof...</td>\n",
       "      <td>fosse série decisões esquizofrênicas supremo t...</td>\n",
       "      <td>1</td>\n",
       "      <td>sim</td>\n",
       "    </tr>\n",
       "  </tbody>\n",
       "</table>\n",
       "<p>210 rows × 7 columns</p>\n",
       "</div>"
      ],
      "text/plain": [
       "      ano                                              links             nome  \\\n",
       "0    2009  https://www.correiodopovo.com.br/not%C3%ADcias...    esquizofrenia   \n",
       "1    2010  https://www.correiodopovo.com.br/not%C3%ADcias...    esquizofrenia   \n",
       "2    2010  https://www.correiodopovo.com.br/not%C3%ADcias...    esquizofrenia   \n",
       "3    2010  https://www.correiodopovo.com.br/not%C3%ADcias...    esquizofrenia   \n",
       "4    2010  https://www.correiodopovo.com.br/not%C3%ADcias...    esquizofrenia   \n",
       "..    ...                                                ...              ...   \n",
       "205  2010  https://www.correiodopovo.com.br/not%C3%ADcias...  esquizofrenicas   \n",
       "206  2011  https://www.correiodopovo.com.br/blogs/juremir...  esquizofrenicas   \n",
       "207  2013  https://www.correiodopovo.com.br/arteagenda/al...  esquizofrenicas   \n",
       "208  2016  https://www.correiodopovo.com.br/blogs/oscarbe...  esquizofrenicas   \n",
       "209  2022  https://www.correiodopovo.com.br/colunistas/gu...  esquizofrenicas   \n",
       "\n",
       "                                 paragrafos_resgatados  \\\n",
       "0    ['Em entrevista, a governadora considerou \"inc...   \n",
       "1    ['Dependentes químicos eram mantidos de forma ...   \n",
       "2    ['Dependentes químicos eram mantidos de forma ...   \n",
       "3    ['Dependentes químicos eram mantidos de forma ...   \n",
       "4    ['Os pacientes internados em uma clínica\\xa0pa...   \n",
       "..                                                 ...   \n",
       "205  ['\"O mesmo ato pode gerar quatro recursos dife...   \n",
       "206  ['O CONFEF impôs normas absolutamente esquizof...   \n",
       "207  ['Elegante, cool, usando um modelito Cotton Cl...   \n",
       "208  ['Palavrinhas chaves nestes dias difíceis. Em ...   \n",
       "209  ['Não fosse por uma série de decisões esquizof...   \n",
       "\n",
       "                                paragrafos_tratados_sw  metaforico_pred  \\\n",
       "0    entrevista governadora considerou incoerente p...                1   \n",
       "1    dependentes químicos eram mantidos irregular p...                0   \n",
       "2    juizado infância juventude passo fundo norte c...                0   \n",
       "3    encontraram pacientes sexos estavam adolescent...                0   \n",
       "4    pacientes internados clínica recuperação depen...                0   \n",
       "..                                                 ...              ...   \n",
       "205  ato gerar recursos diferentes pluralidade mere...                1   \n",
       "206  confef impôs normas absolutamente esquizofrêni...                1   \n",
       "207  elegante cool usando modelito cotton club bust...                1   \n",
       "208  palavrinhas chaves nestes dias difíceis tempos...                1   \n",
       "209  fosse série decisões esquizofrênicas supremo t...                1   \n",
       "\n",
       "    metaforico  \n",
       "0          sim  \n",
       "1          nao  \n",
       "2          nao  \n",
       "3          nao  \n",
       "4          nao  \n",
       "..         ...  \n",
       "205        sim  \n",
       "206        sim  \n",
       "207        sim  \n",
       "208        sim  \n",
       "209        sim  \n",
       "\n",
       "[210 rows x 7 columns]"
      ]
     },
     "execution_count": 36,
     "metadata": {},
     "output_type": "execute_result"
    }
   ],
   "source": [
    "dt1 = dt[[\"ano\", \"links\", \"nome\", \"paragrafos_resgatados\", \"paragrafos_tratados_sw\", \"metaforico_pred\"]]\n",
    "dt1[\"metaforico\"] = dt1[\"metaforico_pred\"].map({0:\"nao\", 1:\"sim\"})\n",
    "dt1"
   ]
  },
  {
   "cell_type": "code",
   "execution_count": 38,
   "id": "5e5f16e5",
   "metadata": {},
   "outputs": [],
   "source": [
    "dt1.to_excel(\"analises_de_resultados/analises_bases_unidas/bases/base_final_correio_do_povo_completo.xlsx\", index = False)"
   ]
  },
  {
   "cell_type": "code",
   "execution_count": null,
   "id": "433244cb",
   "metadata": {},
   "outputs": [],
   "source": []
  }
 ],
 "metadata": {
  "kernelspec": {
   "display_name": "Python 3.7.13 ('tf-venv')",
   "language": "python",
   "name": "python3"
  },
  "language_info": {
   "codemirror_mode": {
    "name": "ipython",
    "version": 3
   },
   "file_extension": ".py",
   "mimetype": "text/x-python",
   "name": "python",
   "nbconvert_exporter": "python",
   "pygments_lexer": "ipython3",
   "version": "3.7.13 (default, Mar 28 2022, 08:03:21) [MSC v.1916 64 bit (AMD64)]"
  },
  "vscode": {
   "interpreter": {
    "hash": "a620e751919bbf4798da0a31f572336cd659817a2a18c3ab87fc834e5f2384e8"
   }
  }
 },
 "nbformat": 4,
 "nbformat_minor": 5
}
