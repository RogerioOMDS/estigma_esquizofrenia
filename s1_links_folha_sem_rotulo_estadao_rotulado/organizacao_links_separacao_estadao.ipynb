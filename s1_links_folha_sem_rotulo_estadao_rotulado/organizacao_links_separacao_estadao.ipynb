{
 "cells": [
  {
   "cell_type": "code",
   "execution_count": 1,
   "metadata": {},
   "outputs": [],
   "source": [
    "import pandas as pd \n",
    "import numpy as np "
   ]
  },
  {
   "cell_type": "code",
   "execution_count": 2,
   "metadata": {},
   "outputs": [
    {
     "data": {
      "text/plain": [
       "(2017, 13)"
      ]
     },
     "execution_count": 2,
     "metadata": {},
     "output_type": "execute_result"
    }
   ],
   "source": [
    "df = pd.read_csv(\"links_estadao_proj_estigma.csv\")\n",
    "df.shape"
   ]
  },
  {
   "cell_type": "code",
   "execution_count": 4,
   "metadata": {},
   "outputs": [
    {
     "data": {
      "text/plain": [
       "Index(['Ano', 'Links (ESQUIZOFRENIA)', 'Ano.1', 'Links (ESQUIZOFRÊNICO)',\n",
       "       'Ano.2', 'Links (ESQUIZOFRÊNICA)', 'Ano.3', 'Links (ESQUIZOFRÊNICOS)',\n",
       "       'Ano.4', 'Links (ESQUIZOFRÊNICAS)', 'Unnamed: 10', 'LINKS METAFÓRICOS',\n",
       "       'LINKS NÃO METAFÓRICOS'],\n",
       "      dtype='object')"
      ]
     },
     "execution_count": 4,
     "metadata": {},
     "output_type": "execute_result"
    }
   ],
   "source": [
    "df.columns "
   ]
  },
  {
   "cell_type": "code",
   "execution_count": 6,
   "metadata": {},
   "outputs": [],
   "source": [
    "df1 = df[['Ano', 'Links (ESQUIZOFRENIA)']].dropna()\n",
    "df2 = df[['Ano.1', 'Links (ESQUIZOFRÊNICO)']].dropna()\n",
    "df3 = df[['Ano.2', 'Links (ESQUIZOFRÊNICA)']].dropna()\n",
    "df4 = df[['Ano.3', 'Links (ESQUIZOFRÊNICOS)']].dropna()\n",
    "df5 = df[['Ano.4', 'Links (ESQUIZOFRÊNICAS)']].dropna()\n",
    "df6 = df[['LINKS METAFÓRICOS','LINKS NÃO METAFÓRICOS']].dropna()"
   ]
  },
  {
   "cell_type": "code",
   "execution_count": 7,
   "metadata": {},
   "outputs": [],
   "source": [
    "colunas = [\"ano\", \"link\"]\n",
    "df1.columns = colunas\n",
    "df2.columns = colunas\n",
    "df3.columns = colunas\n",
    "df4.columns = colunas\n",
    "df5.columns = colunas\n",
    "df6.columns = [\"metaforicos\", \"nao_metaforicos\"]"
   ]
  },
  {
   "cell_type": "code",
   "execution_count": 8,
   "metadata": {},
   "outputs": [
    {
     "data": {
      "text/plain": [
       "(3457, 2)"
      ]
     },
     "execution_count": 8,
     "metadata": {},
     "output_type": "execute_result"
    }
   ],
   "source": [
    "df_final = pd.concat([df1, df2, df3, df4, df5], axis = 0)\n",
    "df_final.shape"
   ]
  },
  {
   "cell_type": "code",
   "execution_count": 10,
   "metadata": {},
   "outputs": [],
   "source": [
    "df_final[\"ano\"] = df_final[\"ano\"].apply(int)"
   ]
  },
  {
   "cell_type": "code",
   "execution_count": 16,
   "metadata": {},
   "outputs": [
    {
     "data": {
      "text/html": [
       "<div>\n",
       "<style scoped>\n",
       "    .dataframe tbody tr th:only-of-type {\n",
       "        vertical-align: middle;\n",
       "    }\n",
       "\n",
       "    .dataframe tbody tr th {\n",
       "        vertical-align: top;\n",
       "    }\n",
       "\n",
       "    .dataframe thead th {\n",
       "        text-align: right;\n",
       "    }\n",
       "</style>\n",
       "<table border=\"1\" class=\"dataframe\">\n",
       "  <thead>\n",
       "    <tr style=\"text-align: right;\">\n",
       "      <th></th>\n",
       "      <th>ano</th>\n",
       "      <th>link</th>\n",
       "    </tr>\n",
       "  </thead>\n",
       "  <tbody>\n",
       "    <tr>\n",
       "      <th>766</th>\n",
       "      <td>2009</td>\n",
       "      <td>http://www.agora.com.br/saopaulo/ult10103u6278...</td>\n",
       "    </tr>\n",
       "    <tr>\n",
       "      <th>771</th>\n",
       "      <td>2009</td>\n",
       "      <td>http://www.agora.com.br/show/ult10111u619121.s...</td>\n",
       "    </tr>\n",
       "    <tr>\n",
       "      <th>772</th>\n",
       "      <td>2009</td>\n",
       "      <td>http://www.agora.com.br/show/ult10111u618547.s...</td>\n",
       "    </tr>\n",
       "    <tr>\n",
       "      <th>784</th>\n",
       "      <td>2009</td>\n",
       "      <td>http://www.agora.uol.com.br/show/ult10111u6016...</td>\n",
       "    </tr>\n",
       "    <tr>\n",
       "      <th>795</th>\n",
       "      <td>2009</td>\n",
       "      <td>http://www.agora.uol.com.br/defesadocidadao/ul...</td>\n",
       "    </tr>\n",
       "    <tr>\n",
       "      <th>...</th>\n",
       "      <td>...</td>\n",
       "      <td>...</td>\n",
       "    </tr>\n",
       "    <tr>\n",
       "      <th>257</th>\n",
       "      <td>2018</td>\n",
       "      <td>http://www.agora.uol.com.br/defesadocidadao/20...</td>\n",
       "    </tr>\n",
       "    <tr>\n",
       "      <th>18</th>\n",
       "      <td>2007</td>\n",
       "      <td>Não há ocorrência</td>\n",
       "    </tr>\n",
       "    <tr>\n",
       "      <th>40</th>\n",
       "      <td>2014</td>\n",
       "      <td>Não há ocorrência</td>\n",
       "    </tr>\n",
       "    <tr>\n",
       "      <th>42</th>\n",
       "      <td>2016</td>\n",
       "      <td>http://www.agora.uol.com.br/show/2016/04/17633...</td>\n",
       "    </tr>\n",
       "    <tr>\n",
       "      <th>43</th>\n",
       "      <td>2016</td>\n",
       "      <td>http://www.agora.uol.com.br/show/2016/04/17633...</td>\n",
       "    </tr>\n",
       "  </tbody>\n",
       "</table>\n",
       "<p>70 rows × 2 columns</p>\n",
       "</div>"
      ],
      "text/plain": [
       "      ano                                               link\n",
       "766  2009  http://www.agora.com.br/saopaulo/ult10103u6278...\n",
       "771  2009  http://www.agora.com.br/show/ult10111u619121.s...\n",
       "772  2009  http://www.agora.com.br/show/ult10111u618547.s...\n",
       "784  2009  http://www.agora.uol.com.br/show/ult10111u6016...\n",
       "795  2009  http://www.agora.uol.com.br/defesadocidadao/ul...\n",
       "..    ...                                                ...\n",
       "257  2018  http://www.agora.uol.com.br/defesadocidadao/20...\n",
       "18   2007                                  Não há ocorrência\n",
       "40   2014                                  Não há ocorrência\n",
       "42   2016  http://www.agora.uol.com.br/show/2016/04/17633...\n",
       "43   2016  http://www.agora.uol.com.br/show/2016/04/17633...\n",
       "\n",
       "[70 rows x 2 columns]"
      ]
     },
     "execution_count": 16,
     "metadata": {},
     "output_type": "execute_result"
    }
   ],
   "source": [
    "df_final[~df_final.link.str.contains(\"folha\")]"
   ]
  },
  {
   "cell_type": "code",
   "execution_count": 21,
   "metadata": {},
   "outputs": [
    {
     "data": {
      "text/html": [
       "<div>\n",
       "<style scoped>\n",
       "    .dataframe tbody tr th:only-of-type {\n",
       "        vertical-align: middle;\n",
       "    }\n",
       "\n",
       "    .dataframe tbody tr th {\n",
       "        vertical-align: top;\n",
       "    }\n",
       "\n",
       "    .dataframe thead th {\n",
       "        text-align: right;\n",
       "    }\n",
       "</style>\n",
       "<table border=\"1\" class=\"dataframe\">\n",
       "  <thead>\n",
       "    <tr style=\"text-align: right;\">\n",
       "      <th></th>\n",
       "      <th>ano</th>\n",
       "      <th>link</th>\n",
       "    </tr>\n",
       "  </thead>\n",
       "  <tbody>\n",
       "    <tr>\n",
       "      <th>0</th>\n",
       "      <td>2001</td>\n",
       "      <td>http://www1.folha.uol.com.br/fsp/ilustrad/fq04...</td>\n",
       "    </tr>\n",
       "    <tr>\n",
       "      <th>1</th>\n",
       "      <td>2001</td>\n",
       "      <td>http://www1.folha.uol.com.br/folha/mundo/ult94...</td>\n",
       "    </tr>\n",
       "    <tr>\n",
       "      <th>2</th>\n",
       "      <td>2001</td>\n",
       "      <td>http://www1.folha.uol.com.br/fsp/ilustrad/fq10...</td>\n",
       "    </tr>\n",
       "    <tr>\n",
       "      <th>3</th>\n",
       "      <td>2001</td>\n",
       "      <td>http://www1.folha.uol.com.br/folha/ciencia/ult...</td>\n",
       "    </tr>\n",
       "    <tr>\n",
       "      <th>4</th>\n",
       "      <td>2001</td>\n",
       "      <td>http://www1.folha.uol.com.br/folha/ciencia/ult...</td>\n",
       "    </tr>\n",
       "  </tbody>\n",
       "</table>\n",
       "</div>"
      ],
      "text/plain": [
       "    ano                                               link\n",
       "0  2001  http://www1.folha.uol.com.br/fsp/ilustrad/fq04...\n",
       "1  2001  http://www1.folha.uol.com.br/folha/mundo/ult94...\n",
       "2  2001  http://www1.folha.uol.com.br/fsp/ilustrad/fq10...\n",
       "3  2001  http://www1.folha.uol.com.br/folha/ciencia/ult...\n",
       "4  2001  http://www1.folha.uol.com.br/folha/ciencia/ult..."
      ]
     },
     "execution_count": 21,
     "metadata": {},
     "output_type": "execute_result"
    }
   ],
   "source": [
    "df_final_limpo = df_final[~df_final.link.str.contains(\"Não há ocorrência\")]\n",
    "df_final_limpo.head()"
   ]
  },
  {
   "cell_type": "code",
   "execution_count": 22,
   "metadata": {},
   "outputs": [],
   "source": [
    "df_final_limpo.to_csv(\"links_folha_e_agora_sem_rotulos.csv\", index = False)"
   ]
  },
  {
   "cell_type": "code",
   "execution_count": 23,
   "metadata": {},
   "outputs": [
    {
     "data": {
      "text/plain": [
       "3389"
      ]
     },
     "execution_count": 23,
     "metadata": {},
     "output_type": "execute_result"
    }
   ],
   "source": [
    "3457 - 68"
   ]
  },
  {
   "cell_type": "code",
   "execution_count": 26,
   "metadata": {},
   "outputs": [],
   "source": [
    "df6_1 = pd.DataFrame()\n",
    "df6_1[\"link\"] = df6[\"metaforicos\"]\n",
    "df6_1[\"metaforico\"] = 1"
   ]
  },
  {
   "cell_type": "code",
   "execution_count": 28,
   "metadata": {},
   "outputs": [],
   "source": [
    "df6_2 = pd.DataFrame()\n",
    "df6_2[\"link\"] = df6[\"nao_metaforicos\"]\n",
    "df6_2[\"metaforico\"] = 0"
   ]
  },
  {
   "cell_type": "code",
   "execution_count": 29,
   "metadata": {},
   "outputs": [
    {
     "data": {
      "text/plain": [
       "(70, 2)"
      ]
     },
     "execution_count": 29,
     "metadata": {},
     "output_type": "execute_result"
    }
   ],
   "source": [
    "df6_completo = pd.concat([df6_1, df6_2], axis = 0)\n",
    "df6_completo.shape"
   ]
  },
  {
   "cell_type": "code",
   "execution_count": 31,
   "metadata": {},
   "outputs": [],
   "source": [
    "df6_completo[\"indice_noticia\"] = [x for x in range(df6_completo.shape[0])]"
   ]
  },
  {
   "cell_type": "code",
   "execution_count": 32,
   "metadata": {},
   "outputs": [
    {
     "data": {
      "text/html": [
       "<div>\n",
       "<style scoped>\n",
       "    .dataframe tbody tr th:only-of-type {\n",
       "        vertical-align: middle;\n",
       "    }\n",
       "\n",
       "    .dataframe tbody tr th {\n",
       "        vertical-align: top;\n",
       "    }\n",
       "\n",
       "    .dataframe thead th {\n",
       "        text-align: right;\n",
       "    }\n",
       "</style>\n",
       "<table border=\"1\" class=\"dataframe\">\n",
       "  <thead>\n",
       "    <tr style=\"text-align: right;\">\n",
       "      <th></th>\n",
       "      <th>link</th>\n",
       "      <th>metaforico</th>\n",
       "      <th>indice_noticia</th>\n",
       "    </tr>\n",
       "  </thead>\n",
       "  <tbody>\n",
       "    <tr>\n",
       "      <th>0</th>\n",
       "      <td>https://opiniao.estadao.com.br/noticias/artigo...</td>\n",
       "      <td>1</td>\n",
       "      <td>0</td>\n",
       "    </tr>\n",
       "    <tr>\n",
       "      <th>1</th>\n",
       "      <td>https://opiniao.estadao.com.br/noticias/artigo...</td>\n",
       "      <td>1</td>\n",
       "      <td>1</td>\n",
       "    </tr>\n",
       "    <tr>\n",
       "      <th>2</th>\n",
       "      <td>https://opiniao.estadao.com.br/noticias/espaco...</td>\n",
       "      <td>1</td>\n",
       "      <td>2</td>\n",
       "    </tr>\n",
       "    <tr>\n",
       "      <th>3</th>\n",
       "      <td>https://cultura.estadao.com.br/noticias/litera...</td>\n",
       "      <td>1</td>\n",
       "      <td>3</td>\n",
       "    </tr>\n",
       "    <tr>\n",
       "      <th>4</th>\n",
       "      <td>https://cultura.estadao.com.br/noticias/geral,...</td>\n",
       "      <td>1</td>\n",
       "      <td>4</td>\n",
       "    </tr>\n",
       "  </tbody>\n",
       "</table>\n",
       "</div>"
      ],
      "text/plain": [
       "                                                link  metaforico  \\\n",
       "0  https://opiniao.estadao.com.br/noticias/artigo...           1   \n",
       "1  https://opiniao.estadao.com.br/noticias/artigo...           1   \n",
       "2  https://opiniao.estadao.com.br/noticias/espaco...           1   \n",
       "3  https://cultura.estadao.com.br/noticias/litera...           1   \n",
       "4  https://cultura.estadao.com.br/noticias/geral,...           1   \n",
       "\n",
       "   indice_noticia  \n",
       "0               0  \n",
       "1               1  \n",
       "2               2  \n",
       "3               3  \n",
       "4               4  "
      ]
     },
     "execution_count": 32,
     "metadata": {},
     "output_type": "execute_result"
    }
   ],
   "source": [
    "df6_completo.head()"
   ]
  },
  {
   "cell_type": "code",
   "execution_count": 33,
   "metadata": {},
   "outputs": [],
   "source": [
    "df6_completo.to_csv(\"links_estadao_rotulados.csv\", index = False)"
   ]
  },
  {
   "cell_type": "code",
   "execution_count": null,
   "metadata": {},
   "outputs": [],
   "source": []
  }
 ],
 "metadata": {
  "kernelspec": {
   "display_name": "Python 3.10.4 64-bit",
   "language": "python",
   "name": "python3"
  },
  "language_info": {
   "codemirror_mode": {
    "name": "ipython",
    "version": 3
   },
   "file_extension": ".py",
   "mimetype": "text/x-python",
   "name": "python",
   "nbconvert_exporter": "python",
   "pygments_lexer": "ipython3",
   "version": "3.10.4 (tags/v3.10.4:9d38120, Mar 23 2022, 23:13:41) [MSC v.1929 64 bit (AMD64)]"
  },
  "orig_nbformat": 4,
  "vscode": {
   "interpreter": {
    "hash": "2ad2ee33b41c9e762ad5bf2f0a3cb009dc3eaf5b09d1ee5fae31ac4a948dfd78"
   }
  }
 },
 "nbformat": 4,
 "nbformat_minor": 2
}
