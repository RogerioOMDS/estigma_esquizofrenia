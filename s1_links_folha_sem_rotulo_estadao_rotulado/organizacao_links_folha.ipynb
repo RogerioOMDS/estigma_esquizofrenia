{
 "cells": [
  {
   "cell_type": "code",
   "execution_count": 1,
   "metadata": {},
   "outputs": [],
   "source": [
    "import pandas as pd \n",
    "import numpy as np "
   ]
  },
  {
   "cell_type": "code",
   "execution_count": 2,
   "metadata": {},
   "outputs": [
    {
     "data": {
      "text/plain": [
       "(2135, 12)"
      ]
     },
     "execution_count": 2,
     "metadata": {},
     "output_type": "execute_result"
    }
   ],
   "source": [
    "df = pd.read_csv(\"Folha e LEITOR ATÉ 08_2022.csv\")\n",
    "df.shape"
   ]
  },
  {
   "cell_type": "code",
   "execution_count": 3,
   "metadata": {},
   "outputs": [
    {
     "data": {
      "text/plain": [
       "Index(['Unnamed: 0', 'Links (ESQUIZOFRENIA)', 'Ano', 'Links (ESQUIZOFRÊNICO)',\n",
       "       'Ano.1', 'Links (ESQUIZOFRÊNICA)', 'Ano.2', 'Links (ESQUIZOFRÊNICOS)',\n",
       "       'Ano.3', 'Links (ESQUIZOFRÊNICAS)', 'Unnamed: 10',\n",
       "       'LISTA LINKS \"PAINEL DO LEITOR\" (2001-2022) - ESQUIZOFRENIA, ESQUIZOfrênico(a/os/as)'],\n",
       "      dtype='object')"
      ]
     },
     "execution_count": 3,
     "metadata": {},
     "output_type": "execute_result"
    }
   ],
   "source": [
    "df.columns"
   ]
  },
  {
   "cell_type": "code",
   "execution_count": 4,
   "metadata": {},
   "outputs": [
    {
     "data": {
      "text/html": [
       "<div>\n",
       "<style scoped>\n",
       "    .dataframe tbody tr th:only-of-type {\n",
       "        vertical-align: middle;\n",
       "    }\n",
       "\n",
       "    .dataframe tbody tr th {\n",
       "        vertical-align: top;\n",
       "    }\n",
       "\n",
       "    .dataframe thead th {\n",
       "        text-align: right;\n",
       "    }\n",
       "</style>\n",
       "<table border=\"1\" class=\"dataframe\">\n",
       "  <thead>\n",
       "    <tr style=\"text-align: right;\">\n",
       "      <th></th>\n",
       "      <th>Unnamed: 0</th>\n",
       "      <th>Links (ESQUIZOFRENIA)</th>\n",
       "      <th>Ano</th>\n",
       "      <th>Links (ESQUIZOFRÊNICO)</th>\n",
       "      <th>Ano.1</th>\n",
       "      <th>Links (ESQUIZOFRÊNICA)</th>\n",
       "      <th>Ano.2</th>\n",
       "      <th>Links (ESQUIZOFRÊNICOS)</th>\n",
       "      <th>Ano.3</th>\n",
       "      <th>Links (ESQUIZOFRÊNICAS)</th>\n",
       "      <th>Unnamed: 10</th>\n",
       "      <th>LISTA LINKS \"PAINEL DO LEITOR\" (2001-2022) - ESQUIZOFRENIA, ESQUIZOfrênico(a/os/as)</th>\n",
       "    </tr>\n",
       "  </thead>\n",
       "  <tbody>\n",
       "    <tr>\n",
       "      <th>0</th>\n",
       "      <td>2001.0</td>\n",
       "      <td>http://www1.folha.uol.com.br/fsp/ilustrad/fq04...</td>\n",
       "      <td>2001.0</td>\n",
       "      <td>http://www1.folha.uol.com.br/folha/cotidiano/u...</td>\n",
       "      <td>2001.0</td>\n",
       "      <td>http://www1.folha.uol.com.br/fsp/opiniao/fz010...</td>\n",
       "      <td>2001.0</td>\n",
       "      <td>http://www1.folha.uol.com.br/folha/ilustrada/u...</td>\n",
       "      <td>2001.0</td>\n",
       "      <td>http://www1.folha.uol.com.br/fsp/turismo/fx180...</td>\n",
       "      <td>NaN</td>\n",
       "      <td>https://www1.folha.uol.com.br/paineldoleitor/2...</td>\n",
       "    </tr>\n",
       "    <tr>\n",
       "      <th>1</th>\n",
       "      <td>2001.0</td>\n",
       "      <td>http://www1.folha.uol.com.br/folha/mundo/ult94...</td>\n",
       "      <td>2001.0</td>\n",
       "      <td>http://www1.folha.uol.com.br/fsp/cotidian/ff30...</td>\n",
       "      <td>2001.0</td>\n",
       "      <td>http://www1.folha.uol.com.br/fsp/opiniao/fz191...</td>\n",
       "      <td>2001.0</td>\n",
       "      <td>http://www1.folha.uol.com.br/fsp/folhatee/fm16...</td>\n",
       "      <td>2002.0</td>\n",
       "      <td>http://www1.folha.uol.com.br/fsp/ilustrad/fq30...</td>\n",
       "      <td>NaN</td>\n",
       "      <td>https://www1.folha.uol.com.br/paineldoleitor/2...</td>\n",
       "    </tr>\n",
       "    <tr>\n",
       "      <th>2</th>\n",
       "      <td>2001.0</td>\n",
       "      <td>http://www1.folha.uol.com.br/fsp/ilustrad/fq10...</td>\n",
       "      <td>2001.0</td>\n",
       "      <td>http://www1.folha.uol.com.br/folha/reuters/ult...</td>\n",
       "      <td>2001.0</td>\n",
       "      <td>http://www1.folha.uol.com.br/fsp/ilustrad/fq17...</td>\n",
       "      <td>2001.0</td>\n",
       "      <td>http://www1.folha.uol.com.br/fsp/ciencia/fe151...</td>\n",
       "      <td>2002.0</td>\n",
       "      <td>http://www1.folha.uol.com.br/fsp/ilustrad/fq23...</td>\n",
       "      <td>NaN</td>\n",
       "      <td>https://www1.folha.uol.com.br/paineldoleitor/2...</td>\n",
       "    </tr>\n",
       "    <tr>\n",
       "      <th>3</th>\n",
       "      <td>2001.0</td>\n",
       "      <td>http://www1.folha.uol.com.br/folha/ciencia/ult...</td>\n",
       "      <td>2001.0</td>\n",
       "      <td>http://www1.folha.uol.com.br/folha/mundo/ult94...</td>\n",
       "      <td>2001.0</td>\n",
       "      <td>http://www1.folha.uol.com.br/fsp/opiniao/fz301...</td>\n",
       "      <td>2001.0</td>\n",
       "      <td>http://www1.folha.uol.com.br/folha/ciencia/ult...</td>\n",
       "      <td>2002.0</td>\n",
       "      <td>http://www1.folha.uol.com.br/folha/ciencia/ult...</td>\n",
       "      <td>NaN</td>\n",
       "      <td>https://www1.folha.uol.com.br/paineldoleitor/2...</td>\n",
       "    </tr>\n",
       "    <tr>\n",
       "      <th>4</th>\n",
       "      <td>2001.0</td>\n",
       "      <td>http://www1.folha.uol.com.br/folha/ciencia/ult...</td>\n",
       "      <td>2001.0</td>\n",
       "      <td>http://www1.folha.uol.com.br/folha/brasil/ult9...</td>\n",
       "      <td>2001.0</td>\n",
       "      <td>http://www1.folha.uol.com.br/fsp/ilustrad/fq24...</td>\n",
       "      <td>2001.0</td>\n",
       "      <td>http://www1.folha.uol.com.br/folha/ciencia/ult...</td>\n",
       "      <td>2003.0</td>\n",
       "      <td>http://www1.folha.uol.com.br/folha/bbc/ult272u...</td>\n",
       "      <td>NaN</td>\n",
       "      <td>http://www1.folha.uol.com.br/paineldoleitor/20...</td>\n",
       "    </tr>\n",
       "  </tbody>\n",
       "</table>\n",
       "</div>"
      ],
      "text/plain": [
       "   Unnamed: 0                              Links (ESQUIZOFRENIA)     Ano  \\\n",
       "0      2001.0  http://www1.folha.uol.com.br/fsp/ilustrad/fq04...  2001.0   \n",
       "1      2001.0  http://www1.folha.uol.com.br/folha/mundo/ult94...  2001.0   \n",
       "2      2001.0  http://www1.folha.uol.com.br/fsp/ilustrad/fq10...  2001.0   \n",
       "3      2001.0  http://www1.folha.uol.com.br/folha/ciencia/ult...  2001.0   \n",
       "4      2001.0  http://www1.folha.uol.com.br/folha/ciencia/ult...  2001.0   \n",
       "\n",
       "                              Links (ESQUIZOFRÊNICO)   Ano.1  \\\n",
       "0  http://www1.folha.uol.com.br/folha/cotidiano/u...  2001.0   \n",
       "1  http://www1.folha.uol.com.br/fsp/cotidian/ff30...  2001.0   \n",
       "2  http://www1.folha.uol.com.br/folha/reuters/ult...  2001.0   \n",
       "3  http://www1.folha.uol.com.br/folha/mundo/ult94...  2001.0   \n",
       "4  http://www1.folha.uol.com.br/folha/brasil/ult9...  2001.0   \n",
       "\n",
       "                              Links (ESQUIZOFRÊNICA)   Ano.2  \\\n",
       "0  http://www1.folha.uol.com.br/fsp/opiniao/fz010...  2001.0   \n",
       "1  http://www1.folha.uol.com.br/fsp/opiniao/fz191...  2001.0   \n",
       "2  http://www1.folha.uol.com.br/fsp/ilustrad/fq17...  2001.0   \n",
       "3  http://www1.folha.uol.com.br/fsp/opiniao/fz301...  2001.0   \n",
       "4  http://www1.folha.uol.com.br/fsp/ilustrad/fq24...  2001.0   \n",
       "\n",
       "                             Links (ESQUIZOFRÊNICOS)   Ano.3  \\\n",
       "0  http://www1.folha.uol.com.br/folha/ilustrada/u...  2001.0   \n",
       "1  http://www1.folha.uol.com.br/fsp/folhatee/fm16...  2002.0   \n",
       "2  http://www1.folha.uol.com.br/fsp/ciencia/fe151...  2002.0   \n",
       "3  http://www1.folha.uol.com.br/folha/ciencia/ult...  2002.0   \n",
       "4  http://www1.folha.uol.com.br/folha/ciencia/ult...  2003.0   \n",
       "\n",
       "                             Links (ESQUIZOFRÊNICAS)  Unnamed: 10  \\\n",
       "0  http://www1.folha.uol.com.br/fsp/turismo/fx180...          NaN   \n",
       "1  http://www1.folha.uol.com.br/fsp/ilustrad/fq30...          NaN   \n",
       "2  http://www1.folha.uol.com.br/fsp/ilustrad/fq23...          NaN   \n",
       "3  http://www1.folha.uol.com.br/folha/ciencia/ult...          NaN   \n",
       "4  http://www1.folha.uol.com.br/folha/bbc/ult272u...          NaN   \n",
       "\n",
       "  LISTA LINKS \"PAINEL DO LEITOR\" (2001-2022) - ESQUIZOFRENIA, ESQUIZOfrênico(a/os/as)  \n",
       "0  https://www1.folha.uol.com.br/paineldoleitor/2...                                   \n",
       "1  https://www1.folha.uol.com.br/paineldoleitor/2...                                   \n",
       "2  https://www1.folha.uol.com.br/paineldoleitor/2...                                   \n",
       "3  https://www1.folha.uol.com.br/paineldoleitor/2...                                   \n",
       "4  http://www1.folha.uol.com.br/paineldoleitor/20...                                   "
      ]
     },
     "execution_count": 4,
     "metadata": {},
     "output_type": "execute_result"
    }
   ],
   "source": [
    "df.head()"
   ]
  },
  {
   "cell_type": "code",
   "execution_count": 5,
   "metadata": {},
   "outputs": [],
   "source": [
    "df1 = df[['Unnamed: 0', 'Links (ESQUIZOFRENIA)']].dropna()\n",
    "df2 = df[['Ano', 'Links (ESQUIZOFRÊNICO)']].dropna()\n",
    "df3 = df[['Ano.1', 'Links (ESQUIZOFRÊNICA)']].dropna()\n",
    "df4 = df[['Ano.2', 'Links (ESQUIZOFRÊNICOS)']].dropna()\n",
    "df5 = df[['Ano.3', 'Links (ESQUIZOFRÊNICAS)']].dropna()"
   ]
  },
  {
   "cell_type": "code",
   "execution_count": 6,
   "metadata": {},
   "outputs": [],
   "source": [
    "colunas = [\"ano\", \"link\"]\n",
    "df1.columns = colunas\n",
    "df2.columns = colunas\n",
    "df3.columns = colunas\n",
    "df4.columns = colunas\n",
    "df5.columns = colunas"
   ]
  },
  {
   "cell_type": "code",
   "execution_count": 7,
   "metadata": {},
   "outputs": [
    {
     "data": {
      "text/plain": [
       "(3624, 2)"
      ]
     },
     "execution_count": 7,
     "metadata": {},
     "output_type": "execute_result"
    }
   ],
   "source": [
    "df_final = pd.concat([df1, df2, df3, df4, df5], axis = 0)\n",
    "df_final.shape"
   ]
  },
  {
   "cell_type": "code",
   "execution_count": 8,
   "metadata": {},
   "outputs": [],
   "source": [
    "df_final[\"ano\"] = df_final[\"ano\"].apply(int)"
   ]
  },
  {
   "cell_type": "code",
   "execution_count": 9,
   "metadata": {},
   "outputs": [
    {
     "data": {
      "text/html": [
       "<div>\n",
       "<style scoped>\n",
       "    .dataframe tbody tr th:only-of-type {\n",
       "        vertical-align: middle;\n",
       "    }\n",
       "\n",
       "    .dataframe tbody tr th {\n",
       "        vertical-align: top;\n",
       "    }\n",
       "\n",
       "    .dataframe thead th {\n",
       "        text-align: right;\n",
       "    }\n",
       "</style>\n",
       "<table border=\"1\" class=\"dataframe\">\n",
       "  <thead>\n",
       "    <tr style=\"text-align: right;\">\n",
       "      <th></th>\n",
       "      <th>ano</th>\n",
       "      <th>link</th>\n",
       "    </tr>\n",
       "  </thead>\n",
       "  <tbody>\n",
       "    <tr>\n",
       "      <th>766</th>\n",
       "      <td>2009</td>\n",
       "      <td>http://www.agora.com.br/saopaulo/ult10103u6278...</td>\n",
       "    </tr>\n",
       "    <tr>\n",
       "      <th>771</th>\n",
       "      <td>2009</td>\n",
       "      <td>http://www.agora.com.br/show/ult10111u619121.s...</td>\n",
       "    </tr>\n",
       "    <tr>\n",
       "      <th>772</th>\n",
       "      <td>2009</td>\n",
       "      <td>http://www.agora.com.br/show/ult10111u618547.s...</td>\n",
       "    </tr>\n",
       "    <tr>\n",
       "      <th>784</th>\n",
       "      <td>2009</td>\n",
       "      <td>http://www.agora.uol.com.br/show/ult10111u6016...</td>\n",
       "    </tr>\n",
       "    <tr>\n",
       "      <th>795</th>\n",
       "      <td>2009</td>\n",
       "      <td>http://www.agora.uol.com.br/defesadocidadao/ul...</td>\n",
       "    </tr>\n",
       "    <tr>\n",
       "      <th>...</th>\n",
       "      <td>...</td>\n",
       "      <td>...</td>\n",
       "    </tr>\n",
       "    <tr>\n",
       "      <th>257</th>\n",
       "      <td>2018</td>\n",
       "      <td>http://www.agora.uol.com.br/defesadocidadao/20...</td>\n",
       "    </tr>\n",
       "    <tr>\n",
       "      <th>18</th>\n",
       "      <td>2007</td>\n",
       "      <td>Não há ocorrência</td>\n",
       "    </tr>\n",
       "    <tr>\n",
       "      <th>40</th>\n",
       "      <td>2014</td>\n",
       "      <td>Não há ocorrência</td>\n",
       "    </tr>\n",
       "    <tr>\n",
       "      <th>42</th>\n",
       "      <td>2016</td>\n",
       "      <td>http://www.agora.uol.com.br/show/2016/04/17633...</td>\n",
       "    </tr>\n",
       "    <tr>\n",
       "      <th>43</th>\n",
       "      <td>2016</td>\n",
       "      <td>http://www.agora.uol.com.br/show/2016/04/17633...</td>\n",
       "    </tr>\n",
       "  </tbody>\n",
       "</table>\n",
       "<p>70 rows × 2 columns</p>\n",
       "</div>"
      ],
      "text/plain": [
       "      ano                                               link\n",
       "766  2009  http://www.agora.com.br/saopaulo/ult10103u6278...\n",
       "771  2009  http://www.agora.com.br/show/ult10111u619121.s...\n",
       "772  2009  http://www.agora.com.br/show/ult10111u618547.s...\n",
       "784  2009  http://www.agora.uol.com.br/show/ult10111u6016...\n",
       "795  2009  http://www.agora.uol.com.br/defesadocidadao/ul...\n",
       "..    ...                                                ...\n",
       "257  2018  http://www.agora.uol.com.br/defesadocidadao/20...\n",
       "18   2007                                  Não há ocorrência\n",
       "40   2014                                  Não há ocorrência\n",
       "42   2016  http://www.agora.uol.com.br/show/2016/04/17633...\n",
       "43   2016  http://www.agora.uol.com.br/show/2016/04/17633...\n",
       "\n",
       "[70 rows x 2 columns]"
      ]
     },
     "execution_count": 9,
     "metadata": {},
     "output_type": "execute_result"
    }
   ],
   "source": [
    "df_final[~df_final.link.str.contains(\"folha\")]"
   ]
  },
  {
   "cell_type": "code",
   "execution_count": 10,
   "metadata": {},
   "outputs": [
    {
     "data": {
      "text/html": [
       "<div>\n",
       "<style scoped>\n",
       "    .dataframe tbody tr th:only-of-type {\n",
       "        vertical-align: middle;\n",
       "    }\n",
       "\n",
       "    .dataframe tbody tr th {\n",
       "        vertical-align: top;\n",
       "    }\n",
       "\n",
       "    .dataframe thead th {\n",
       "        text-align: right;\n",
       "    }\n",
       "</style>\n",
       "<table border=\"1\" class=\"dataframe\">\n",
       "  <thead>\n",
       "    <tr style=\"text-align: right;\">\n",
       "      <th></th>\n",
       "      <th>ano</th>\n",
       "      <th>link</th>\n",
       "    </tr>\n",
       "  </thead>\n",
       "  <tbody>\n",
       "    <tr>\n",
       "      <th>0</th>\n",
       "      <td>2001</td>\n",
       "      <td>http://www1.folha.uol.com.br/fsp/ilustrad/fq04...</td>\n",
       "    </tr>\n",
       "    <tr>\n",
       "      <th>1</th>\n",
       "      <td>2001</td>\n",
       "      <td>http://www1.folha.uol.com.br/folha/mundo/ult94...</td>\n",
       "    </tr>\n",
       "    <tr>\n",
       "      <th>2</th>\n",
       "      <td>2001</td>\n",
       "      <td>http://www1.folha.uol.com.br/fsp/ilustrad/fq10...</td>\n",
       "    </tr>\n",
       "    <tr>\n",
       "      <th>3</th>\n",
       "      <td>2001</td>\n",
       "      <td>http://www1.folha.uol.com.br/folha/ciencia/ult...</td>\n",
       "    </tr>\n",
       "    <tr>\n",
       "      <th>4</th>\n",
       "      <td>2001</td>\n",
       "      <td>http://www1.folha.uol.com.br/folha/ciencia/ult...</td>\n",
       "    </tr>\n",
       "  </tbody>\n",
       "</table>\n",
       "</div>"
      ],
      "text/plain": [
       "    ano                                               link\n",
       "0  2001  http://www1.folha.uol.com.br/fsp/ilustrad/fq04...\n",
       "1  2001  http://www1.folha.uol.com.br/folha/mundo/ult94...\n",
       "2  2001  http://www1.folha.uol.com.br/fsp/ilustrad/fq10...\n",
       "3  2001  http://www1.folha.uol.com.br/folha/ciencia/ult...\n",
       "4  2001  http://www1.folha.uol.com.br/folha/ciencia/ult..."
      ]
     },
     "execution_count": 10,
     "metadata": {},
     "output_type": "execute_result"
    }
   ],
   "source": [
    "df_final_limpo = df_final[~df_final.link.str.contains(\"Não há ocorrência\")].dropna()\n",
    "df_final_limpo.head()"
   ]
  },
  {
   "cell_type": "code",
   "execution_count": 11,
   "metadata": {},
   "outputs": [],
   "source": [
    "# df_final_limpo.to_csv(\"links_folha_sem_rotulos.csv\", index = False)"
   ]
  },
  {
   "cell_type": "code",
   "execution_count": 13,
   "metadata": {},
   "outputs": [
    {
     "data": {
      "text/html": [
       "<div>\n",
       "<style scoped>\n",
       "    .dataframe tbody tr th:only-of-type {\n",
       "        vertical-align: middle;\n",
       "    }\n",
       "\n",
       "    .dataframe tbody tr th {\n",
       "        vertical-align: top;\n",
       "    }\n",
       "\n",
       "    .dataframe thead th {\n",
       "        text-align: right;\n",
       "    }\n",
       "</style>\n",
       "<table border=\"1\" class=\"dataframe\">\n",
       "  <thead>\n",
       "    <tr style=\"text-align: right;\">\n",
       "      <th></th>\n",
       "      <th>ano</th>\n",
       "      <th>link</th>\n",
       "    </tr>\n",
       "  </thead>\n",
       "  <tbody>\n",
       "    <tr>\n",
       "      <th>2067</th>\n",
       "      <td>2022</td>\n",
       "      <td>https://www1.folha.uol.com.br/colunas/luciano-...</td>\n",
       "    </tr>\n",
       "    <tr>\n",
       "      <th>2068</th>\n",
       "      <td>2022</td>\n",
       "      <td>https://www1.folha.uol.com.br/ilustrada/2022/0...</td>\n",
       "    </tr>\n",
       "    <tr>\n",
       "      <th>2069</th>\n",
       "      <td>2022</td>\n",
       "      <td>https://www1.folha.uol.com.br/blogs/saude-em-p...</td>\n",
       "    </tr>\n",
       "    <tr>\n",
       "      <th>2070</th>\n",
       "      <td>2022</td>\n",
       "      <td>https://www1.folha.uol.com.br/equilibrio/2022/...</td>\n",
       "    </tr>\n",
       "    <tr>\n",
       "      <th>2071</th>\n",
       "      <td>2022</td>\n",
       "      <td>https://www1.folha.uol.com.br/cotidiano/2022/0...</td>\n",
       "    </tr>\n",
       "    <tr>\n",
       "      <th>...</th>\n",
       "      <td>...</td>\n",
       "      <td>...</td>\n",
       "    </tr>\n",
       "    <tr>\n",
       "      <th>385</th>\n",
       "      <td>2022</td>\n",
       "      <td>https://www1.folha.uol.com.br/ilustrada/2022/0...</td>\n",
       "    </tr>\n",
       "    <tr>\n",
       "      <th>274</th>\n",
       "      <td>2022</td>\n",
       "      <td>https://www1.folha.uol.com.br/colunas/luciano-...</td>\n",
       "    </tr>\n",
       "    <tr>\n",
       "      <th>275</th>\n",
       "      <td>2022</td>\n",
       "      <td>https://www1.folha.uol.com.br/colunas/luciano-...</td>\n",
       "    </tr>\n",
       "    <tr>\n",
       "      <th>276</th>\n",
       "      <td>2022</td>\n",
       "      <td>https://www1.folha.uol.com.br/equilibrio/2022/...</td>\n",
       "    </tr>\n",
       "    <tr>\n",
       "      <th>53</th>\n",
       "      <td>2022</td>\n",
       "      <td>https://www1.folha.uol.com.br/colunas/luciano-...</td>\n",
       "    </tr>\n",
       "  </tbody>\n",
       "</table>\n",
       "<p>93 rows × 2 columns</p>\n",
       "</div>"
      ],
      "text/plain": [
       "       ano                                               link\n",
       "2067  2022  https://www1.folha.uol.com.br/colunas/luciano-...\n",
       "2068  2022  https://www1.folha.uol.com.br/ilustrada/2022/0...\n",
       "2069  2022  https://www1.folha.uol.com.br/blogs/saude-em-p...\n",
       "2070  2022  https://www1.folha.uol.com.br/equilibrio/2022/...\n",
       "2071  2022  https://www1.folha.uol.com.br/cotidiano/2022/0...\n",
       "...    ...                                                ...\n",
       "385   2022  https://www1.folha.uol.com.br/ilustrada/2022/0...\n",
       "274   2022  https://www1.folha.uol.com.br/colunas/luciano-...\n",
       "275   2022  https://www1.folha.uol.com.br/colunas/luciano-...\n",
       "276   2022  https://www1.folha.uol.com.br/equilibrio/2022/...\n",
       "53    2022  https://www1.folha.uol.com.br/colunas/luciano-...\n",
       "\n",
       "[93 rows x 2 columns]"
      ]
     },
     "execution_count": 13,
     "metadata": {},
     "output_type": "execute_result"
    }
   ],
   "source": [
    "df_final_limpo.query(\"ano == 2022\")"
   ]
  },
  {
   "cell_type": "code",
   "execution_count": null,
   "metadata": {},
   "outputs": [],
   "source": []
  }
 ],
 "metadata": {
  "kernelspec": {
   "display_name": "Python 3.10.4 64-bit",
   "language": "python",
   "name": "python3"
  },
  "language_info": {
   "codemirror_mode": {
    "name": "ipython",
    "version": 3
   },
   "file_extension": ".py",
   "mimetype": "text/x-python",
   "name": "python",
   "nbconvert_exporter": "python",
   "pygments_lexer": "ipython3",
   "version": "3.10.4 (tags/v3.10.4:9d38120, Mar 23 2022, 23:13:41) [MSC v.1929 64 bit (AMD64)]"
  },
  "orig_nbformat": 4,
  "vscode": {
   "interpreter": {
    "hash": "2ad2ee33b41c9e762ad5bf2f0a3cb009dc3eaf5b09d1ee5fae31ac4a948dfd78"
   }
  }
 },
 "nbformat": 4,
 "nbformat_minor": 2
}
