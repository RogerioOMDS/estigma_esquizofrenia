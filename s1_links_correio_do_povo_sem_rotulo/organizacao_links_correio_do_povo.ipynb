{
 "cells": [
  {
   "cell_type": "code",
   "execution_count": 14,
   "id": "4b812960-901d-4d36-ac4c-98ae079548a5",
   "metadata": {},
   "outputs": [],
   "source": [
    "import pandas as pd \n",
    "import numpy as np "
   ]
  },
  {
   "cell_type": "code",
   "execution_count": 15,
   "id": "a0137880-a393-46c4-954a-69cb39288682",
   "metadata": {},
   "outputs": [
    {
     "data": {
      "text/plain": [
       "(137, 12)"
      ]
     },
     "execution_count": 15,
     "metadata": {},
     "output_type": "execute_result"
    }
   ],
   "source": [
    "df = pd.read_csv(\"links_correio_do_povo.csv\")\n",
    "df.shape"
   ]
  },
  {
   "cell_type": "code",
   "execution_count": 16,
   "id": "813c7005-86e5-457b-b6d9-c25f061d0c71",
   "metadata": {},
   "outputs": [
    {
     "data": {
      "text/html": [
       "<div>\n",
       "<style scoped>\n",
       "    .dataframe tbody tr th:only-of-type {\n",
       "        vertical-align: middle;\n",
       "    }\n",
       "\n",
       "    .dataframe tbody tr th {\n",
       "        vertical-align: top;\n",
       "    }\n",
       "\n",
       "    .dataframe thead th {\n",
       "        text-align: right;\n",
       "    }\n",
       "</style>\n",
       "<table border=\"1\" class=\"dataframe\">\n",
       "  <thead>\n",
       "    <tr style=\"text-align: right;\">\n",
       "      <th></th>\n",
       "      <th>Ano</th>\n",
       "      <th>Links (ESQUIZOFRENIA)</th>\n",
       "      <th>Ano.1</th>\n",
       "      <th>Links (ESQUIZOFRÊNICO)</th>\n",
       "      <th>Ano.2</th>\n",
       "      <th>Links (ESQUIZOFRÊNICA)</th>\n",
       "      <th>Ano.3</th>\n",
       "      <th>Links (ESQUIZOFRÊNICOS)</th>\n",
       "      <th>Ano.4</th>\n",
       "      <th>Links (ESQUIZOFRÊNICAS)</th>\n",
       "      <th>Unnamed: 10</th>\n",
       "      <th></th>\n",
       "    </tr>\n",
       "  </thead>\n",
       "  <tbody>\n",
       "    <tr>\n",
       "      <th>0</th>\n",
       "      <td>2009</td>\n",
       "      <td>https://www.correiodopovo.com.br/not%C3%ADcias...</td>\n",
       "      <td>2009.0</td>\n",
       "      <td>https://www.correiodopovo.com.br/blogs/cinecp/...</td>\n",
       "      <td>2009</td>\n",
       "      <td>https://www.correiodopovo.com.br/not%C3%ADcias...</td>\n",
       "      <td>2012</td>\n",
       "      <td>https://www.correiodopovo.com.br/blogs/pitlane...</td>\n",
       "      <td>2010.0</td>\n",
       "      <td>https://www.correiodopovo.com.br/blogs/juremir...</td>\n",
       "      <td>NaN</td>\n",
       "      <td></td>\n",
       "    </tr>\n",
       "    <tr>\n",
       "      <th>1</th>\n",
       "      <td>2010</td>\n",
       "      <td>https://www.correiodopovo.com.br/not%C3%ADcias...</td>\n",
       "      <td>2010.0</td>\n",
       "      <td>https://www.correiodopovo.com.br/not%C3%ADcias...</td>\n",
       "      <td>2010</td>\n",
       "      <td>https://www.correiodopovo.com.br/arteagenda/mu...</td>\n",
       "      <td>2015</td>\n",
       "      <td>https://www.correiodopovo.com.br/not%C3%ADcias...</td>\n",
       "      <td>2010.0</td>\n",
       "      <td>https://www.correiodopovo.com.br/not%C3%ADcias...</td>\n",
       "      <td>NaN</td>\n",
       "      <td></td>\n",
       "    </tr>\n",
       "    <tr>\n",
       "      <th>2</th>\n",
       "      <td>2010</td>\n",
       "      <td>https://www.correiodopovo.com.br/not%C3%ADcias...</td>\n",
       "      <td>2011.0</td>\n",
       "      <td>https://www.correiodopovo.com.br/blogs/cinecp/...</td>\n",
       "      <td>2011</td>\n",
       "      <td>https://www.correiodopovo.com.br/not%C3%ADcias...</td>\n",
       "      <td>2017</td>\n",
       "      <td>https://www.correiodopovo.com.br/not%C3%ADcias...</td>\n",
       "      <td>2011.0</td>\n",
       "      <td>https://www.correiodopovo.com.br/blogs/juremir...</td>\n",
       "      <td>NaN</td>\n",
       "      <td></td>\n",
       "    </tr>\n",
       "    <tr>\n",
       "      <th>3</th>\n",
       "      <td>2010</td>\n",
       "      <td>https://www.correiodopovo.com.br/not%C3%ADcias...</td>\n",
       "      <td>2012.0</td>\n",
       "      <td>https://www.correiodopovo.com.br/not%C3%ADcias...</td>\n",
       "      <td>2012</td>\n",
       "      <td>https://www.correiodopovo.com.br/arteagenda/di...</td>\n",
       "      <td>2017</td>\n",
       "      <td>https://www.correiodopovo.com.br/blogs/juremir...</td>\n",
       "      <td>2013.0</td>\n",
       "      <td>https://www.correiodopovo.com.br/arteagenda/al...</td>\n",
       "      <td>NaN</td>\n",
       "      <td></td>\n",
       "    </tr>\n",
       "    <tr>\n",
       "      <th>4</th>\n",
       "      <td>2010</td>\n",
       "      <td>https://www.correiodopovo.com.br/not%C3%ADcias...</td>\n",
       "      <td>2012.0</td>\n",
       "      <td>https://www.correiodopovo.com.br/arteagenda/xa...</td>\n",
       "      <td>2012</td>\n",
       "      <td>https://www.correiodopovo.com.br/blogs/cinecp/...</td>\n",
       "      <td>2017</td>\n",
       "      <td>https://www.correiodopovo.com.br/not%C3%ADcias...</td>\n",
       "      <td>2016.0</td>\n",
       "      <td>https://www.correiodopovo.com.br/blogs/oscarbe...</td>\n",
       "      <td>NaN</td>\n",
       "      <td></td>\n",
       "    </tr>\n",
       "  </tbody>\n",
       "</table>\n",
       "</div>"
      ],
      "text/plain": [
       "    Ano                              Links (ESQUIZOFRENIA)   Ano.1  \\\n",
       "0  2009  https://www.correiodopovo.com.br/not%C3%ADcias...  2009.0   \n",
       "1  2010  https://www.correiodopovo.com.br/not%C3%ADcias...  2010.0   \n",
       "2  2010  https://www.correiodopovo.com.br/not%C3%ADcias...  2011.0   \n",
       "3  2010  https://www.correiodopovo.com.br/not%C3%ADcias...  2012.0   \n",
       "4  2010  https://www.correiodopovo.com.br/not%C3%ADcias...  2012.0   \n",
       "\n",
       "                              Links (ESQUIZOFRÊNICO) Ano.2  \\\n",
       "0  https://www.correiodopovo.com.br/blogs/cinecp/...  2009   \n",
       "1  https://www.correiodopovo.com.br/not%C3%ADcias...  2010   \n",
       "2  https://www.correiodopovo.com.br/blogs/cinecp/...  2011   \n",
       "3  https://www.correiodopovo.com.br/not%C3%ADcias...  2012   \n",
       "4  https://www.correiodopovo.com.br/arteagenda/xa...  2012   \n",
       "\n",
       "                              Links (ESQUIZOFRÊNICA) Ano.3  \\\n",
       "0  https://www.correiodopovo.com.br/not%C3%ADcias...  2012   \n",
       "1  https://www.correiodopovo.com.br/arteagenda/mu...  2015   \n",
       "2  https://www.correiodopovo.com.br/not%C3%ADcias...  2017   \n",
       "3  https://www.correiodopovo.com.br/arteagenda/di...  2017   \n",
       "4  https://www.correiodopovo.com.br/blogs/cinecp/...  2017   \n",
       "\n",
       "                             Links (ESQUIZOFRÊNICOS)   Ano.4  \\\n",
       "0  https://www.correiodopovo.com.br/blogs/pitlane...  2010.0   \n",
       "1  https://www.correiodopovo.com.br/not%C3%ADcias...  2010.0   \n",
       "2  https://www.correiodopovo.com.br/not%C3%ADcias...  2011.0   \n",
       "3  https://www.correiodopovo.com.br/blogs/juremir...  2013.0   \n",
       "4  https://www.correiodopovo.com.br/not%C3%ADcias...  2016.0   \n",
       "\n",
       "                             Links (ESQUIZOFRÊNICAS)  Unnamed: 10     \n",
       "0  https://www.correiodopovo.com.br/blogs/juremir...          NaN     \n",
       "1  https://www.correiodopovo.com.br/not%C3%ADcias...          NaN     \n",
       "2  https://www.correiodopovo.com.br/blogs/juremir...          NaN     \n",
       "3  https://www.correiodopovo.com.br/arteagenda/al...          NaN     \n",
       "4  https://www.correiodopovo.com.br/blogs/oscarbe...          NaN     "
      ]
     },
     "execution_count": 16,
     "metadata": {},
     "output_type": "execute_result"
    }
   ],
   "source": [
    "df.head()"
   ]
  },
  {
   "cell_type": "code",
   "execution_count": 17,
   "id": "bca03a49-07b0-41fb-bf6a-1c9339febe0e",
   "metadata": {},
   "outputs": [
    {
     "data": {
      "text/plain": [
       "Index(['Ano', 'Links (ESQUIZOFRENIA)', 'Ano.1', 'Links (ESQUIZOFRÊNICO)',\n",
       "       'Ano.2', 'Links (ESQUIZOFRÊNICA)', 'Ano.3', 'Links (ESQUIZOFRÊNICOS)',\n",
       "       'Ano.4', 'Links (ESQUIZOFRÊNICAS)', 'Unnamed: 10', ' '],\n",
       "      dtype='object')"
      ]
     },
     "execution_count": 17,
     "metadata": {},
     "output_type": "execute_result"
    }
   ],
   "source": [
    "df.columns"
   ]
  },
  {
   "cell_type": "code",
   "execution_count": 18,
   "id": "8928c27e-1d02-4eb0-9b2b-b0696d0f737e",
   "metadata": {},
   "outputs": [],
   "source": [
    "df1 = df[[\"Ano\", \"Links (ESQUIZOFRENIA)\"]].dropna()\n",
    "df2 = df[[\"Ano.1\", \"Links (ESQUIZOFRÊNICO)\"]].dropna()\n",
    "df3 = df[[\"Ano.2\", \"Links (ESQUIZOFRÊNICA)\"]].dropna()\n",
    "df4 = df[[\"Ano.3\", \"Links (ESQUIZOFRÊNICOS)\"]].dropna()\n",
    "df5 = df[[\"Ano.4\", \"Links (ESQUIZOFRÊNICAS)\"]].dropna()"
   ]
  },
  {
   "cell_type": "code",
   "execution_count": 19,
   "id": "9acfe5ae-60e2-44c8-bcca-fefb2272282f",
   "metadata": {},
   "outputs": [],
   "source": [
    "df1[\"nome\"] = \"esquizofrenia\"\n",
    "df2[\"nome\"] = \"esquizofrenico\"\n",
    "df3[\"nome\"] = \"esquizofrenica\"\n",
    "df4[\"nome\"] = \"esquizofrenicos\"\n",
    "df5[\"nome\"] = \"esquizofrenicas\""
   ]
  },
  {
   "cell_type": "code",
   "execution_count": 20,
   "id": "7e77b993-0198-4ade-bdb6-0626aec821ca",
   "metadata": {},
   "outputs": [],
   "source": [
    "colunas = [\"ano\", \"links\", \"nome\"]\n",
    "\n",
    "df1.columns = colunas \n",
    "df2.columns = colunas \n",
    "df3.columns = colunas \n",
    "df4.columns = colunas \n",
    "df5.columns = colunas"
   ]
  },
  {
   "cell_type": "code",
   "execution_count": 21,
   "id": "9221d53c-4867-44fd-8c21-fce7092e17fc",
   "metadata": {},
   "outputs": [],
   "source": [
    "df_final = pd.concat([df1, df2, df3, df4, df5], axis = 0)"
   ]
  },
  {
   "cell_type": "code",
   "execution_count": 22,
   "id": "a77f87b0-19ea-4c6e-adf4-12935a0cbdf5",
   "metadata": {},
   "outputs": [],
   "source": [
    "df_final[\"ano\"] = df_final.ano.apply(int)"
   ]
  },
  {
   "cell_type": "code",
   "execution_count": 25,
   "id": "1ef7d3ce-1284-49b7-a298-2104a9275c64",
   "metadata": {},
   "outputs": [
    {
     "data": {
      "text/plain": [
       "2015    36\n",
       "2017    19\n",
       "2022    18\n",
       "2014    16\n",
       "2012    15\n",
       "2010    14\n",
       "2019    14\n",
       "2020    11\n",
       "2011    10\n",
       "2013     9\n",
       "2016     9\n",
       "2018     9\n",
       "2021     6\n",
       "2009     3\n",
       "Name: ano, dtype: int64"
      ]
     },
     "execution_count": 25,
     "metadata": {},
     "output_type": "execute_result"
    }
   ],
   "source": [
    "df_final.ano.value_counts()"
   ]
  },
  {
   "cell_type": "code",
   "execution_count": 26,
   "id": "a54d9a6b-e946-4ccd-8330-132ace28f319",
   "metadata": {},
   "outputs": [],
   "source": [
    "df_final.to_csv(\"links_correio_do_povo_organizado.csv\", index = False)"
   ]
  },
  {
   "cell_type": "code",
   "execution_count": 18,
   "id": "a9ddb946-3190-4cc6-811b-52511e05e649",
   "metadata": {},
   "outputs": [
    {
     "data": {
      "text/plain": [
       "'https://www.correiodopovo.com.br/not%C3%ADcias/pol%C3%ADtica/dilma-defende-o-pmdb-de-olho-em-alian%C3%A7a-em-2010-1.1773'"
      ]
     },
     "execution_count": 18,
     "metadata": {},
     "output_type": "execute_result"
    }
   ],
   "source": [
    "df_final.links.values[0]"
   ]
  },
  {
   "cell_type": "code",
   "execution_count": 27,
   "id": "bed800d1-2fd5-4845-b243-e07105faa8c0",
   "metadata": {},
   "outputs": [
    {
     "data": {
      "text/plain": [
       "(189, 3)"
      ]
     },
     "execution_count": 27,
     "metadata": {},
     "output_type": "execute_result"
    }
   ],
   "source": [
    "df_final.shape"
   ]
  },
  {
   "cell_type": "code",
   "execution_count": null,
   "id": "45e56fe5",
   "metadata": {},
   "outputs": [],
   "source": []
  }
 ],
 "metadata": {
  "kernelspec": {
   "display_name": "Python 3",
   "language": "python",
   "name": "python3"
  },
  "language_info": {
   "codemirror_mode": {
    "name": "ipython",
    "version": 3
   },
   "file_extension": ".py",
   "mimetype": "text/x-python",
   "name": "python",
   "nbconvert_exporter": "python",
   "pygments_lexer": "ipython3",
   "version": "3.10.4"
  },
  "vscode": {
   "interpreter": {
    "hash": "2ad2ee33b41c9e762ad5bf2f0a3cb009dc3eaf5b09d1ee5fae31ac4a948dfd78"
   }
  }
 },
 "nbformat": 4,
 "nbformat_minor": 5
}
