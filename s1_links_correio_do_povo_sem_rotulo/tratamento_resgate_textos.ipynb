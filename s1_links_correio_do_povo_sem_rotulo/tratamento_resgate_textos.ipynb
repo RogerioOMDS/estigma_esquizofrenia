{
 "cells": [
  {
   "cell_type": "code",
   "execution_count": 1,
   "id": "592842d2",
   "metadata": {
    "id": "57b7d6da-9d11-4922-84ca-b0261899a7f9"
   },
   "outputs": [],
   "source": [
    "import pandas as pd\n",
    "import numpy as np\n",
    "import urllib\n",
    "import requests\n",
    "from bs4 import BeautifulSoup\n",
    "import os\n",
    "from time import sleep\n",
    "from urllib.request import Request, urlopen\n",
    "from urllib.error import URLError, HTTPError"
   ]
  },
  {
   "cell_type": "code",
   "execution_count": 2,
   "id": "264d5884",
   "metadata": {
    "id": "594aeb9b-d319-46f1-939b-17d628f2ed7b",
    "outputId": "793d8634-1737-4774-8041-3495148aa69b"
   },
   "outputs": [
    {
     "data": {
      "text/plain": [
       "(189, 3)"
      ]
     },
     "execution_count": 2,
     "metadata": {},
     "output_type": "execute_result"
    }
   ],
   "source": [
    "df = pd.read_csv(\"links_correio_do_povo_organizado.csv\")\n",
    "df.shape\n"
   ]
  },
  {
   "cell_type": "code",
   "execution_count": 3,
   "id": "15aa2de5",
   "metadata": {},
   "outputs": [
    {
     "data": {
      "text/html": [
       "<div>\n",
       "<style scoped>\n",
       "    .dataframe tbody tr th:only-of-type {\n",
       "        vertical-align: middle;\n",
       "    }\n",
       "\n",
       "    .dataframe tbody tr th {\n",
       "        vertical-align: top;\n",
       "    }\n",
       "\n",
       "    .dataframe thead th {\n",
       "        text-align: right;\n",
       "    }\n",
       "</style>\n",
       "<table border=\"1\" class=\"dataframe\">\n",
       "  <thead>\n",
       "    <tr style=\"text-align: right;\">\n",
       "      <th></th>\n",
       "      <th>ano</th>\n",
       "      <th>links</th>\n",
       "      <th>nome</th>\n",
       "    </tr>\n",
       "  </thead>\n",
       "  <tbody>\n",
       "    <tr>\n",
       "      <th>0</th>\n",
       "      <td>2009</td>\n",
       "      <td>https://www.correiodopovo.com.br/not%C3%ADcias...</td>\n",
       "      <td>esquizofrenia</td>\n",
       "    </tr>\n",
       "    <tr>\n",
       "      <th>1</th>\n",
       "      <td>2010</td>\n",
       "      <td>https://www.correiodopovo.com.br/not%C3%ADcias...</td>\n",
       "      <td>esquizofrenia</td>\n",
       "    </tr>\n",
       "    <tr>\n",
       "      <th>2</th>\n",
       "      <td>2010</td>\n",
       "      <td>https://www.correiodopovo.com.br/not%C3%ADcias...</td>\n",
       "      <td>esquizofrenia</td>\n",
       "    </tr>\n",
       "    <tr>\n",
       "      <th>3</th>\n",
       "      <td>2010</td>\n",
       "      <td>https://www.correiodopovo.com.br/not%C3%ADcias...</td>\n",
       "      <td>esquizofrenia</td>\n",
       "    </tr>\n",
       "    <tr>\n",
       "      <th>4</th>\n",
       "      <td>2010</td>\n",
       "      <td>https://www.correiodopovo.com.br/not%C3%ADcias...</td>\n",
       "      <td>esquizofrenia</td>\n",
       "    </tr>\n",
       "  </tbody>\n",
       "</table>\n",
       "</div>"
      ],
      "text/plain": [
       "    ano                                              links           nome\n",
       "0  2009  https://www.correiodopovo.com.br/not%C3%ADcias...  esquizofrenia\n",
       "1  2010  https://www.correiodopovo.com.br/not%C3%ADcias...  esquizofrenia\n",
       "2  2010  https://www.correiodopovo.com.br/not%C3%ADcias...  esquizofrenia\n",
       "3  2010  https://www.correiodopovo.com.br/not%C3%ADcias...  esquizofrenia\n",
       "4  2010  https://www.correiodopovo.com.br/not%C3%ADcias...  esquizofrenia"
      ]
     },
     "execution_count": 3,
     "metadata": {},
     "output_type": "execute_result"
    }
   ],
   "source": [
    "df.head()"
   ]
  },
  {
   "cell_type": "code",
   "execution_count": 4,
   "id": "c3afe71b",
   "metadata": {
    "id": "3b9d1a76-ad92-49a2-bb3c-d19c80508bf0"
   },
   "outputs": [],
   "source": [
    "import spacy\n",
    "nlp = spacy.load(\"pt_core_news_sm\")"
   ]
  },
  {
   "cell_type": "code",
   "execution_count": 5,
   "id": "8583b834",
   "metadata": {},
   "outputs": [],
   "source": [
    "import time"
   ]
  },
  {
   "cell_type": "code",
   "execution_count": 6,
   "id": "72c71488",
   "metadata": {
    "id": "15d797c0-18b3-455f-95ac-488546cba0b8"
   },
   "outputs": [],
   "source": [
    "def limpa_paragrafos(link, tamanho):\n",
    "    \n",
    "    headers = {\"User-Agent\": \"Mozilla/5.0 (Windows NT 10.0; Win64; x64) AppleWebKit/537.36 (KHTML, like Gecko) Chrome/91.0.4472.77 Safari/537.36\"}\n",
    "    try:\n",
    "        req = Request(link, headers = headers)\n",
    "        response = urlopen(req)\n",
    "       \n",
    "    except HTTPError as e: # erro de segurança do site, pode ser necessário usar user-Agent\n",
    "        print(e.status, e.reason)\n",
    "\n",
    "    except URLError as e:\n",
    "        print(e.reason)\n",
    "    \n",
    "#     html = urllib.request.urlopen(link).read()\n",
    "    html = response.read()\n",
    "    soup = BeautifulSoup(html)\n",
    "\n",
    "    for script in soup([\"script\", \"style\"]):\n",
    "        script.decompose()\n",
    "\n",
    "    lista = []\n",
    "    for i in soup.stripped_strings:\n",
    "        lista.append(i)\n",
    "    \n",
    "#     print(lista)\n",
    "\n",
    "    miolo = []\n",
    "    for i in lista:\n",
    "        if len(i) > tamanho:\n",
    "            miolo.append(i.replace('\\r\\n',''))\n",
    "#             print(miolo)\n",
    "\n",
    "    paragrafos = []\n",
    "    for i in range(len(miolo)):\n",
    "        if 'esquizo' in miolo[i]:\n",
    "            paragrafos.append(miolo[i])\n",
    "    \n",
    "    time.sleep(1)\n",
    "    \n",
    "#     for i in range(len(paragrafos)):\n",
    "#         lista_final = []\n",
    "#         doc = nlp(paragrafos[i].lower())\n",
    "#         for token in doc:\n",
    "#             valido = not token.is_stop and token.is_alpha\n",
    "# #             valido = token.is_stop\n",
    "#             if valido:\n",
    "#                 lista_final.append(token.text)\n",
    "    \n",
    "#         limpo = ' '.join(lista_final)\n",
    "#         paragrafos[i] = limpo\n",
    "#         time.sleep(1)\n",
    "\n",
    "    return paragrafos, miolo"
   ]
  },
  {
   "cell_type": "code",
   "execution_count": 7,
   "id": "22b7e3a4",
   "metadata": {
    "id": "236b1f16-a1c1-4c2e-893b-d874847a7659",
    "outputId": "b956449f-43ec-4171-9a32-384765043415"
   },
   "outputs": [
    {
     "data": {
      "text/plain": [
       "'https://www.correiodopovo.com.br/not%C3%ADcias/pol%C3%ADcia/m%C3%A3e-de-atirador-era-esquizofr%C3%AAnica-diz-secret%C3%A1rio-de-assist%C3%AAncia-social-1.59054'"
      ]
     },
     "execution_count": 7,
     "metadata": {},
     "output_type": "execute_result"
    }
   ],
   "source": [
    "link = df.links.values[15]\n",
    "link"
   ]
  },
  {
   "cell_type": "code",
   "execution_count": 8,
   "id": "233bc174",
   "metadata": {
    "id": "99dbca83-f9e8-434b-a886-400a58441995"
   },
   "outputs": [],
   "source": [
    "paragrafos, miolo = limpa_paragrafos(link, 70)"
   ]
  },
  {
   "cell_type": "code",
   "execution_count": 9,
   "id": "67f80503",
   "metadata": {
    "id": "89eedadf-f34d-476e-8d16-6b4045a15650",
    "outputId": "2ecd2f6d-b03d-49d3-97e4-701dba034b0a"
   },
   "outputs": [
    {
     "data": {
      "text/plain": [
       "\"['Mãe de atirador era esquizofrênica, diz secretário de Assistência Social', 'Mãe de atirador era esquizofrênica, diz secretário de Assistência Social', ', feriu pelo menos 13 e depois se suicidou, na manhã desta quinta-feira, na Escola Municipal Tasso da Silveira, em Realengo, zona Oeste do Rio de Janeiro - sofria de esquizofrenia, segundo o secretário estadual de Assistência Social e Direitos Humanos, Rodrigo Neves. No entanto, Wellington não apresentou qualquer sinal de desequilíbrio mental no período em que estudou na escola, entre 1999 e 2002.']\""
      ]
     },
     "execution_count": 9,
     "metadata": {},
     "output_type": "execute_result"
    }
   ],
   "source": [
    "str(paragrafos)"
   ]
  },
  {
   "cell_type": "code",
   "execution_count": 10,
   "id": "fd77a6be",
   "metadata": {},
   "outputs": [
    {
     "data": {
      "text/plain": [
       "\"['Mãe de atirador era esquizofrênica, diz secretário de Assistência Social', 'Mãe de atirador era esquizofrênica, diz secretário de Assistência Social', 'Rodrigo Neves afirma que Wellington Menezes de Oliveira não apresentava sinais de desequilíbrio mental', '07/04/2011 | 17:18\\\\n                    \\\\n          \\\\n          Atualizado\\\\n                    17:49', ', feriu pelo menos 13 e depois se suicidou, na manhã desta quinta-feira, na Escola Municipal Tasso da Silveira, em Realengo, zona Oeste do Rio de Janeiro - sofria de esquizofrenia, segundo o secretário estadual de Assistência Social e Direitos Humanos, Rodrigo Neves. No entanto, Wellington não apresentou qualquer sinal de desequilíbrio mental no período em que estudou na escola, entre 1999 e 2002.', '“O que espanta de fato é ele ter direcionado a sua ação para as crianças”, disse Neves, que esteve na escola. A Polícia Civil do Rio já sabe que Wellington vivia sozinho, nos últimos meses, em Sepetiba, na região metropolitana. Antes, morou com sua família adotiva em Realengo.', 'O sargento da Polícia Militar Márcio Alves, que foi chamado para ir a escola por duas crianças feridas durante o ataque, contou que Wellington tinha', '. “Eram coisas desconexas. Não entendi nada do que estava escrito”, afirmou o comandante do 14º Batalhão da Polícia Militar, Djalma Beltrami, para quem Alves entregou o texto. “Em 26 anos de corporação, nunca tinha visto nada parecido.”', 'A carta foi encaminhada à Delegacia de Homicídios junto com as armas usadas pelo atirador.']\""
      ]
     },
     "execution_count": 10,
     "metadata": {},
     "output_type": "execute_result"
    }
   ],
   "source": [
    "str(miolo)"
   ]
  },
  {
   "cell_type": "code",
   "execution_count": 11,
   "id": "7c6014e2",
   "metadata": {},
   "outputs": [
    {
     "data": {
      "text/plain": [
       "'https://www.correiodopovo.com.br/not%C3%ADcias/pol%C3%ADcia/cl%C3%ADnica-investigada-por-maus-tratos-%C3%A9-proibida-de-atender-adolescentes-1.46934'"
      ]
     },
     "execution_count": 11,
     "metadata": {},
     "output_type": "execute_result"
    }
   ],
   "source": [
    "df.links.iloc[1]"
   ]
  },
  {
   "cell_type": "code",
   "execution_count": 12,
   "id": "3fb59a9c",
   "metadata": {},
   "outputs": [],
   "source": [
    "n_links = df.shape[0]"
   ]
  },
  {
   "cell_type": "code",
   "execution_count": 14,
   "id": "f9ad1a3b",
   "metadata": {},
   "outputs": [],
   "source": [
    "for i in range(n_links):\n",
    "    link = df.links.iloc[i]\n",
    "    paragrafos, miolo = limpa_paragrafos(link, 70)\n",
    "    df.loc[i, \"paragrafos_resgatados\"] = str(paragrafos)\n",
    "    df.loc[i, \"texto_completo\"] = str(miolo)"
   ]
  },
  {
   "cell_type": "code",
   "execution_count": 15,
   "id": "d74f4e27",
   "metadata": {},
   "outputs": [
    {
     "data": {
      "text/html": [
       "<div>\n",
       "<style scoped>\n",
       "    .dataframe tbody tr th:only-of-type {\n",
       "        vertical-align: middle;\n",
       "    }\n",
       "\n",
       "    .dataframe tbody tr th {\n",
       "        vertical-align: top;\n",
       "    }\n",
       "\n",
       "    .dataframe thead th {\n",
       "        text-align: right;\n",
       "    }\n",
       "</style>\n",
       "<table border=\"1\" class=\"dataframe\">\n",
       "  <thead>\n",
       "    <tr style=\"text-align: right;\">\n",
       "      <th></th>\n",
       "      <th>ano</th>\n",
       "      <th>links</th>\n",
       "      <th>nome</th>\n",
       "      <th>paragrafos_resgatados</th>\n",
       "      <th>texto_completo</th>\n",
       "    </tr>\n",
       "  </thead>\n",
       "  <tbody>\n",
       "    <tr>\n",
       "      <th>23</th>\n",
       "      <td>2012</td>\n",
       "      <td>https://www.correiodopovo.com.br/not%C3%ADcias...</td>\n",
       "      <td>esquizofrenia</td>\n",
       "      <td>[]</td>\n",
       "      <td>['14/04/2012 | 16:46\\n                    \\n  ...</td>\n",
       "    </tr>\n",
       "    <tr>\n",
       "      <th>35</th>\n",
       "      <td>2014</td>\n",
       "      <td>https://www.correiodopovo.com.br/not%C3%ADcias...</td>\n",
       "      <td>esquizofrenia</td>\n",
       "      <td>[]</td>\n",
       "      <td>['01/04/2014 | 10:17\\n                    \\n  ...</td>\n",
       "    </tr>\n",
       "    <tr>\n",
       "      <th>125</th>\n",
       "      <td>2022</td>\n",
       "      <td>https://www.correiodopovo.com.br/not%C3%ADcias...</td>\n",
       "      <td>esquizofrenia</td>\n",
       "      <td>[]</td>\n",
       "      <td>['Comissão da Câmara aprova prisão a quem toca...</td>\n",
       "    </tr>\n",
       "    <tr>\n",
       "      <th>126</th>\n",
       "      <td>2022</td>\n",
       "      <td>https://www.correiodopovo.com.br/not%C3%ADcias...</td>\n",
       "      <td>esquizofrenia</td>\n",
       "      <td>[]</td>\n",
       "      <td>['Justiça nega pedido de prisão de policiais e...</td>\n",
       "    </tr>\n",
       "    <tr>\n",
       "      <th>144</th>\n",
       "      <td>2013</td>\n",
       "      <td>https://www.correiodopovo.com.br/blogs/juremir...</td>\n",
       "      <td>esquizofrenico</td>\n",
       "      <td>[]</td>\n",
       "      <td>['Fico com a impressão de que quem acha \"norma...</td>\n",
       "    </tr>\n",
       "    <tr>\n",
       "      <th>176</th>\n",
       "      <td>2020</td>\n",
       "      <td>https://www.correiodopovo.com.br/blogs/hiltorm...</td>\n",
       "      <td>esquizofrenica</td>\n",
       "      <td>[]</td>\n",
       "      <td>['\"Continua o show do BBB. Uma casa de quarent...</td>\n",
       "    </tr>\n",
       "    <tr>\n",
       "      <th>183</th>\n",
       "      <td>2010</td>\n",
       "      <td>https://www.correiodopovo.com.br/blogs/juremir...</td>\n",
       "      <td>esquizofrenicas</td>\n",
       "      <td>[]</td>\n",
       "      <td>['Mas o Rio Grande do Sul não precisava ter re...</td>\n",
       "    </tr>\n",
       "  </tbody>\n",
       "</table>\n",
       "</div>"
      ],
      "text/plain": [
       "      ano                                              links             nome  \\\n",
       "23   2012  https://www.correiodopovo.com.br/not%C3%ADcias...    esquizofrenia   \n",
       "35   2014  https://www.correiodopovo.com.br/not%C3%ADcias...    esquizofrenia   \n",
       "125  2022  https://www.correiodopovo.com.br/not%C3%ADcias...    esquizofrenia   \n",
       "126  2022  https://www.correiodopovo.com.br/not%C3%ADcias...    esquizofrenia   \n",
       "144  2013  https://www.correiodopovo.com.br/blogs/juremir...   esquizofrenico   \n",
       "176  2020  https://www.correiodopovo.com.br/blogs/hiltorm...   esquizofrenica   \n",
       "183  2010  https://www.correiodopovo.com.br/blogs/juremir...  esquizofrenicas   \n",
       "\n",
       "    paragrafos_resgatados                                     texto_completo  \n",
       "23                     []  ['14/04/2012 | 16:46\\n                    \\n  ...  \n",
       "35                     []  ['01/04/2014 | 10:17\\n                    \\n  ...  \n",
       "125                    []  ['Comissão da Câmara aprova prisão a quem toca...  \n",
       "126                    []  ['Justiça nega pedido de prisão de policiais e...  \n",
       "144                    []  ['Fico com a impressão de que quem acha \"norma...  \n",
       "176                    []  ['\"Continua o show do BBB. Uma casa de quarent...  \n",
       "183                    []  ['Mas o Rio Grande do Sul não precisava ter re...  "
      ]
     },
     "execution_count": 15,
     "metadata": {},
     "output_type": "execute_result"
    }
   ],
   "source": [
    "t = df.query(\"paragrafos_resgatados == '[]'\")\n",
    "t"
   ]
  },
  {
   "cell_type": "code",
   "execution_count": 16,
   "id": "eeaf3e0c",
   "metadata": {},
   "outputs": [
    {
     "data": {
      "text/plain": [
       "array(['https://www.correiodopovo.com.br/not%C3%ADcias/pol%C3%ADcia/restos-mortais-de-v%C3%ADtimas-de-canibalismo-s%C3%A3o-enterrados-em-pe-1.89468',\n",
       "       'https://www.correiodopovo.com.br/not%C3%ADcias/geral/anvisa-suspende-com%C3%A9rcio-de-lotes-de-rem%C3%A9dio-para-esquizofrenia-1.140120',\n",
       "       'https://www.correiodopovo.com.br/not%C3%ADcias/pol%C3%ADtica/comiss%C3%A3o-da-c%C3%A2mara-aprova-pris%C3%A3o-a-quem-tocar-em-policial-durante-abordagem-1.839800',\n",
       "       'https://www.correiodopovo.com.br/not%C3%ADcias/geral/justi%C3%A7a-nega-pedido-de-pris%C3%A3o-de-policiais-envolvidos-na-morte-de-genivaldo-1.839397',\n",
       "       'https://www.correiodopovo.com.br/blogs/juremirmachado/dilma-furiosa-na-onu-e-psb-fervendo-no-rs-1.550',\n",
       "       'https://www.correiodopovo.com.br/blogs/hiltormombach/eles-vivem-em-outro-planeta-1.409755',\n",
       "       'https://www.correiodopovo.com.br/blogs/juremirmachado/votos-que-valem-mais-1.287780'],\n",
       "      dtype=object)"
      ]
     },
     "execution_count": 16,
     "metadata": {},
     "output_type": "execute_result"
    }
   ],
   "source": [
    "t.links.values "
   ]
  },
  {
   "cell_type": "code",
   "execution_count": 17,
   "id": "b79e7360",
   "metadata": {},
   "outputs": [],
   "source": [
    "# os links que não funcionaram são apenas TÍTULOS, ou trechos que contém menos de 120 caracteres"
   ]
  },
  {
   "cell_type": "code",
   "execution_count": 18,
   "id": "87d5777e",
   "metadata": {},
   "outputs": [],
   "source": [
    "df[\"indice\"] = [x for x in range(df.shape[0])]"
   ]
  },
  {
   "cell_type": "code",
   "execution_count": 19,
   "id": "e78f8547",
   "metadata": {},
   "outputs": [],
   "source": [
    "df.to_csv(\"links_correio_do_povo_organizado_paragrafos_resgatados.csv\", index = False)"
   ]
  },
  {
   "cell_type": "code",
   "execution_count": 20,
   "id": "0857a151",
   "metadata": {},
   "outputs": [],
   "source": [
    "t.to_csv(\"links_correio_do_povo_organizado_paragrafos_resgatados_sem_texto_descartar.csv\", index = False)"
   ]
  },
  {
   "cell_type": "code",
   "execution_count": null,
   "id": "fcb80671",
   "metadata": {},
   "outputs": [],
   "source": []
  }
 ],
 "metadata": {
  "colab": {
   "name": "tratamento_word2vec.ipynb",
   "provenance": []
  },
  "kernelspec": {
   "display_name": "Python 3.10.4 64-bit",
   "language": "python",
   "name": "python3"
  },
  "language_info": {
   "codemirror_mode": {
    "name": "ipython",
    "version": 3
   },
   "file_extension": ".py",
   "mimetype": "text/x-python",
   "name": "python",
   "nbconvert_exporter": "python",
   "pygments_lexer": "ipython3",
   "version": "3.10.4"
  },
  "vscode": {
   "interpreter": {
    "hash": "2ad2ee33b41c9e762ad5bf2f0a3cb009dc3eaf5b09d1ee5fae31ac4a948dfd78"
   }
  }
 },
 "nbformat": 4,
 "nbformat_minor": 5
}
