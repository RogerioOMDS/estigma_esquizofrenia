{
 "cells": [
  {
   "cell_type": "code",
   "execution_count": 1,
   "id": "592842d2",
   "metadata": {
    "id": "57b7d6da-9d11-4922-84ca-b0261899a7f9"
   },
   "outputs": [],
   "source": [
    "import pandas as pd\n",
    "import numpy as np\n",
    "import urllib\n",
    "import requests\n",
    "from bs4 import BeautifulSoup\n",
    "import os\n",
    "from time import sleep\n",
    "import time\n",
    "from urllib.request import Request, urlopen\n",
    "from urllib.error import URLError, HTTPError\n",
    "import random "
   ]
  },
  {
   "cell_type": "code",
   "execution_count": 2,
   "id": "c3afe71b",
   "metadata": {
    "id": "3b9d1a76-ad92-49a2-bb3c-d19c80508bf0"
   },
   "outputs": [
    {
     "name": "stderr",
     "output_type": "stream",
     "text": [
      "c:\\Users\\r-omd\\.conda\\envs\\tf-venv39\\lib\\site-packages\\thinc\\compat.py:36: UserWarning: 'has_mps' is deprecated, please use 'torch.backends.mps.is_built()'\n",
      "  hasattr(torch, \"has_mps\")\n",
      "c:\\Users\\r-omd\\.conda\\envs\\tf-venv39\\lib\\site-packages\\thinc\\compat.py:37: UserWarning: 'has_mps' is deprecated, please use 'torch.backends.mps.is_built()'\n",
      "  and torch.has_mps  # type: ignore[attr-defined]\n",
      "c:\\Users\\r-omd\\.conda\\envs\\tf-venv39\\lib\\site-packages\\tqdm\\auto.py:22: TqdmWarning: IProgress not found. Please update jupyter and ipywidgets. See https://ipywidgets.readthedocs.io/en/stable/user_install.html\n",
      "  from .autonotebook import tqdm as notebook_tqdm\n"
     ]
    }
   ],
   "source": [
    "import spacy\n",
    "nlp = spacy.load(\"pt_core_news_sm\")"
   ]
  },
  {
   "cell_type": "code",
   "execution_count": 48,
   "id": "264d5884",
   "metadata": {
    "id": "594aeb9b-d319-46f1-939b-17d628f2ed7b",
    "outputId": "793d8634-1737-4774-8041-3495148aa69b"
   },
   "outputs": [
    {
     "data": {
      "text/plain": [
       "(110, 2)"
      ]
     },
     "execution_count": 48,
     "metadata": {},
     "output_type": "execute_result"
    }
   ],
   "source": [
    "base_inicial = \"links_folha_04_2024.csv\"\n",
    "# base_inicial = \"links_estadao_04_2024.csv\"\n",
    "# base_inicial = \"links_correio_04_2024.csv\"\n",
    "\n",
    "df = pd.read_csv(base_inicial)\n",
    "df = df.reset_index()\n",
    "df.columns = [\"n\",\"links\"]\n",
    "df.shape\n"
   ]
  },
  {
   "cell_type": "code",
   "execution_count": 49,
   "id": "bb8301b6",
   "metadata": {},
   "outputs": [
    {
     "data": {
      "text/html": [
       "<div>\n",
       "<style scoped>\n",
       "    .dataframe tbody tr th:only-of-type {\n",
       "        vertical-align: middle;\n",
       "    }\n",
       "\n",
       "    .dataframe tbody tr th {\n",
       "        vertical-align: top;\n",
       "    }\n",
       "\n",
       "    .dataframe thead th {\n",
       "        text-align: right;\n",
       "    }\n",
       "</style>\n",
       "<table border=\"1\" class=\"dataframe\">\n",
       "  <thead>\n",
       "    <tr style=\"text-align: right;\">\n",
       "      <th></th>\n",
       "      <th>n</th>\n",
       "      <th>links</th>\n",
       "    </tr>\n",
       "  </thead>\n",
       "  <tbody>\n",
       "    <tr>\n",
       "      <th>0</th>\n",
       "      <td>0</td>\n",
       "      <td>https://www1.folha.uol.com.br/blogs/saude-ment...</td>\n",
       "    </tr>\n",
       "    <tr>\n",
       "      <th>1</th>\n",
       "      <td>1</td>\n",
       "      <td>https://www1.folha.uol.com.br/cotidiano/2024/0...</td>\n",
       "    </tr>\n",
       "    <tr>\n",
       "      <th>2</th>\n",
       "      <td>2</td>\n",
       "      <td>https://www1.folha.uol.com.br/equilibrioesaude...</td>\n",
       "    </tr>\n",
       "    <tr>\n",
       "      <th>3</th>\n",
       "      <td>3</td>\n",
       "      <td>https://www1.folha.uol.com.br/ciencia/2023/12/...</td>\n",
       "    </tr>\n",
       "    <tr>\n",
       "      <th>4</th>\n",
       "      <td>4</td>\n",
       "      <td>https://www1.folha.uol.com.br/equilibrioesaude...</td>\n",
       "    </tr>\n",
       "  </tbody>\n",
       "</table>\n",
       "</div>"
      ],
      "text/plain": [
       "   n                                              links\n",
       "0  0  https://www1.folha.uol.com.br/blogs/saude-ment...\n",
       "1  1  https://www1.folha.uol.com.br/cotidiano/2024/0...\n",
       "2  2  https://www1.folha.uol.com.br/equilibrioesaude...\n",
       "3  3  https://www1.folha.uol.com.br/ciencia/2023/12/...\n",
       "4  4  https://www1.folha.uol.com.br/equilibrioesaude..."
      ]
     },
     "execution_count": 49,
     "metadata": {},
     "output_type": "execute_result"
    }
   ],
   "source": [
    "df.head()"
   ]
  },
  {
   "cell_type": "code",
   "execution_count": 50,
   "id": "72c71488",
   "metadata": {
    "id": "15d797c0-18b3-455f-95ac-488546cba0b8"
   },
   "outputs": [],
   "source": [
    "def limpa_paragrafos(link, tamanho):\n",
    "    \n",
    "    headers = {\"User-Agent\": \"Mozilla/5.0 (Windows NT 10.0; Win64; x64) AppleWebKit/537.36 (KHTML, like Gecko) Chrome/91.0.4472.77 Safari/537.36\"}\n",
    "    try:\n",
    "        req = Request(link, headers = headers)\n",
    "        response = urlopen(req)\n",
    "       \n",
    "    except HTTPError as e: # erro de segurança do site, pode ser necessário usar user-Agent\n",
    "        print(e.status, e.reason)\n",
    "        return [\"404_nao_encontrado\"]\n",
    "\n",
    "    except URLError as e:\n",
    "        print(e.reason)\n",
    "        return [\"404_nao_encontrado\"]\n",
    "\n",
    "    t = random.randint(1, 10)\n",
    "    # time.sleep(t)\n",
    "    \n",
    "#     html = urllib.request.urlopen(link).read()\n",
    "    html = response.read()\n",
    "    soup = BeautifulSoup(html)\n",
    "\n",
    "    for script in soup([\"script\", \"style\"]):\n",
    "        script.decompose()\n",
    "\n",
    "    lista = []\n",
    "    for i in soup.stripped_strings:\n",
    "        lista.append(i)\n",
    "    \n",
    "#     print(lista)\n",
    "\n",
    "    miolo = []\n",
    "    for i in lista:\n",
    "        if len(i) > tamanho:\n",
    "            miolo.append(i.replace('\\r\\n',''))\n",
    "#             print(miolo)\n",
    "\n",
    "    paragrafos = []\n",
    "    for i in range(len(miolo)):\n",
    "        if 'esquizo' in miolo[i]:\n",
    "            paragrafos.append(miolo[i])\n",
    "    \n",
    "    t = random.randint(1, 10)\n",
    "    time.sleep(t)\n",
    "    \n",
    "#     for i in range(len(paragrafos)):\n",
    "#         lista_final = []\n",
    "#         doc = nlp(paragrafos[i].lower())\n",
    "#         for token in doc:\n",
    "#             valido = not token.is_stop and token.is_alpha\n",
    "# #             valido = token.is_stop\n",
    "#             if valido:\n",
    "#                 lista_final.append(token.text)\n",
    "    \n",
    "#         limpo = ' '.join(lista_final)\n",
    "#         paragrafos[i] = limpo\n",
    "#         time.sleep(1)\n",
    "\n",
    "    return paragrafos, miolo"
   ]
  },
  {
   "cell_type": "code",
   "execution_count": 51,
   "id": "22b7e3a4",
   "metadata": {
    "id": "236b1f16-a1c1-4c2e-893b-d874847a7659",
    "outputId": "b956449f-43ec-4171-9a32-384765043415"
   },
   "outputs": [
    {
     "data": {
      "text/plain": [
       "'https://www1.folha.uol.com.br/blogs/saude-mental/2024/02/entenda-o-que-e-quadro-psicotico-agudo-que-vanessa-lopes-teve-no-bbb24.shtml'"
      ]
     },
     "execution_count": 51,
     "metadata": {},
     "output_type": "execute_result"
    }
   ],
   "source": [
    "link = df.links.values[0]\n",
    "link"
   ]
  },
  {
   "cell_type": "code",
   "execution_count": 52,
   "id": "233bc174",
   "metadata": {
    "id": "99dbca83-f9e8-434b-a886-400a58441995"
   },
   "outputs": [],
   "source": [
    "paragrafos, miolo = limpa_paragrafos(link, 70)"
   ]
  },
  {
   "cell_type": "code",
   "execution_count": 53,
   "id": "67f80503",
   "metadata": {
    "id": "89eedadf-f34d-476e-8d16-6b4045a15650",
    "outputId": "2ecd2f6d-b03d-49d3-97e4-701dba034b0a"
   },
   "outputs": [
    {
     "data": {
      "text/plain": [
       "'[\\'Durante o curso do episódio, afirma o médico, é importante o uso de medicamentos antipsicóticos para estabilização do quadro. \"É importante destacar que muitos casos podem evoluir para diagnósticos definitivos em psiquiatria e necessitar de tratamento crônico, como no caso da esquizofrenia e do transtorno bipolar.\"\\']'"
      ]
     },
     "execution_count": 53,
     "metadata": {},
     "output_type": "execute_result"
    }
   ],
   "source": [
    "str(paragrafos)"
   ]
  },
  {
   "cell_type": "code",
   "execution_count": 54,
   "id": "8ac00f7f",
   "metadata": {},
   "outputs": [
    {
     "data": {
      "text/plain": [
       "'[\\'BBB: Entenda o que é quadro psicótico agudo - 18/02/2024 - Saúde Mental - Folha\\', \\'Sílvia Haidar é jornalista. Blog traz informações, serviços e entrevistas com especialistas sobre saúde mental.\\', \\'Entenda o que é quadro psicótico agudo, que Vanessa Lopes teve no BBB24\\', \\'Episódio é uma emergência psiquiátrica que pode ser causada por transtornos, fatores orgânicos, quadros infecciosos e traumas cerebrais, explica psiquiatra\\', \\', 22, participante do BBB24, desistiu do programa após apresentar confusão mental.\\', \\'Neste domingo (18), ela conta no programa Fantástico, da Globo, que teve um quadro psicótico agudo.\\', \\'O psiquiatra Adilon Harley Machado, da clínica Espaço Arquétipo, explica que o episódio psicótico agudo é uma emergência psiquiátrica caracterizada por alteração da percepção da realidade, desorganização do pensamento e do conteúdo do discurso, podendo se manifestar com delírios e alucinações, agitação psicomotora e perda do juízo crítico.\\', \\'Vanessa Lopes durante depoimento ao Fantástico, neste omingo (18)\\\\n             -\\', \\'\"Um episódio agudo pode marcar o início de um transtorno psicótico, como\\', \\'ou quadros de depressão psicótica, ou ser causado fatores orgânicos, quadros infecciosos, traumas cerebrais ou até mesmo fatores oncológicos,\" diz Machado. \"Ainda devemos considerar na investigação fatores extrínsecos como uso de substâncias químicas, como álcool e outros psicoativos.\"\\', \\'O psiquiatra observa que qualquer pessoa pode desenvolver um episódio psicótico, mas fatores de risco específicos aumentam a incidência consideravelmente, como uso de substâncias, histórico familiar, outra condição psiquiátrica anterior e até mesmo fatores como imigração podem ser desencadeantes.\\', \\'\"É importante ressaltar que os episódios agudos, quando identificados precocemente, têm boa evolução clínica. Quando a origem for orgânica ou por uso de substâncias é imprescindível tratar a causa e interromper o uso dessas substâncias\", afirma Machado.\\', \\'Durante o curso do episódio, afirma o médico, é importante o uso de medicamentos antipsicóticos para estabilização do quadro. \"É importante destacar que muitos casos podem evoluir para diagnósticos definitivos em psiquiatria e necessitar de tratamento crônico, como no caso da esquizofrenia e do transtorno bipolar.\"\\', \\'Para ajudar uma pessoa que está enfrentando esse quadro, o psiquiatra diz que é importante identificar uma mudança súbita de comportamento. \"É fundamental uma rede de apoio fortalecida e o contato mais urgente com profissionais especializados para a investigação clínica diagnóstica, lembrando que em muitos casos pode ser necessária internação hospitalar para observação em segurança da evolução do quadro do paciente\", diz.\\', \\'\"Ressalto que a investigação de um episódio psicótico é minuciosa, requer exames laboratoriais e de imagem, além de uma extensa avaliação clínica, sendo totalmente irresponsável qualquer diagnóstico realizado a partir de recortes extraídos da TV ou internet\", afirma Machado.\\', \\'Síndrome do pânico: psiquiatra explica como são as crises e o tratamento\\', \\'Ansiedade: psiquiatra explica o que é o transtorno e como é o tratamento\\', \\'É possível desmaiar em crise de ansiedade, como mostrou o BBB? Psiquiatra responde\\', \\'Gostou deste texto? Assinante pode liberar cinco acessos gratuitos de qualquer link por dia. Basta clicar no F azul abaixo.\\', \\'Você já conhece as vantagens de ser assinante da Folha?Além de ter acesso a reportagens e colunas, você conta com newsletters exclusivas (\\', \\'para receber alertas das principais notícias do dia.A sua assinatura nos ajuda a fazer um jornalismo independente e de qualidade. Obrigado!\\', \\'Mais de 180 reportagens e análises publicadas a cada dia. Um time com mais de 200 colunistas e blogueiros. Um jornalismo profissional que fiscaliza o poder público, veicula notícias proveitosas e inspiradoras, faz contraponto à intolerância das redes sociais e traça uma linha clara entre verdade e mentira. Quanto custa ajudar a produzir esse conteúdo?\\', \\'https://www1.folha.uol.com.br/blogs/saude-mental/2024/02/entenda-o-que-e-quadro-psicotico-agudo-que-vanessa-lopes-teve-no-bbb24.shtml\\', \\'Os comentários não representam a opinião do jornal; a responsabilidade é do autor da mensagem.\\', \"Djavan lança seu 25º álbum e clipe com versão inédita de \\'Ventos do Norte\\'\", \\'Lula diz que banqueiro e empresário não precisam do Estado, mas querem superávit e empréstimo\\', \\'Presidente afirma que rico paga pouco Imposto de Renda e que precisa governar para quem mais precisa\\', \\'Brasil vai explorar petróleo até ter nível de país desenvolvido, diz ministro de Energia\\', \\'Alexandre Silveira defende à Folha que riquezas naturais não sejam criminalizadas e cobra países ricos\\', \\'Copyright Folha de S.Paulo. Todos os direitos reservados. É proibida a reprodução do conteúdo desta página em qualquer meio de comunicação, eletrônico ou impresso, sem autorização escrita da Folhapress.\\', \\'Empresa Folha da Manhã S.A. - Grupo Folha - Copyright Folha de S.Paulo (1921 - 2023)\\', \\'Folha de S.Paulo é publicado pela Empresa Folha da Manhã S.A. CNPJ: 60.579.703/0001-48\\', \\'Copyright Folha de S.Paulo. Todos os direitos reservados. É proibida a reprodução do conteúdo desta página em qualquer meio de comunicação, eletrônico ou impresso, sem autorização escrita da\\']'"
      ]
     },
     "execution_count": 54,
     "metadata": {},
     "output_type": "execute_result"
    }
   ],
   "source": [
    "str(miolo)"
   ]
  },
  {
   "cell_type": "code",
   "execution_count": 55,
   "id": "7c6014e2",
   "metadata": {},
   "outputs": [
    {
     "data": {
      "text/plain": [
       "'https://www1.folha.uol.com.br/cotidiano/2024/02/justica-da-holanda-manda-brasileiro-preso-com-carne-na-mala-para-tratamento-psiquiatrico.shtml'"
      ]
     },
     "execution_count": 55,
     "metadata": {},
     "output_type": "execute_result"
    }
   ],
   "source": [
    "df.links.iloc[1]"
   ]
  },
  {
   "cell_type": "code",
   "execution_count": 56,
   "id": "3fb59a9c",
   "metadata": {},
   "outputs": [],
   "source": [
    "n_links = df.shape[0]"
   ]
  },
  {
   "cell_type": "code",
   "execution_count": 57,
   "id": "f9ad1a3b",
   "metadata": {},
   "outputs": [
    {
     "name": "stdout",
     "output_type": "stream",
     "text": [
      "Processando 0 de 110...\n",
      "Processando 1 de 110...\n",
      "Processando 2 de 110...\n",
      "Processando 3 de 110...\n",
      "Processando 4 de 110...\n",
      "Processando 5 de 110...\n",
      "Processando 6 de 110...\n",
      "Processando 7 de 110...\n",
      "Processando 8 de 110...\n",
      "Processando 9 de 110...\n",
      "Processando 10 de 110...\n",
      "Processando 11 de 110...\n",
      "Processando 12 de 110...\n",
      "Processando 13 de 110...\n",
      "Processando 14 de 110...\n",
      "Processando 15 de 110...\n",
      "Processando 16 de 110...\n",
      "Processando 17 de 110...\n",
      "Processando 18 de 110...\n",
      "Processando 19 de 110...\n",
      "Processando 20 de 110...\n",
      "Processando 21 de 110...\n",
      "Processando 22 de 110...\n",
      "Processando 23 de 110...\n",
      "Processando 24 de 110...\n",
      "Processando 25 de 110...\n",
      "Processando 26 de 110...\n",
      "Processando 27 de 110...\n",
      "Processando 28 de 110...\n",
      "Processando 29 de 110...\n",
      "Processando 30 de 110...\n",
      "Processando 31 de 110...\n",
      "Processando 32 de 110...\n",
      "Processando 33 de 110...\n",
      "Processando 34 de 110...\n",
      "Processando 35 de 110...\n",
      "Processando 36 de 110...\n",
      "Processando 37 de 110...\n",
      "Processando 38 de 110...\n",
      "Processando 39 de 110...\n",
      "Processando 40 de 110...\n",
      "Processando 41 de 110...\n",
      "Processando 42 de 110...\n",
      "Processando 43 de 110...\n",
      "Processando 44 de 110...\n",
      "Processando 45 de 110...\n",
      "Processando 46 de 110...\n",
      "Processando 47 de 110...\n",
      "Processando 48 de 110...\n",
      "Processando 49 de 110...\n",
      "Processando 50 de 110...\n",
      "Processando 51 de 110...\n",
      "Processando 52 de 110...\n",
      "Processando 53 de 110...\n",
      "Processando 54 de 110...\n",
      "Processando 55 de 110...\n",
      "Processando 56 de 110...\n",
      "Processando 57 de 110...\n",
      "Processando 58 de 110...\n",
      "Processando 59 de 110...\n",
      "Processando 60 de 110...\n",
      "Processando 61 de 110...\n",
      "Processando 62 de 110...\n",
      "Processando 63 de 110...\n",
      "Processando 64 de 110...\n",
      "Processando 65 de 110...\n",
      "Processando 66 de 110...\n",
      "Processando 67 de 110...\n",
      "Processando 68 de 110...\n",
      "Processando 69 de 110...\n",
      "Processando 70 de 110...\n",
      "Processando 71 de 110...\n",
      "Processando 72 de 110...\n",
      "Processando 73 de 110...\n",
      "Processando 74 de 110...\n",
      "Processando 75 de 110...\n",
      "Processando 76 de 110...\n",
      "Processando 77 de 110...\n",
      "Processando 78 de 110...\n",
      "Processando 79 de 110...\n",
      "Processando 80 de 110...\n",
      "Processando 81 de 110...\n",
      "Processando 82 de 110...\n",
      "Processando 83 de 110...\n",
      "Processando 84 de 110...\n",
      "Processando 85 de 110...\n",
      "Processando 86 de 110...\n",
      "Processando 87 de 110...\n",
      "Processando 88 de 110...\n",
      "Processando 89 de 110...\n",
      "Processando 90 de 110...\n",
      "Processando 91 de 110...\n",
      "Processando 92 de 110...\n",
      "Processando 93 de 110...\n",
      "Processando 94 de 110...\n",
      "Processando 95 de 110...\n",
      "Processando 96 de 110...\n",
      "Processando 97 de 110...\n",
      "Processando 98 de 110...\n",
      "Processando 99 de 110...\n",
      "Processando 100 de 110...\n",
      "Processando 101 de 110...\n",
      "Processando 102 de 110...\n",
      "Processando 103 de 110...\n",
      "Processando 104 de 110...\n",
      "Processando 105 de 110...\n",
      "Processando 106 de 110...\n",
      "Processando 107 de 110...\n",
      "Processando 108 de 110...\n",
      "Processando 109 de 110...\n"
     ]
    }
   ],
   "source": [
    "for i in range(0, n_links):\n",
    "\n",
    "    print(f\"Processando {i} de {n_links}...\")\n",
    "    \n",
    "    link = df.links.iloc[i]\n",
    "    try: \n",
    "        paragrafos, miolo = limpa_paragrafos(link, 70)\n",
    "        df.loc[(df.links == link), \"paragrafos_resgatados\"] = str(paragrafos)\n",
    "        df.loc[(df.links == link), \"texto_completo\"] = str(miolo)\n",
    "    except:\n",
    "        df.loc[(df.links == link), \"paragrafos_resgatados\"] = \"[]\"\n",
    "        df.loc[(df.links == link), \"texto_completo\"] = \"[]\""
   ]
  },
  {
   "cell_type": "code",
   "execution_count": 59,
   "id": "838888ff",
   "metadata": {},
   "outputs": [
    {
     "data": {
      "text/html": [
       "<div>\n",
       "<style scoped>\n",
       "    .dataframe tbody tr th:only-of-type {\n",
       "        vertical-align: middle;\n",
       "    }\n",
       "\n",
       "    .dataframe tbody tr th {\n",
       "        vertical-align: top;\n",
       "    }\n",
       "\n",
       "    .dataframe thead th {\n",
       "        text-align: right;\n",
       "    }\n",
       "</style>\n",
       "<table border=\"1\" class=\"dataframe\">\n",
       "  <thead>\n",
       "    <tr style=\"text-align: right;\">\n",
       "      <th></th>\n",
       "      <th>n</th>\n",
       "      <th>links</th>\n",
       "      <th>paragrafos_resgatados</th>\n",
       "      <th>texto_completo</th>\n",
       "    </tr>\n",
       "  </thead>\n",
       "  <tbody>\n",
       "    <tr>\n",
       "      <th>0</th>\n",
       "      <td>0</td>\n",
       "      <td>https://www1.folha.uol.com.br/blogs/saude-ment...</td>\n",
       "      <td>['Durante o curso do episódio, afirma o médico...</td>\n",
       "      <td>['BBB: Entenda o que é quadro psicótico agudo ...</td>\n",
       "    </tr>\n",
       "    <tr>\n",
       "      <th>1</th>\n",
       "      <td>1</td>\n",
       "      <td>https://www1.folha.uol.com.br/cotidiano/2024/0...</td>\n",
       "      <td>['Embora tenham reconhecido que o réu agiu de ...</td>\n",
       "      <td>['Begoleã Mendes fará tratamento psiquiátrico ...</td>\n",
       "    </tr>\n",
       "    <tr>\n",
       "      <th>2</th>\n",
       "      <td>2</td>\n",
       "      <td>https://www1.folha.uol.com.br/equilibrioesaude...</td>\n",
       "      <td>[', deficiência intelectual, esquizofrenia, al...</td>\n",
       "      <td>['Transtornos mentais afetam vida saudável de ...</td>\n",
       "    </tr>\n",
       "    <tr>\n",
       "      <th>3</th>\n",
       "      <td>3</td>\n",
       "      <td>https://www1.folha.uol.com.br/ciencia/2023/12/...</td>\n",
       "      <td>['Em 2019, a equipe de van den Heuvel demonstr...</td>\n",
       "      <td>['A importância do tamanho do cérebro para a i...</td>\n",
       "    </tr>\n",
       "    <tr>\n",
       "      <th>4</th>\n",
       "      <td>4</td>\n",
       "      <td>https://www1.folha.uol.com.br/equilibrioesaude...</td>\n",
       "      <td>['Um outro estudo publicado pelo seu grupo em ...</td>\n",
       "      <td>['IA diagnostica autismo usando imagem da reti...</td>\n",
       "    </tr>\n",
       "  </tbody>\n",
       "</table>\n",
       "</div>"
      ],
      "text/plain": [
       "   n                                              links  \\\n",
       "0  0  https://www1.folha.uol.com.br/blogs/saude-ment...   \n",
       "1  1  https://www1.folha.uol.com.br/cotidiano/2024/0...   \n",
       "2  2  https://www1.folha.uol.com.br/equilibrioesaude...   \n",
       "3  3  https://www1.folha.uol.com.br/ciencia/2023/12/...   \n",
       "4  4  https://www1.folha.uol.com.br/equilibrioesaude...   \n",
       "\n",
       "                               paragrafos_resgatados  \\\n",
       "0  ['Durante o curso do episódio, afirma o médico...   \n",
       "1  ['Embora tenham reconhecido que o réu agiu de ...   \n",
       "2  [', deficiência intelectual, esquizofrenia, al...   \n",
       "3  ['Em 2019, a equipe de van den Heuvel demonstr...   \n",
       "4  ['Um outro estudo publicado pelo seu grupo em ...   \n",
       "\n",
       "                                      texto_completo  \n",
       "0  ['BBB: Entenda o que é quadro psicótico agudo ...  \n",
       "1  ['Begoleã Mendes fará tratamento psiquiátrico ...  \n",
       "2  ['Transtornos mentais afetam vida saudável de ...  \n",
       "3  ['A importância do tamanho do cérebro para a i...  \n",
       "4  ['IA diagnostica autismo usando imagem da reti...  "
      ]
     },
     "execution_count": 59,
     "metadata": {},
     "output_type": "execute_result"
    }
   ],
   "source": [
    "df.head()"
   ]
  },
  {
   "cell_type": "code",
   "execution_count": 60,
   "id": "c998878d",
   "metadata": {},
   "outputs": [],
   "source": [
    "df1 = df.query(\"paragrafos_resgatados != '[]'\")"
   ]
  },
  {
   "cell_type": "code",
   "execution_count": 61,
   "id": "b9280ffc",
   "metadata": {},
   "outputs": [
    {
     "data": {
      "text/plain": [
       "(88, 4)"
      ]
     },
     "execution_count": 61,
     "metadata": {},
     "output_type": "execute_result"
    }
   ],
   "source": [
    "df1.shape"
   ]
  },
  {
   "cell_type": "code",
   "execution_count": 62,
   "id": "f3c67d61",
   "metadata": {},
   "outputs": [],
   "source": [
    "prox_pasta = \"s1_pasta_04_2024\""
   ]
  },
  {
   "cell_type": "code",
   "execution_count": 63,
   "id": "4d4f2230",
   "metadata": {},
   "outputs": [],
   "source": [
    "df1.to_csv(f\"../{prox_pasta}/{base_inicial}_completo_resgatado.csv\", index = False)"
   ]
  },
  {
   "cell_type": "code",
   "execution_count": 64,
   "id": "97f0df86",
   "metadata": {},
   "outputs": [],
   "source": [
    "# df[df.paragrafos_resgatados.notnull()].to_csv(\"links_estadao_resgatados_parte_3.csv\", index = False)\n",
    "# df[df.paragrafos_resgatados.isnull()].to_csv(\"links_estadao_nulos.csv\", index = False)\n"
   ]
  },
  {
   "cell_type": "code",
   "execution_count": 65,
   "id": "3cd77677",
   "metadata": {},
   "outputs": [],
   "source": [
    "# df = pd.read_csv(\"links_estadao_resgatados.csv\")\n",
    "# df.shape"
   ]
  },
  {
   "cell_type": "code",
   "execution_count": 66,
   "id": "d74f4e27",
   "metadata": {},
   "outputs": [
    {
     "data": {
      "text/html": [
       "<div>\n",
       "<style scoped>\n",
       "    .dataframe tbody tr th:only-of-type {\n",
       "        vertical-align: middle;\n",
       "    }\n",
       "\n",
       "    .dataframe tbody tr th {\n",
       "        vertical-align: top;\n",
       "    }\n",
       "\n",
       "    .dataframe thead th {\n",
       "        text-align: right;\n",
       "    }\n",
       "</style>\n",
       "<table border=\"1\" class=\"dataframe\">\n",
       "  <thead>\n",
       "    <tr style=\"text-align: right;\">\n",
       "      <th></th>\n",
       "      <th>n</th>\n",
       "      <th>links</th>\n",
       "      <th>paragrafos_resgatados</th>\n",
       "      <th>texto_completo</th>\n",
       "    </tr>\n",
       "  </thead>\n",
       "  <tbody>\n",
       "    <tr>\n",
       "      <th>8</th>\n",
       "      <td>8</td>\n",
       "      <td>https://www1.folha.uol.com.br/colunas/monicabe...</td>\n",
       "      <td>[]</td>\n",
       "      <td>['Fiocruz: Jovens sofrem um terço dos acidente...</td>\n",
       "    </tr>\n",
       "    <tr>\n",
       "      <th>9</th>\n",
       "      <td>9</td>\n",
       "      <td>https://www1.folha.uol.com.br/ciencia/2023/12/...</td>\n",
       "      <td>[]</td>\n",
       "      <td>['Genes que aumentam a fertilidade também encu...</td>\n",
       "    </tr>\n",
       "    <tr>\n",
       "      <th>15</th>\n",
       "      <td>15</td>\n",
       "      <td>https://www1.folha.uol.com.br/equilibrio/2023/...</td>\n",
       "      <td>[]</td>\n",
       "      <td>['Doença mental na 3ª idade aumenta o risco de...</td>\n",
       "    </tr>\n",
       "    <tr>\n",
       "      <th>17</th>\n",
       "      <td>17</td>\n",
       "      <td>https://www1.folha.uol.com.br/equilibrioesaude...</td>\n",
       "      <td>[]</td>\n",
       "      <td>['Por que psiquiatras começam a prescrever Oze...</td>\n",
       "    </tr>\n",
       "    <tr>\n",
       "      <th>18</th>\n",
       "      <td>18</td>\n",
       "      <td>https://www1.folha.uol.com.br/equilibrio/2023/...</td>\n",
       "      <td>[]</td>\n",
       "      <td>['Saiba como fazer tratamento para depressão n...</td>\n",
       "    </tr>\n",
       "    <tr>\n",
       "      <th>20</th>\n",
       "      <td>20</td>\n",
       "      <td>https://www1.folha.uol.com.br/equilibrio/2023/...</td>\n",
       "      <td>[]</td>\n",
       "      <td>['Saúde mental é uma prioridade para saúde púb...</td>\n",
       "    </tr>\n",
       "    <tr>\n",
       "      <th>23</th>\n",
       "      <td>23</td>\n",
       "      <td>https://www1.folha.uol.com.br/equilibrio/2023/...</td>\n",
       "      <td>[]</td>\n",
       "      <td>['Suicídio: estudo associa tentativa a fatores...</td>\n",
       "    </tr>\n",
       "    <tr>\n",
       "      <th>25</th>\n",
       "      <td>25</td>\n",
       "      <td>https://www1.folha.uol.com.br/equilibrio/2023/...</td>\n",
       "      <td>[]</td>\n",
       "      <td>['Rachel Aviv escreve sobre transtornos mentai...</td>\n",
       "    </tr>\n",
       "    <tr>\n",
       "      <th>28</th>\n",
       "      <td>28</td>\n",
       "      <td>https://www1.folha.uol.com.br/equilibrioesaude...</td>\n",
       "      <td>[]</td>\n",
       "      <td>['Paralisia cerebral: Neuralink iniciará teste...</td>\n",
       "    </tr>\n",
       "    <tr>\n",
       "      <th>29</th>\n",
       "      <td>29</td>\n",
       "      <td>https://www1.folha.uol.com.br/blogs/saude-ment...</td>\n",
       "      <td>[]</td>\n",
       "      <td>['USP oferece palestras gratuitas sobre saúde ...</td>\n",
       "    </tr>\n",
       "    <tr>\n",
       "      <th>30</th>\n",
       "      <td>30</td>\n",
       "      <td>https://www1.folha.uol.com.br/equilibrioesaude...</td>\n",
       "      <td>[]</td>\n",
       "      <td>['Descriminalizar maconha pode ter efeitos noc...</td>\n",
       "    </tr>\n",
       "    <tr>\n",
       "      <th>31</th>\n",
       "      <td>31</td>\n",
       "      <td>https://www1.folha.uol.com.br/equilibrio/2023/...</td>\n",
       "      <td>[]</td>\n",
       "      <td>['Suicídio: doenças tratáveis são causa; saiba...</td>\n",
       "    </tr>\n",
       "    <tr>\n",
       "      <th>37</th>\n",
       "      <td>37</td>\n",
       "      <td>https://www1.folha.uol.com.br/equilibrio/2023/...</td>\n",
       "      <td>[]</td>\n",
       "      <td>['Uso de maconha estimula consumo de álcool em...</td>\n",
       "    </tr>\n",
       "    <tr>\n",
       "      <th>40</th>\n",
       "      <td>40</td>\n",
       "      <td>https://www1.folha.uol.com.br/cotidiano/2023/0...</td>\n",
       "      <td>[]</td>\n",
       "      <td>['Caso Genivaldo: Dino anuncia demissão de pol...</td>\n",
       "    </tr>\n",
       "    <tr>\n",
       "      <th>48</th>\n",
       "      <td>48</td>\n",
       "      <td>https://www1.folha.uol.com.br/equilibrio/2023/...</td>\n",
       "      <td>[]</td>\n",
       "      <td>['Como novelas abordam personagens com transto...</td>\n",
       "    </tr>\n",
       "    <tr>\n",
       "      <th>49</th>\n",
       "      <td>49</td>\n",
       "      <td>https://www1.folha.uol.com.br/equilibrio/2023/...</td>\n",
       "      <td>[]</td>\n",
       "      <td>['Por que tantas meninas sofrem de anorexia? -...</td>\n",
       "    </tr>\n",
       "    <tr>\n",
       "      <th>54</th>\n",
       "      <td>54</td>\n",
       "      <td>https://www1.folha.uol.com.br/equilibrioesaude...</td>\n",
       "      <td>[]</td>\n",
       "      <td>['Cordão de girassol vai sinalizar deficiência...</td>\n",
       "    </tr>\n",
       "    <tr>\n",
       "      <th>69</th>\n",
       "      <td>69</td>\n",
       "      <td>https://www1.folha.uol.com.br/mundo/2023/06/mo...</td>\n",
       "      <td>[]</td>\n",
       "      <td>['Morre nos EUA Theodore Kaczynski, o terroris...</td>\n",
       "    </tr>\n",
       "    <tr>\n",
       "      <th>70</th>\n",
       "      <td>70</td>\n",
       "      <td>https://www1.folha.uol.com.br/colunas/nosso-es...</td>\n",
       "      <td>[]</td>\n",
       "      <td>['Nosso Pagão Amor: Beatriz e Mateus na Conven...</td>\n",
       "    </tr>\n",
       "    <tr>\n",
       "      <th>81</th>\n",
       "      <td>81</td>\n",
       "      <td>https://www1.folha.uol.com.br/mundo/2023/05/ci...</td>\n",
       "      <td>[]</td>\n",
       "      <td>['Cidade na Bélgica abriga pacientes psiquiátr...</td>\n",
       "    </tr>\n",
       "    <tr>\n",
       "      <th>83</th>\n",
       "      <td>83</td>\n",
       "      <td>https://www1.folha.uol.com.br/equilibrioesaude...</td>\n",
       "      <td>[]</td>\n",
       "      <td>[\"O mistério do 'genoma obscuro' que compõe 98...</td>\n",
       "    </tr>\n",
       "    <tr>\n",
       "      <th>99</th>\n",
       "      <td>99</td>\n",
       "      <td>https://www1.folha.uol.com.br/mundo/2023/03/ny...</td>\n",
       "      <td>[]</td>\n",
       "      <td>['Prefeito de Nova York amplia serviços de saú...</td>\n",
       "    </tr>\n",
       "  </tbody>\n",
       "</table>\n",
       "</div>"
      ],
      "text/plain": [
       "     n                                              links  \\\n",
       "8    8  https://www1.folha.uol.com.br/colunas/monicabe...   \n",
       "9    9  https://www1.folha.uol.com.br/ciencia/2023/12/...   \n",
       "15  15  https://www1.folha.uol.com.br/equilibrio/2023/...   \n",
       "17  17  https://www1.folha.uol.com.br/equilibrioesaude...   \n",
       "18  18  https://www1.folha.uol.com.br/equilibrio/2023/...   \n",
       "20  20  https://www1.folha.uol.com.br/equilibrio/2023/...   \n",
       "23  23  https://www1.folha.uol.com.br/equilibrio/2023/...   \n",
       "25  25  https://www1.folha.uol.com.br/equilibrio/2023/...   \n",
       "28  28  https://www1.folha.uol.com.br/equilibrioesaude...   \n",
       "29  29  https://www1.folha.uol.com.br/blogs/saude-ment...   \n",
       "30  30  https://www1.folha.uol.com.br/equilibrioesaude...   \n",
       "31  31  https://www1.folha.uol.com.br/equilibrio/2023/...   \n",
       "37  37  https://www1.folha.uol.com.br/equilibrio/2023/...   \n",
       "40  40  https://www1.folha.uol.com.br/cotidiano/2023/0...   \n",
       "48  48  https://www1.folha.uol.com.br/equilibrio/2023/...   \n",
       "49  49  https://www1.folha.uol.com.br/equilibrio/2023/...   \n",
       "54  54  https://www1.folha.uol.com.br/equilibrioesaude...   \n",
       "69  69  https://www1.folha.uol.com.br/mundo/2023/06/mo...   \n",
       "70  70  https://www1.folha.uol.com.br/colunas/nosso-es...   \n",
       "81  81  https://www1.folha.uol.com.br/mundo/2023/05/ci...   \n",
       "83  83  https://www1.folha.uol.com.br/equilibrioesaude...   \n",
       "99  99  https://www1.folha.uol.com.br/mundo/2023/03/ny...   \n",
       "\n",
       "   paragrafos_resgatados                                     texto_completo  \n",
       "8                     []  ['Fiocruz: Jovens sofrem um terço dos acidente...  \n",
       "9                     []  ['Genes que aumentam a fertilidade também encu...  \n",
       "15                    []  ['Doença mental na 3ª idade aumenta o risco de...  \n",
       "17                    []  ['Por que psiquiatras começam a prescrever Oze...  \n",
       "18                    []  ['Saiba como fazer tratamento para depressão n...  \n",
       "20                    []  ['Saúde mental é uma prioridade para saúde púb...  \n",
       "23                    []  ['Suicídio: estudo associa tentativa a fatores...  \n",
       "25                    []  ['Rachel Aviv escreve sobre transtornos mentai...  \n",
       "28                    []  ['Paralisia cerebral: Neuralink iniciará teste...  \n",
       "29                    []  ['USP oferece palestras gratuitas sobre saúde ...  \n",
       "30                    []  ['Descriminalizar maconha pode ter efeitos noc...  \n",
       "31                    []  ['Suicídio: doenças tratáveis são causa; saiba...  \n",
       "37                    []  ['Uso de maconha estimula consumo de álcool em...  \n",
       "40                    []  ['Caso Genivaldo: Dino anuncia demissão de pol...  \n",
       "48                    []  ['Como novelas abordam personagens com transto...  \n",
       "49                    []  ['Por que tantas meninas sofrem de anorexia? -...  \n",
       "54                    []  ['Cordão de girassol vai sinalizar deficiência...  \n",
       "69                    []  ['Morre nos EUA Theodore Kaczynski, o terroris...  \n",
       "70                    []  ['Nosso Pagão Amor: Beatriz e Mateus na Conven...  \n",
       "81                    []  ['Cidade na Bélgica abriga pacientes psiquiátr...  \n",
       "83                    []  [\"O mistério do 'genoma obscuro' que compõe 98...  \n",
       "99                    []  ['Prefeito de Nova York amplia serviços de saú...  "
      ]
     },
     "execution_count": 66,
     "metadata": {},
     "output_type": "execute_result"
    }
   ],
   "source": [
    "t = df.query(\"paragrafos_resgatados == '[]'\")\n",
    "t"
   ]
  },
  {
   "cell_type": "code",
   "execution_count": 81,
   "id": "ca1d5b3b",
   "metadata": {},
   "outputs": [
    {
     "data": {
      "text/plain": [
       "'https://www1.folha.uol.com.br/blogs/saude-mental/2023/09/ipq-portas-abertas-oferece-mais-de-150-palestras-e-atividades-gratuitas-sobre-saude-mental.shtml'"
      ]
     },
     "execution_count": 81,
     "metadata": {},
     "output_type": "execute_result"
    }
   ],
   "source": [
    "t.links.values[9]"
   ]
  },
  {
   "cell_type": "code",
   "execution_count": 82,
   "id": "408e44b3",
   "metadata": {},
   "outputs": [
    {
     "data": {
      "text/plain": [
       "(22, 4)"
      ]
     },
     "execution_count": 82,
     "metadata": {},
     "output_type": "execute_result"
    }
   ],
   "source": [
    "t.shape"
   ]
  },
  {
   "cell_type": "code",
   "execution_count": 83,
   "id": "a512428e",
   "metadata": {},
   "outputs": [],
   "source": [
    "t.to_csv(f\"{base_inicial}_resgatado_vazio.csv\", index = False)"
   ]
  },
  {
   "cell_type": "code",
   "execution_count": null,
   "id": "0857a151",
   "metadata": {},
   "outputs": [],
   "source": []
  }
 ],
 "metadata": {
  "colab": {
   "name": "tratamento_word2vec.ipynb",
   "provenance": []
  },
  "kernelspec": {
   "display_name": "Python 3.10.4 64-bit",
   "language": "python",
   "name": "python3"
  },
  "language_info": {
   "codemirror_mode": {
    "name": "ipython",
    "version": 3
   },
   "file_extension": ".py",
   "mimetype": "text/x-python",
   "name": "python",
   "nbconvert_exporter": "python",
   "pygments_lexer": "ipython3",
   "version": "3.9.15"
  },
  "vscode": {
   "interpreter": {
    "hash": "2ad2ee33b41c9e762ad5bf2f0a3cb009dc3eaf5b09d1ee5fae31ac4a948dfd78"
   }
  }
 },
 "nbformat": 4,
 "nbformat_minor": 5
}
