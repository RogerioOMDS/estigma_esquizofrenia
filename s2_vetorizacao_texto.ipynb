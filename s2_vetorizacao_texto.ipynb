{
 "cells": [
  {
   "cell_type": "code",
   "execution_count": 1,
   "id": "f661f7e3-f920-4a8a-8847-488e7ae15cac",
   "metadata": {},
   "outputs": [],
   "source": [
    "import pandas as pd \n",
    "import numpy as np \n",
    "from gensim.models import Word2Vec\n",
    "from gensim.models import KeyedVectors"
   ]
  },
  {
   "cell_type": "code",
   "execution_count": 2,
   "id": "1138532e-e32d-4bbc-90e4-975e9b6572e5",
   "metadata": {},
   "outputs": [],
   "source": [
    "dim = 600"
   ]
  },
  {
   "cell_type": "code",
   "execution_count": 3,
   "id": "f0f4f04d-c0ea-4a8f-a53d-0ecf1b0373e9",
   "metadata": {},
   "outputs": [],
   "source": [
    "def vetorizar_frase(frases): # recebe lista de palavras e modelo\n",
    "    frases = str(frases).split(\" \")\n",
    "    vetor_frase = np.zeros((1,dim))  \n",
    "    for palavra in frases:\n",
    "        try:\n",
    "            vetor_frase += modelo_cbow.get_vector(palavra) # Para cada palavra vetorizada, soma nas frases\n",
    "\n",
    "        except KeyError:\n",
    "            pass\n",
    "    \n",
    "    return vetor_frase\n",
    "\n",
    "def vetorizar_texto(texto):\n",
    "    x = len(texto)\n",
    "    y = dim\n",
    "    matriz = np.zeros((x,y))\n",
    "\n",
    "    for i in range(x):\n",
    "        matriz[i] = vetorizar_frase(texto.iloc[i].split()) # coloca cada frase vetor em sua devida linha da matriz\n",
    "\n",
    "    return matriz \n",
    "\n",
    "def vetorizador(str_paragrafos):\n",
    "    # lista_paragrafos = eval(str_paragrafos)\n",
    "    lista_vetores = []\n",
    "    for paragrafo in lista_paragrafos:\n",
    "        vetor = vetorizar_frase(paragrafo, modelo_cbow)\n",
    "        lista_vetores.append(vetor)\n",
    "    \n",
    "    return str(lista_vetores)"
   ]
  },
  {
   "cell_type": "code",
   "execution_count": 4,
   "id": "92c7eb27-1b36-46dc-a3c6-a329b3bb801d",
   "metadata": {},
   "outputs": [],
   "source": [
    "modelo_cbow = KeyedVectors.load_word2vec_format(f\"cbow_s{dim}.txt\")"
   ]
  },
  {
   "cell_type": "code",
   "execution_count": 5,
   "id": "885228ef-8cd0-473d-a891-9fea92665c54",
   "metadata": {},
   "outputs": [
    {
     "data": {
      "text/plain": [
       "[('demência', 0.47918573021888733),\n",
       " ('asma', 0.46348580718040466),\n",
       " ('insônia', 0.4630206823348999),\n",
       " ('epilepsia', 0.45171910524368286),\n",
       " ('dislexia', 0.45087867975234985),\n",
       " ('hemofilia', 0.44807612895965576),\n",
       " ('leucemia', 0.43610063195228577),\n",
       " ('narcolepsia', 0.43368950486183167),\n",
       " ('aterosclerose', 0.4336549639701843),\n",
       " ('doença', 0.43230053782463074)]"
      ]
     },
     "execution_count": 5,
     "metadata": {},
     "output_type": "execute_result"
    }
   ],
   "source": [
    "modelo_cbow.most_similar(\"esquizofrenia\")"
   ]
  },
  {
   "cell_type": "code",
   "execution_count": 6,
   "id": "985a1cfe-b873-47f4-b340-135655b18ea6",
   "metadata": {},
   "outputs": [],
   "source": [
    "# base = \"bases_treino_teste\"\n",
    "# base = \"bases_aplicacao\"\n",
    "# base = \"pasta_09_2023\"\n",
    "base = \"pasta_04_2024\""
   ]
  },
  {
   "cell_type": "code",
   "execution_count": 35,
   "id": "918c4614-af82-4237-83d3-763341227735",
   "metadata": {},
   "outputs": [],
   "source": [
    "# arquivo = \"tratado_links_estadao_rotulados_base_estigma_resgatados.csv\"\n",
    "# arquivo = \"tratado_links_estadao_rotulados_resgatados.csv\"\n",
    "# arquivo = \"tratado_links_folha_rotulados_base_estigma_resgatados.csv\"\n",
    "# arquivo = \"tratado_links_correio_do_povo_organizado_paragrafos_resgatados.csv\"\n",
    "# arquivo = \"tratado_links_folha_sem_rotulo_resgatados.csv\"\n",
    "# arquivo = \"tratado_links_estadao_resgatados.csv\"\n",
    "\n",
    "# arquivo = \"tratado_links_folha_09_2023.csv_completo_resgatado.csv\"\n",
    "# arquivo = \"tratado_links_estadao_09_2023.csv_completo_resgatado.csv\"\n",
    "# arquivo = \"tratado_links_correio_09_2023.csv_completo_resgatado.csv\"\n",
    "\n",
    "arquivo = \"tratado_links_folha_04_2024.csv_completo_resgatado.csv\"\n",
    "# arquivo = \"tratado_links_estadao_04_2024.csv_completo_resgatado.csv\"\n",
    "# arquivo = \"tratado_links_correio_04_2024.csv_completo_resgatado.csv\""
   ]
  },
  {
   "cell_type": "code",
   "execution_count": 36,
   "id": "6233dd38-4f98-43e3-b061-1d60c928ae25",
   "metadata": {},
   "outputs": [
    {
     "data": {
      "text/plain": [
       "(88, 5)"
      ]
     },
     "execution_count": 36,
     "metadata": {},
     "output_type": "execute_result"
    }
   ],
   "source": [
    "df = pd.read_csv(f\"s2_base_tratada/{base}/{arquivo}\")\n",
    "df.shape"
   ]
  },
  {
   "cell_type": "code",
   "execution_count": 37,
   "id": "ff6633ce-d25c-443f-bc98-150cc2ef266f",
   "metadata": {},
   "outputs": [
    {
     "data": {
      "text/html": [
       "<div>\n",
       "<style scoped>\n",
       "    .dataframe tbody tr th:only-of-type {\n",
       "        vertical-align: middle;\n",
       "    }\n",
       "\n",
       "    .dataframe tbody tr th {\n",
       "        vertical-align: top;\n",
       "    }\n",
       "\n",
       "    .dataframe thead th {\n",
       "        text-align: right;\n",
       "    }\n",
       "</style>\n",
       "<table border=\"1\" class=\"dataframe\">\n",
       "  <thead>\n",
       "    <tr style=\"text-align: right;\">\n",
       "      <th></th>\n",
       "      <th>n</th>\n",
       "      <th>links</th>\n",
       "      <th>paragrafos_resgatados</th>\n",
       "      <th>texto_completo</th>\n",
       "      <th>paragrafos_tratados_sw</th>\n",
       "    </tr>\n",
       "  </thead>\n",
       "  <tbody>\n",
       "    <tr>\n",
       "      <th>0</th>\n",
       "      <td>0</td>\n",
       "      <td>https://www1.folha.uol.com.br/blogs/saude-ment...</td>\n",
       "      <td>['Durante o curso do episódio, afirma o médico...</td>\n",
       "      <td>['BBB: Entenda o que é quadro psicótico agudo ...</td>\n",
       "      <td>['durante curso episódio afirma médico importa...</td>\n",
       "    </tr>\n",
       "    <tr>\n",
       "      <th>1</th>\n",
       "      <td>1</td>\n",
       "      <td>https://www1.folha.uol.com.br/cotidiano/2024/0...</td>\n",
       "      <td>['Embora tenham reconhecido que o réu agiu de ...</td>\n",
       "      <td>['Begoleã Mendes fará tratamento psiquiátrico ...</td>\n",
       "      <td>['tenham reconhecido réu agiu maneira premedit...</td>\n",
       "    </tr>\n",
       "    <tr>\n",
       "      <th>2</th>\n",
       "      <td>2</td>\n",
       "      <td>https://www1.folha.uol.com.br/equilibrioesaude...</td>\n",
       "      <td>[', deficiência intelectual, esquizofrenia, al...</td>\n",
       "      <td>['Transtornos mentais afetam vida saudável de ...</td>\n",
       "      <td>['deficiência intelectual esquizofrenia transt...</td>\n",
       "    </tr>\n",
       "    <tr>\n",
       "      <th>3</th>\n",
       "      <td>3</td>\n",
       "      <td>https://www1.folha.uol.com.br/ciencia/2023/12/...</td>\n",
       "      <td>['Em 2019, a equipe de van den Heuvel demonstr...</td>\n",
       "      <td>['A importância do tamanho do cérebro para a i...</td>\n",
       "      <td>['equipe van den heuvel demonstrou padrões con...</td>\n",
       "    </tr>\n",
       "    <tr>\n",
       "      <th>4</th>\n",
       "      <td>4</td>\n",
       "      <td>https://www1.folha.uol.com.br/equilibrioesaude...</td>\n",
       "      <td>['Um outro estudo publicado pelo seu grupo em ...</td>\n",
       "      <td>['IA diagnostica autismo usando imagem da reti...</td>\n",
       "      <td>['outro estudo publicado aplicou metodologia c...</td>\n",
       "    </tr>\n",
       "    <tr>\n",
       "      <th>5</th>\n",
       "      <td>5</td>\n",
       "      <td>https://www1.folha.uol.com.br/blogs/vida-de-al...</td>\n",
       "      <td>['A clínica era em São Paulo, em uma casa com ...</td>\n",
       "      <td>['O Natal dos alcoólatras que estão em clínica...</td>\n",
       "      <td>['clínica paulo casa cara avó fiquei semana di...</td>\n",
       "    </tr>\n",
       "    <tr>\n",
       "      <th>6</th>\n",
       "      <td>6</td>\n",
       "      <td>https://www1.folha.uol.com.br/cotidiano/2023/1...</td>\n",
       "      <td>['Genivaldo tinha 38 anos, era negro e tinha e...</td>\n",
       "      <td>['PRF indicia servidor que criticou caso Geniv...</td>\n",
       "      <td>['genivaldo tinha anos negro tinha esquizofren...</td>\n",
       "    </tr>\n",
       "    <tr>\n",
       "      <th>7</th>\n",
       "      <td>7</td>\n",
       "      <td>https://www1.folha.uol.com.br/ilustrada/2023/1...</td>\n",
       "      <td>['Frame, que recebeu um diagnóstico equivocado...</td>\n",
       "      <td>['Rosa Montero faz autópsia invertida da loucu...</td>\n",
       "      <td>['frame recebeu diagnóstico equivocado esquizo...</td>\n",
       "    </tr>\n",
       "    <tr>\n",
       "      <th>8</th>\n",
       "      <td>10</td>\n",
       "      <td>https://www1.folha.uol.com.br/colunas/lucia-gu...</td>\n",
       "      <td>['O autor explica esta esquizofrenia cognitiva...</td>\n",
       "      <td>['Evangélicos dos EUA misturam Jesus com extre...</td>\n",
       "      <td>['autor explica esquizofrenia cognitiva compar...</td>\n",
       "    </tr>\n",
       "    <tr>\n",
       "      <th>9</th>\n",
       "      <td>11</td>\n",
       "      <td>https://www1.folha.uol.com.br/blogs/hashtag/20...</td>\n",
       "      <td>['sofria de esquizofrenia e passou a ter aluci...</td>\n",
       "      <td>['Mandela: Obama virou meme em tributo do líde...</td>\n",
       "      <td>['sofria esquizofrenia passou alucinações anjo...</td>\n",
       "    </tr>\n",
       "  </tbody>\n",
       "</table>\n",
       "</div>"
      ],
      "text/plain": [
       "    n                                              links  \\\n",
       "0   0  https://www1.folha.uol.com.br/blogs/saude-ment...   \n",
       "1   1  https://www1.folha.uol.com.br/cotidiano/2024/0...   \n",
       "2   2  https://www1.folha.uol.com.br/equilibrioesaude...   \n",
       "3   3  https://www1.folha.uol.com.br/ciencia/2023/12/...   \n",
       "4   4  https://www1.folha.uol.com.br/equilibrioesaude...   \n",
       "5   5  https://www1.folha.uol.com.br/blogs/vida-de-al...   \n",
       "6   6  https://www1.folha.uol.com.br/cotidiano/2023/1...   \n",
       "7   7  https://www1.folha.uol.com.br/ilustrada/2023/1...   \n",
       "8  10  https://www1.folha.uol.com.br/colunas/lucia-gu...   \n",
       "9  11  https://www1.folha.uol.com.br/blogs/hashtag/20...   \n",
       "\n",
       "                               paragrafos_resgatados  \\\n",
       "0  ['Durante o curso do episódio, afirma o médico...   \n",
       "1  ['Embora tenham reconhecido que o réu agiu de ...   \n",
       "2  [', deficiência intelectual, esquizofrenia, al...   \n",
       "3  ['Em 2019, a equipe de van den Heuvel demonstr...   \n",
       "4  ['Um outro estudo publicado pelo seu grupo em ...   \n",
       "5  ['A clínica era em São Paulo, em uma casa com ...   \n",
       "6  ['Genivaldo tinha 38 anos, era negro e tinha e...   \n",
       "7  ['Frame, que recebeu um diagnóstico equivocado...   \n",
       "8  ['O autor explica esta esquizofrenia cognitiva...   \n",
       "9  ['sofria de esquizofrenia e passou a ter aluci...   \n",
       "\n",
       "                                      texto_completo  \\\n",
       "0  ['BBB: Entenda o que é quadro psicótico agudo ...   \n",
       "1  ['Begoleã Mendes fará tratamento psiquiátrico ...   \n",
       "2  ['Transtornos mentais afetam vida saudável de ...   \n",
       "3  ['A importância do tamanho do cérebro para a i...   \n",
       "4  ['IA diagnostica autismo usando imagem da reti...   \n",
       "5  ['O Natal dos alcoólatras que estão em clínica...   \n",
       "6  ['PRF indicia servidor que criticou caso Geniv...   \n",
       "7  ['Rosa Montero faz autópsia invertida da loucu...   \n",
       "8  ['Evangélicos dos EUA misturam Jesus com extre...   \n",
       "9  ['Mandela: Obama virou meme em tributo do líde...   \n",
       "\n",
       "                              paragrafos_tratados_sw  \n",
       "0  ['durante curso episódio afirma médico importa...  \n",
       "1  ['tenham reconhecido réu agiu maneira premedit...  \n",
       "2  ['deficiência intelectual esquizofrenia transt...  \n",
       "3  ['equipe van den heuvel demonstrou padrões con...  \n",
       "4  ['outro estudo publicado aplicou metodologia c...  \n",
       "5  ['clínica paulo casa cara avó fiquei semana di...  \n",
       "6  ['genivaldo tinha anos negro tinha esquizofren...  \n",
       "7  ['frame recebeu diagnóstico equivocado esquizo...  \n",
       "8  ['autor explica esquizofrenia cognitiva compar...  \n",
       "9  ['sofria esquizofrenia passou alucinações anjo...  "
      ]
     },
     "execution_count": 37,
     "metadata": {},
     "output_type": "execute_result"
    }
   ],
   "source": [
    "df.head(10)"
   ]
  },
  {
   "cell_type": "code",
   "execution_count": 38,
   "id": "fa688b7f-e09f-4eee-8f0d-8914c7daa365",
   "metadata": {},
   "outputs": [],
   "source": [
    "df[\"paragrafos_tratados_sw\"] = df[\"paragrafos_tratados_sw\"].apply(eval)"
   ]
  },
  {
   "cell_type": "code",
   "execution_count": 39,
   "id": "a5169846-153f-4805-beea-c534cfa44186",
   "metadata": {},
   "outputs": [],
   "source": [
    "df = df.explode(\"paragrafos_tratados_sw\")"
   ]
  },
  {
   "cell_type": "code",
   "execution_count": 40,
   "id": "3deb4b91",
   "metadata": {},
   "outputs": [],
   "source": [
    "df = df.drop_duplicates(\"paragrafos_tratados_sw\")"
   ]
  },
  {
   "cell_type": "code",
   "execution_count": 41,
   "id": "2c7f0329",
   "metadata": {},
   "outputs": [],
   "source": [
    "df[\"paragrafos_tratados_sw\"] = df[\"paragrafos_tratados_sw\"].apply(lambda x: str(x).lower())"
   ]
  },
  {
   "cell_type": "code",
   "execution_count": 42,
   "id": "3780c7a4",
   "metadata": {},
   "outputs": [
    {
     "data": {
      "text/html": [
       "<div>\n",
       "<style scoped>\n",
       "    .dataframe tbody tr th:only-of-type {\n",
       "        vertical-align: middle;\n",
       "    }\n",
       "\n",
       "    .dataframe tbody tr th {\n",
       "        vertical-align: top;\n",
       "    }\n",
       "\n",
       "    .dataframe thead th {\n",
       "        text-align: right;\n",
       "    }\n",
       "</style>\n",
       "<table border=\"1\" class=\"dataframe\">\n",
       "  <thead>\n",
       "    <tr style=\"text-align: right;\">\n",
       "      <th></th>\n",
       "      <th>n</th>\n",
       "      <th>links</th>\n",
       "      <th>paragrafos_resgatados</th>\n",
       "      <th>texto_completo</th>\n",
       "      <th>paragrafos_tratados_sw</th>\n",
       "    </tr>\n",
       "  </thead>\n",
       "  <tbody>\n",
       "    <tr>\n",
       "      <th>0</th>\n",
       "      <td>0</td>\n",
       "      <td>https://www1.folha.uol.com.br/blogs/saude-ment...</td>\n",
       "      <td>['Durante o curso do episódio, afirma o médico...</td>\n",
       "      <td>['BBB: Entenda o que é quadro psicótico agudo ...</td>\n",
       "      <td>durante curso episódio afirma médico important...</td>\n",
       "    </tr>\n",
       "    <tr>\n",
       "      <th>1</th>\n",
       "      <td>1</td>\n",
       "      <td>https://www1.folha.uol.com.br/cotidiano/2024/0...</td>\n",
       "      <td>['Embora tenham reconhecido que o réu agiu de ...</td>\n",
       "      <td>['Begoleã Mendes fará tratamento psiquiátrico ...</td>\n",
       "      <td>tenham reconhecido réu agiu maneira premeditad...</td>\n",
       "    </tr>\n",
       "    <tr>\n",
       "      <th>1</th>\n",
       "      <td>1</td>\n",
       "      <td>https://www1.folha.uol.com.br/cotidiano/2024/0...</td>\n",
       "      <td>['Embora tenham reconhecido que o réu agiu de ...</td>\n",
       "      <td>['Begoleã Mendes fará tratamento psiquiátrico ...</td>\n",
       "      <td>interpretação réu delírio paranoico especialis...</td>\n",
       "    </tr>\n",
       "    <tr>\n",
       "      <th>2</th>\n",
       "      <td>2</td>\n",
       "      <td>https://www1.folha.uol.com.br/equilibrioesaude...</td>\n",
       "      <td>[', deficiência intelectual, esquizofrenia, al...</td>\n",
       "      <td>['Transtornos mentais afetam vida saudável de ...</td>\n",
       "      <td>deficiência intelectual esquizofrenia transtor...</td>\n",
       "    </tr>\n",
       "    <tr>\n",
       "      <th>3</th>\n",
       "      <td>3</td>\n",
       "      <td>https://www1.folha.uol.com.br/ciencia/2023/12/...</td>\n",
       "      <td>['Em 2019, a equipe de van den Heuvel demonstr...</td>\n",
       "      <td>['A importância do tamanho do cérebro para a i...</td>\n",
       "      <td>equipe van den heuvel demonstrou padrões conex...</td>\n",
       "    </tr>\n",
       "  </tbody>\n",
       "</table>\n",
       "</div>"
      ],
      "text/plain": [
       "   n                                              links  \\\n",
       "0  0  https://www1.folha.uol.com.br/blogs/saude-ment...   \n",
       "1  1  https://www1.folha.uol.com.br/cotidiano/2024/0...   \n",
       "1  1  https://www1.folha.uol.com.br/cotidiano/2024/0...   \n",
       "2  2  https://www1.folha.uol.com.br/equilibrioesaude...   \n",
       "3  3  https://www1.folha.uol.com.br/ciencia/2023/12/...   \n",
       "\n",
       "                               paragrafos_resgatados  \\\n",
       "0  ['Durante o curso do episódio, afirma o médico...   \n",
       "1  ['Embora tenham reconhecido que o réu agiu de ...   \n",
       "1  ['Embora tenham reconhecido que o réu agiu de ...   \n",
       "2  [', deficiência intelectual, esquizofrenia, al...   \n",
       "3  ['Em 2019, a equipe de van den Heuvel demonstr...   \n",
       "\n",
       "                                      texto_completo  \\\n",
       "0  ['BBB: Entenda o que é quadro psicótico agudo ...   \n",
       "1  ['Begoleã Mendes fará tratamento psiquiátrico ...   \n",
       "1  ['Begoleã Mendes fará tratamento psiquiátrico ...   \n",
       "2  ['Transtornos mentais afetam vida saudável de ...   \n",
       "3  ['A importância do tamanho do cérebro para a i...   \n",
       "\n",
       "                              paragrafos_tratados_sw  \n",
       "0  durante curso episódio afirma médico important...  \n",
       "1  tenham reconhecido réu agiu maneira premeditad...  \n",
       "1  interpretação réu delírio paranoico especialis...  \n",
       "2  deficiência intelectual esquizofrenia transtor...  \n",
       "3  equipe van den heuvel demonstrou padrões conex...  "
      ]
     },
     "execution_count": 42,
     "metadata": {},
     "output_type": "execute_result"
    }
   ],
   "source": [
    "df.head()"
   ]
  },
  {
   "cell_type": "code",
   "execution_count": 43,
   "id": "be8d7e42-d4c6-4086-9164-95b4a956e7b0",
   "metadata": {},
   "outputs": [],
   "source": [
    "x = df.shape[0]\n",
    "y = dim \n",
    "matriz = np.zeros((x,y))\n",
    "\n",
    "for i in range(x):\n",
    "    matriz[i] = vetorizar_frase(df[\"paragrafos_tratados_sw\"].values[i])"
   ]
  },
  {
   "cell_type": "code",
   "execution_count": 44,
   "id": "c6ba2c5a-728e-476c-8abf-75b66c5caaa2",
   "metadata": {},
   "outputs": [
    {
     "data": {
      "text/plain": [
       "(112, 600)"
      ]
     },
     "execution_count": 44,
     "metadata": {},
     "output_type": "execute_result"
    }
   ],
   "source": [
    "matriz.shape"
   ]
  },
  {
   "cell_type": "code",
   "execution_count": 45,
   "id": "9c98e284",
   "metadata": {},
   "outputs": [],
   "source": [
    "pasta_destino = \"s3_base_vetorizada_600\""
   ]
  },
  {
   "cell_type": "code",
   "execution_count": 46,
   "id": "67b8b004-19c8-4e4e-b7be-90996a5e14d2",
   "metadata": {},
   "outputs": [],
   "source": [
    "np.save(f\"{pasta_destino}/{base}/{arquivo}.npy\", matriz)"
   ]
  },
  {
   "cell_type": "code",
   "execution_count": 47,
   "id": "86ca19c8-36c8-4faa-9a24-5353305b694b",
   "metadata": {},
   "outputs": [],
   "source": [
    "df[\"paragrafos_tratados_sw_vetorizados\"] = df[\"paragrafos_tratados_sw\"].apply(vetorizar_frase)"
   ]
  },
  {
   "cell_type": "code",
   "execution_count": 48,
   "id": "76fdf010-9eee-4569-b27a-56b535a6ed42",
   "metadata": {},
   "outputs": [],
   "source": [
    "df.to_csv(f\"{pasta_destino}/{base}/{arquivo}\", index = False)"
   ]
  },
  {
   "cell_type": "code",
   "execution_count": null,
   "id": "11f55981-002a-4df0-bd49-98a77aedeb4a",
   "metadata": {},
   "outputs": [],
   "source": []
  },
  {
   "cell_type": "code",
   "execution_count": null,
   "id": "aa51068a-fe06-4814-8d6d-206375533336",
   "metadata": {},
   "outputs": [],
   "source": []
  },
  {
   "cell_type": "code",
   "execution_count": null,
   "id": "ba694905",
   "metadata": {},
   "outputs": [],
   "source": []
  }
 ],
 "metadata": {
  "kernelspec": {
   "display_name": "Python 3.7.13 ('tf-venv')",
   "language": "python",
   "name": "python3"
  },
  "language_info": {
   "codemirror_mode": {
    "name": "ipython",
    "version": 3
   },
   "file_extension": ".py",
   "mimetype": "text/x-python",
   "name": "python",
   "nbconvert_exporter": "python",
   "pygments_lexer": "ipython3",
   "version": "3.9.15"
  },
  "vscode": {
   "interpreter": {
    "hash": "a620e751919bbf4798da0a31f572336cd659817a2a18c3ab87fc834e5f2384e8"
   }
  }
 },
 "nbformat": 4,
 "nbformat_minor": 5
}
